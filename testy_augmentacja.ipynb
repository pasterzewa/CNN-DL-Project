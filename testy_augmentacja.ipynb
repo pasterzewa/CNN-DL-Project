{
 "cells": [
  {
   "cell_type": "markdown",
   "id": "fb6de9c9",
   "metadata": {},
   "source": [
    "# Import bibliotek"
   ]
  },
  {
   "cell_type": "code",
   "execution_count": 29,
   "id": "453412d6",
   "metadata": {},
   "outputs": [
    {
     "name": "stderr",
     "output_type": "stream",
     "text": [
      "c:\\Users\\kraft\\miniconda3\\envs\\tf\\lib\\site-packages\\tensorflow_addons\\utils\\tfa_eol_msg.py:23: UserWarning: \n",
      "\n",
      "TensorFlow Addons (TFA) has ended development and introduction of new features.\n",
      "TFA has entered a minimal maintenance and release mode until a planned end of life in May 2024.\n",
      "Please modify downstream libraries to take dependencies from other repositories in our TensorFlow community (e.g. Keras, Keras-CV, and Keras-NLP). \n",
      "\n",
      "For more information see: https://github.com/tensorflow/addons/issues/2807 \n",
      "\n",
      "  warnings.warn(\n",
      "c:\\Users\\kraft\\miniconda3\\envs\\tf\\lib\\site-packages\\tensorflow_addons\\utils\\ensure_tf_install.py:53: UserWarning: Tensorflow Addons supports using Python ops for all Tensorflow versions above or equal to 2.12.0 and strictly below 2.15.0 (nightly versions are not supported). \n",
      " The versions of TensorFlow you are currently using is 2.10.1 and is not supported. \n",
      "Some things might work, some things might not.\n",
      "If you were to encounter a bug, do not file an issue.\n",
      "If you want to make sure you're using a tested and supported configuration, either change the TensorFlow version or the TensorFlow Addons's version. \n",
      "You can find the compatibility matrix in TensorFlow Addon's readme:\n",
      "https://github.com/tensorflow/addons\n",
      "  warnings.warn(\n"
     ]
    }
   ],
   "source": [
    "import tensorflow as tf\n",
    "import tensorflow_addons as tfa\n",
    "from tensorflow import keras\n",
    "import matplotlib.pyplot as plt\n",
    "%matplotlib inline\n",
    "import numpy as np\n",
    "import seaborn as sn\n",
    "import pathlib\n",
    "import os\n",
    "from os import listdir\n",
    "import glob\n",
    "from PIL import Image\n",
    "import splitfolders\n",
    "from tensorflow.keras.preprocessing.image import ImageDataGenerator\n",
    "from tensorflow.keras.models import Sequential\n",
    "from tensorflow.keras.layers import (\n",
    "    Dense,\n",
    "    Conv2D,\n",
    "    MaxPool2D,\n",
    "    Flatten,\n",
    "    Dropout,\n",
    "    BatchNormalization,\n",
    "    LayerNormalization,\n",
    "    AveragePooling2D,   \n",
    ")\n",
    "\n",
    "cinic_directory_train = 'D:\\\\GitHub\\\\cinic-10_image_classification_challenge-dataset\\\\train' #'C:\\\\Users\\\\48695\\\\Documents\\\\Studia\\\\DLM\\\\Projekt CNN\\\\cinic-10_image_classification_challenge-dataset\\\\train'\n",
    "cinic_directory_test = 'D:\\\\GitHub\\\\cinic-10_image_classification_challenge-dataset\\\\test' #'C:\\\\Users\\\\48695\\\\Documents\\\\Studia\\DLM\\\\Projekt CNN\\\\cinic-10_image_classification_challenge-dataset\\\\test'\n",
    "\n",
    "SEED = 1337\n",
    "splitfolder = 'D:\\\\GitHub\\\\cinic-10_image_classification_challenge-dataset\\\\'+str(SEED)\n",
    "\n",
    "class_name = []\n",
    "file_name='output_fromKeras.csv'\n",
    "optimiser='adamax'\n",
    "nb_epochs=20\n",
    "batch_size_choice=16\n",
    "image_size=(32, 32)\n",
    "loss_func='categorical_crossentropy'"
   ]
  },
  {
   "cell_type": "markdown",
   "id": "6abd3991",
   "metadata": {},
   "source": [
    "# Funkcje pomocnicze"
   ]
  },
  {
   "cell_type": "code",
   "execution_count": 55,
   "id": "f3cd58f7",
   "metadata": {},
   "outputs": [],
   "source": [
    "def show_training_validation_loss_and_metrics(model,metrics):\n",
    "    f,ax=plt.subplots(2,1,figsize=(10,10)) \n",
    "\n",
    "    #Assigning the first subplot to graph training loss and validation loss\n",
    "    ax[0].plot(model.history.history['loss'],color='b',label='Training Loss')\n",
    "    ax[0].plot(model.history.history['val_loss'],color='r',label='Validation Loss')\n",
    "\n",
    "    #Plotting the training accuracy and validation accuracy\n",
    "    for metric in metrics:\n",
    "        ax[1].plot(model.history.history[metric],label='Training '+metric)\n",
    "        ax[1].plot(model.history.history['val_'+metric],label='Validation '+metric)\n",
    "\n",
    "    plt.legend() "
   ]
  },
  {
   "cell_type": "markdown",
   "id": "a446c48e",
   "metadata": {},
   "source": [
    "# Wczytanie danych"
   ]
  },
  {
   "cell_type": "code",
   "execution_count": 6,
   "id": "11c54232",
   "metadata": {},
   "outputs": [
    {
     "name": "stderr",
     "output_type": "stream",
     "text": [
      "Copying files: 90000 files [01:40, 893.06 files/s]\n"
     ]
    }
   ],
   "source": [
    "splitfolders.ratio(cinic_directory_train, output=splitfolder,\n",
    "    seed=SEED, ratio=(.7, .1, .2), group_prefix=None, move=False)"
   ]
  },
  {
   "cell_type": "code",
   "execution_count": 7,
   "id": "7d0d3e70",
   "metadata": {},
   "outputs": [],
   "source": [
    "datagen_train = ImageDataGenerator(\n",
    "    samplewise_center=True,  # set each sample mean to 0\n",
    "    rotation_range=10,  # randomly rotate images in the range (degrees, 0 to 180)\n",
    "    zoom_range=0.1,  # Randomly zoom image\n",
    "    width_shift_range=0.1,  # randomly shift images horizontally (fraction of total width)\n",
    "    height_shift_range=0.1,  # randomly shift images vertically (fraction of total height)\n",
    "    horizontal_flip=True,  # randomly flip images\n",
    "    vertical_flip=False,\n",
    "    brightness_range = [0.5,1.5],\n",
    "    shear_range = 0.1,\n",
    "    )\n",
    "datagen_valid = ImageDataGenerator(samplewise_center=True)"
   ]
  },
  {
   "cell_type": "code",
   "execution_count": 9,
   "id": "aa5dd7a7",
   "metadata": {},
   "outputs": [
    {
     "name": "stdout",
     "output_type": "stream",
     "text": [
      "Found 63000 images belonging to 10 classes.\n",
      "Found 9000 images belonging to 10 classes.\n",
      "Found 18000 images belonging to 10 classes.\n"
     ]
    }
   ],
   "source": [
    "# load and iterate training dataset\n",
    "train_it = datagen_train.flow_from_directory(\n",
    "    splitfolder+'\\\\train',\n",
    "    seed=SEED,\n",
    "    target_size=image_size,\n",
    "    batch_size=batch_size_choice,\n",
    "    color_mode=\"rgb\",\n",
    "    class_mode=\"categorical\",\n",
    ")\n",
    "# load and iterate validation dataset\n",
    "valid_it = datagen_valid.flow_from_directory(\n",
    "    splitfolder+'\\\\val',\n",
    "    seed=1337,\n",
    "    target_size=image_size,\n",
    "    batch_size=batch_size_choice,\n",
    "    color_mode=\"rgb\",\n",
    "    class_mode=\"categorical\",\n",
    ")\n",
    "# load and iterate validation dataset\n",
    "test_it = datagen_valid.flow_from_directory(\n",
    "    splitfolder+'\\\\test',\n",
    "    seed=1337,\n",
    "    target_size=image_size,\n",
    "    batch_size=batch_size_choice,\n",
    "    color_mode=\"rgb\",\n",
    "    class_mode=\"categorical\",\n",
    ")"
   ]
  },
  {
   "cell_type": "code",
   "execution_count": 40,
   "id": "7d7fcc3e",
   "metadata": {},
   "outputs": [
    {
     "name": "stdout",
     "output_type": "stream",
     "text": [
      "['airplane', 'automobile', 'bird', 'cat', 'deer', 'dog', 'frog', 'horse', 'ship', 'truck']\n"
     ]
    }
   ],
   "source": [
    "class_names= ['airplane','automobile','bird','cat','deer','dog','frog','horse','ship','truck']\n",
    "num_classes = len(class_names)\n",
    "print(class_names)\n",
    "\n",
    "metrics = ['categorical_accuracy','AUC','Precision','Recall', tfa.metrics.F1Score(num_classes=num_classes, threshold=0.5,average='weighted')]"
   ]
  },
  {
   "cell_type": "code",
   "execution_count": 5,
   "id": "c88c004b",
   "metadata": {},
   "outputs": [],
   "source": [
    "# Inicjalizacja słownika do zliczania liczby obrazów w każdej klasie\n",
    "#class_count = {class_name: 0 for class_name in class_names}\n",
    "\n",
    "# Przechodzenie przez zbiór danych i zliczanie obrazów w każdej klasie\n",
    "#for images, labels in train_ds:\n",
    "#    for label in labels.numpy():\n",
    "#        class_count[class_names[label]] += 1\n",
    "\n",
    "# Wyświetlenie liczby obrazów w każdej klasie\n",
    "#for class_name, count in class_count.items():\n",
    "#    print(f\"Liczba obrazów w klasie {class_name}: {count}\")\n",
    "\n",
    "# Dane do wykresu słupkowego\n",
    "#class_names = list(class_count.keys())\n",
    "#counts = list(class_count.values())\n",
    "\n",
    "# Tworzenie wykresu słupkowego\n",
    "#plt.figure(figsize=(10, 6))\n",
    "#plt.bar(class_names, counts, color='skyblue')\n",
    "#plt.xlabel('Klasa')\n",
    "#plt.ylabel('Liczba obrazów')\n",
    "#plt.title('Liczba obrazów w każdej klasie')\n",
    "#plt.xticks(rotation=45, ha='right')\n",
    "#plt.tight_layout()\n",
    "\n",
    "# Wyświetlenie wykresu\n",
    "#plt.show()"
   ]
  },
  {
   "cell_type": "markdown",
   "id": "2a183f59",
   "metadata": {},
   "source": [
    "# Architektura pierwszego modelu"
   ]
  },
  {
   "cell_type": "code",
   "execution_count": 41,
   "id": "4b39c955",
   "metadata": {},
   "outputs": [],
   "source": [
    "model1 = Sequential()\n",
    "\n",
    "model1.add(Conv2D(256, (3, 3), strides=1, padding=\"same\", activation=\"relu\", \n",
    "                 input_shape=(32, 32, 3)))\n",
    "model1.add(BatchNormalization())\n",
    "model1.add(MaxPool2D((2, 2), strides=2, padding=\"same\"))\n",
    "model1.add(Conv2D(128, (3, 3), strides=1, padding=\"same\", activation=\"relu\"))\n",
    "model1.add(BatchNormalization())\n",
    "model1.add(MaxPool2D((2, 2), strides=2, padding=\"same\"))\n",
    "model1.add(Dropout(0.2))\n",
    "model1.add(Conv2D(64, (3, 3), strides=1, padding=\"same\", activation=\"relu\"))\n",
    "model1.add(BatchNormalization())\n",
    "model1.add(MaxPool2D((2, 2), strides=2, padding=\"same\"))\n",
    "model1.add(Conv2D(32, (3, 3), strides=1, padding=\"same\", activation=\"relu\"))\n",
    "model1.add(BatchNormalization())\n",
    "model1.add(MaxPool2D((2, 2), strides=2, padding=\"same\"))\n",
    "model1.add(Flatten())\n",
    "model1.add(Dense(units=512))\n",
    "model1.add(Dropout(0.3))\n",
    "model1.add(Dense(units=num_classes, activation=\"softmax\"))"
   ]
  },
  {
   "cell_type": "code",
   "execution_count": 42,
   "id": "70189222",
   "metadata": {},
   "outputs": [],
   "source": [
    "model1.compile( \n",
    "    loss=loss_func,\n",
    "    metrics=metrics\n",
    ")"
   ]
  },
  {
   "cell_type": "code",
   "execution_count": 15,
   "id": "b6c1c13a",
   "metadata": {},
   "outputs": [
    {
     "name": "stdout",
     "output_type": "stream",
     "text": [
      "Model: \"sequential\"\n",
      "_________________________________________________________________\n",
      " Layer (type)                Output Shape              Param #   \n",
      "=================================================================\n",
      " conv2d (Conv2D)             (None, 32, 32, 256)       7168      \n",
      "                                                                 \n",
      " batch_normalization (BatchN  (None, 32, 32, 256)      1024      \n",
      " ormalization)                                                   \n",
      "                                                                 \n",
      " max_pooling2d (MaxPooling2D  (None, 16, 16, 256)      0         \n",
      " )                                                               \n",
      "                                                                 \n",
      " conv2d_1 (Conv2D)           (None, 16, 16, 128)       295040    \n",
      "                                                                 \n",
      " batch_normalization_1 (Batc  (None, 16, 16, 128)      512       \n",
      " hNormalization)                                                 \n",
      "                                                                 \n",
      " max_pooling2d_1 (MaxPooling  (None, 8, 8, 128)        0         \n",
      " 2D)                                                             \n",
      "                                                                 \n",
      " dropout (Dropout)           (None, 8, 8, 128)         0         \n",
      "                                                                 \n",
      " conv2d_2 (Conv2D)           (None, 8, 8, 64)          73792     \n",
      "                                                                 \n",
      " batch_normalization_2 (Batc  (None, 8, 8, 64)         256       \n",
      " hNormalization)                                                 \n",
      "                                                                 \n",
      " max_pooling2d_2 (MaxPooling  (None, 4, 4, 64)         0         \n",
      " 2D)                                                             \n",
      "                                                                 \n",
      " conv2d_3 (Conv2D)           (None, 4, 4, 32)          18464     \n",
      "                                                                 \n",
      " batch_normalization_3 (Batc  (None, 4, 4, 32)         128       \n",
      " hNormalization)                                                 \n",
      "                                                                 \n",
      " max_pooling2d_3 (MaxPooling  (None, 2, 2, 32)         0         \n",
      " 2D)                                                             \n",
      "                                                                 \n",
      " flatten (Flatten)           (None, 128)               0         \n",
      "                                                                 \n",
      " dense (Dense)               (None, 512)               66048     \n",
      "                                                                 \n",
      " dropout_1 (Dropout)         (None, 512)               0         \n",
      "                                                                 \n",
      " dense_1 (Dense)             (None, 10)                5130      \n",
      "                                                                 \n",
      "=================================================================\n",
      "Total params: 467,562\n",
      "Trainable params: 466,602\n",
      "Non-trainable params: 960\n",
      "_________________________________________________________________\n"
     ]
    }
   ],
   "source": [
    "model1.summary()"
   ]
  },
  {
   "cell_type": "code",
   "execution_count": 43,
   "id": "8da6ce74",
   "metadata": {},
   "outputs": [
    {
     "name": "stdout",
     "output_type": "stream",
     "text": [
      "Epoch 1/20\n",
      "3937/3937 [==============================] - 58s 15ms/step - loss: 1.7159 - categorical_accuracy: 0.3835 - auc: 0.8287 - precision: 0.5504 - recall: 0.1899 - f1_score: 0.2644 - val_loss: 1.4332 - val_categorical_accuracy: 0.4908 - val_auc: 0.8831 - val_precision: 0.6379 - val_recall: 0.3228 - val_f1_score: 0.3675\n",
      "Epoch 2/20\n",
      "3937/3937 [==============================] - 57s 15ms/step - loss: 1.4022 - categorical_accuracy: 0.4905 - auc: 0.8870 - precision: 0.6667 - recall: 0.3038 - f1_score: 0.3930 - val_loss: 1.2679 - val_categorical_accuracy: 0.5527 - val_auc: 0.9101 - val_precision: 0.6804 - val_recall: 0.4291 - val_f1_score: 0.4704\n",
      "Epoch 3/20\n",
      "3937/3937 [==============================] - 57s 15ms/step - loss: 1.3029 - categorical_accuracy: 0.5304 - auc: 0.9029 - precision: 0.6960 - recall: 0.3612 - f1_score: 0.4523 - val_loss: 1.1994 - val_categorical_accuracy: 0.5689 - val_auc: 0.9183 - val_precision: 0.7062 - val_recall: 0.4363 - val_f1_score: 0.5055\n",
      "Epoch 4/20\n",
      "3937/3937 [==============================] - 57s 15ms/step - loss: 1.2438 - categorical_accuracy: 0.5512 - auc: 0.9118 - precision: 0.7131 - recall: 0.3931 - f1_score: 0.4865 - val_loss: 1.1821 - val_categorical_accuracy: 0.5821 - val_auc: 0.9214 - val_precision: 0.7021 - val_recall: 0.4670 - val_f1_score: 0.5190\n",
      "Epoch 5/20\n",
      "3937/3937 [==============================] - 57s 15ms/step - loss: 1.2047 - categorical_accuracy: 0.5676 - auc: 0.9174 - precision: 0.7200 - recall: 0.4123 - f1_score: 0.5046 - val_loss: 1.0831 - val_categorical_accuracy: 0.6156 - val_auc: 0.9330 - val_precision: 0.7490 - val_recall: 0.4994 - val_f1_score: 0.5737\n",
      "Epoch 6/20\n",
      "3937/3937 [==============================] - 59s 15ms/step - loss: 1.1672 - categorical_accuracy: 0.5829 - auc: 0.9224 - precision: 0.7313 - recall: 0.4353 - f1_score: 0.5275 - val_loss: 1.0509 - val_categorical_accuracy: 0.6283 - val_auc: 0.9370 - val_precision: 0.7683 - val_recall: 0.4959 - val_f1_score: 0.5875\n",
      "Epoch 7/20\n",
      "3937/3937 [==============================] - 58s 15ms/step - loss: 1.1476 - categorical_accuracy: 0.5910 - auc: 0.9249 - precision: 0.7365 - recall: 0.4470 - f1_score: 0.5393 - val_loss: 1.1676 - val_categorical_accuracy: 0.6047 - val_auc: 0.9241 - val_precision: 0.7074 - val_recall: 0.5102 - val_f1_score: 0.5490\n",
      "Epoch 8/20\n",
      "3937/3937 [==============================] - 58s 15ms/step - loss: 1.1203 - categorical_accuracy: 0.6013 - auc: 0.9285 - precision: 0.7421 - recall: 0.4632 - f1_score: 0.5547 - val_loss: 1.0386 - val_categorical_accuracy: 0.6341 - val_auc: 0.9380 - val_precision: 0.7608 - val_recall: 0.5187 - val_f1_score: 0.5911\n",
      "Epoch 9/20\n",
      "3937/3937 [==============================] - 58s 15ms/step - loss: 1.1067 - categorical_accuracy: 0.6059 - auc: 0.9302 - precision: 0.7437 - recall: 0.4721 - f1_score: 0.5630 - val_loss: 1.0438 - val_categorical_accuracy: 0.6380 - val_auc: 0.9377 - val_precision: 0.7468 - val_recall: 0.5490 - val_f1_score: 0.6111\n",
      "Epoch 10/20\n",
      "3937/3937 [==============================] - 58s 15ms/step - loss: 1.0910 - categorical_accuracy: 0.6120 - auc: 0.9321 - precision: 0.7505 - recall: 0.4804 - f1_score: 0.5716 - val_loss: 1.0818 - val_categorical_accuracy: 0.6262 - val_auc: 0.9338 - val_precision: 0.7310 - val_recall: 0.5197 - val_f1_score: 0.5889\n",
      "Epoch 11/20\n",
      "3937/3937 [==============================] - 58s 15ms/step - loss: 1.0747 - categorical_accuracy: 0.6174 - auc: 0.9342 - precision: 0.7526 - recall: 0.4898 - f1_score: 0.5797 - val_loss: 1.0672 - val_categorical_accuracy: 0.6223 - val_auc: 0.9355 - val_precision: 0.7354 - val_recall: 0.5209 - val_f1_score: 0.5827\n"
     ]
    }
   ],
   "source": [
    "callback = keras.callbacks.EarlyStopping(monitor='val_loss', patience=3)\n",
    "\n",
    "history = model1.fit(\n",
    "    train_it,\n",
    "    validation_data=valid_it,\n",
    "    steps_per_epoch=train_it.samples/train_it.batch_size,\n",
    "    validation_steps=valid_it.samples/valid_it.batch_size, \n",
    "    epochs=nb_epochs,\n",
    "    callbacks = [callback] \n",
    ")"
   ]
  },
  {
   "cell_type": "code",
   "execution_count": 54,
   "id": "4e1db3cd",
   "metadata": {},
   "outputs": [
    {
     "data": {
      "text/plain": [
       "[array([0.45435327, 0.37592575, 0.17021838, 0.0649943 , 0.086981  ,\n",
       "        0.07782652, 0.38741547, 0.3797579 , 0.31816635, 0.32858709],\n",
       "       dtype=float32),\n",
       " array([0.5803989 , 0.53520054, 0.2988616 , 0.13440786, 0.18531102,\n",
       "        0.1347136 , 0.5401573 , 0.5300868 , 0.5041348 , 0.486723  ],\n",
       "       dtype=float32),\n",
       " array([0.6337074 , 0.5969345 , 0.36708283, 0.17921805, 0.2578192 ,\n",
       "        0.19053876, 0.5889148 , 0.57456523, 0.5761859 , 0.55810446],\n",
       "       dtype=float32),\n",
       " array([0.64838505, 0.62653023, 0.4124711 , 0.21568877, 0.33108893,\n",
       "        0.2236389 , 0.6219354 , 0.6054781 , 0.6003411 , 0.5797454 ],\n",
       "       dtype=float32),\n",
       " array([0.6696372 , 0.64589334, 0.42942134, 0.23386997, 0.35127738,\n",
       "        0.24721353, 0.6370762 , 0.6125024 , 0.6199138 , 0.5988586 ],\n",
       "       dtype=float32),\n",
       " array([0.6785908 , 0.66351306, 0.4656925 , 0.26772618, 0.3775805 ,\n",
       "        0.27452424, 0.6531462 , 0.6288786 , 0.64427066, 0.6209862 ],\n",
       "       dtype=float32),\n",
       " array([0.6858323 , 0.6666667 , 0.46903214, 0.28728884, 0.4019802 ,\n",
       "        0.29234675, 0.66511047, 0.64740425, 0.65269953, 0.6249203 ],\n",
       "       dtype=float32),\n",
       " array([0.69807625, 0.6746731 , 0.49173212, 0.31704187, 0.41457072,\n",
       "        0.31291705, 0.67905647, 0.6524849 , 0.66508573, 0.64166963],\n",
       "       dtype=float32),\n",
       " array([0.7069319 , 0.68468946, 0.49896905, 0.32431808, 0.43197787,\n",
       "        0.33348924, 0.68143797, 0.65705305, 0.6687239 , 0.64196193],\n",
       "       dtype=float32),\n",
       " array([0.70976394, 0.6870513 , 0.5028502 , 0.34024516, 0.4444915 ,\n",
       "        0.33341092, 0.69897914, 0.665804  , 0.6752727 , 0.6579089 ],\n",
       "       dtype=float32),\n",
       " array([0.7174221 , 0.7002983 , 0.5240933 , 0.35589767, 0.4502961 ,\n",
       "        0.3461937 , 0.6923009 , 0.6653689 , 0.6818876 , 0.6636412 ],\n",
       "       dtype=float32)]"
      ]
     },
     "execution_count": 54,
     "metadata": {},
     "output_type": "execute_result"
    }
   ],
   "source": [
    "history.history['f1_score']"
   ]
  },
  {
   "cell_type": "code",
   "execution_count": 49,
   "id": "fc882a4b",
   "metadata": {},
   "outputs": [
    {
     "data": {
      "image/png": "[encoded data removed]",
      "text/plain": [
       "<Figure size 1000x1000 with 2 Axes>"
      ]
     },
     "metadata": {},
     "output_type": "display_data"
    }
   ],
   "source": [
    "metrics2 = ['categorical_accuracy','auc','precision','recall']\n",
    "show_training_validation_loss_and_metrics(model1,metrics2)"
   ]
  },
  {
   "cell_type": "code",
   "execution_count": 35,
   "id": "f9bfb860",
   "metadata": {},
   "outputs": [
    {
     "name": "stdout",
     "output_type": "stream",
     "text": [
      "1125/1125 [==============================] - 7s 7ms/step - loss: 1.1140 - accuracy: 0.6124 - auc: 0.9302 - precision: 0.7202 - recall: 0.5161 - f1_score: 0.6028\n"
     ]
    },
    {
     "data": {
      "text/plain": [
       "[1.1139541864395142,\n",
       " 0.6124444603919983,\n",
       " 0.9302479028701782,\n",
       " 0.7201891541481018,\n",
       " 0.5160555839538574,\n",
       " array([0.7436447 , 0.6741505 , 0.55020547, 0.4631685 , 0.45864663,\n",
       "        0.37438044, 0.619894  , 0.7215372 , 0.73009306, 0.692252  ],\n",
       "       dtype=float32)]"
      ]
     },
     "execution_count": 35,
     "metadata": {},
     "output_type": "execute_result"
    }
   ],
   "source": [
    "model1.evaluate(test_it)"
   ]
  },
  {
   "cell_type": "markdown",
   "id": "316984c6",
   "metadata": {},
   "source": [
    "# Architektura drugiego modelu"
   ]
  },
  {
   "cell_type": "code",
   "execution_count": 7,
   "id": "c7caf2d4",
   "metadata": {},
   "outputs": [],
   "source": [
    "model2 = Sequential()\n",
    "model2.add(Conv2D(75, (3, 3), strides=1, padding=\"same\", activation=\"relu\", \n",
    "                 input_shape=(32, 32, 3)))\n",
    "model2.add(LayerNormalization())\n",
    "model2.add(AveragePooling2D((2, 2), strides=2, padding=\"same\"))\n",
    "model2.add(Conv2D(50, (3, 3), strides=1, padding=\"same\", activation=\"relu\"))\n",
    "model2.add(LayerNormalization())\n",
    "model2.add(AveragePooling2D((2, 2), strides=2, padding=\"same\"))\n",
    "model2.add(Conv2D(25, (3, 3), strides=1, padding=\"same\", activation=\"relu\"))\n",
    "model2.add(LayerNormalization())\n",
    "model2.add(AveragePooling2D((2, 2), strides=2, padding=\"same\"))\n",
    "model2.add(LayerNormalization())\n",
    "model2.add(Flatten())\n",
    "model2.add(Dense(units=512))\n",
    "model2.add(Dense(units=num_classes, activation=\"softmax\"))"
   ]
  },
  {
   "cell_type": "code",
   "execution_count": 8,
   "id": "c6c60635",
   "metadata": {},
   "outputs": [],
   "source": [
    "model2.compile( \n",
    "    loss=loss_func,\n",
    "    metrics=['categorical_accuracy']\n",
    ")"
   ]
  },
  {
   "cell_type": "code",
   "execution_count": 9,
   "id": "a68cf2da",
   "metadata": {},
   "outputs": [
    {
     "name": "stdout",
     "output_type": "stream",
     "text": [
      "Model: \"sequential\"\n",
      "_________________________________________________________________\n",
      " Layer (type)                Output Shape              Param #   \n",
      "=================================================================\n",
      " conv2d (Conv2D)             (None, 32, 32, 75)        2100      \n",
      "                                                                 \n",
      " layer_normalization (LayerN  (None, 32, 32, 75)       150       \n",
      " ormalization)                                                   \n",
      "                                                                 \n",
      " average_pooling2d (AverageP  (None, 16, 16, 75)       0         \n",
      " ooling2D)                                                       \n",
      "                                                                 \n",
      " conv2d_1 (Conv2D)           (None, 16, 16, 50)        33800     \n",
      "                                                                 \n",
      " layer_normalization_1 (Laye  (None, 16, 16, 50)       100       \n",
      " rNormalization)                                                 \n",
      "                                                                 \n",
      " average_pooling2d_1 (Averag  (None, 8, 8, 50)         0         \n",
      " ePooling2D)                                                     \n",
      "                                                                 \n",
      " conv2d_2 (Conv2D)           (None, 8, 8, 25)          11275     \n",
      "                                                                 \n",
      " layer_normalization_2 (Laye  (None, 8, 8, 25)         50        \n",
      " rNormalization)                                                 \n",
      "                                                                 \n",
      " average_pooling2d_2 (Averag  (None, 4, 4, 25)         0         \n",
      " ePooling2D)                                                     \n",
      "                                                                 \n",
      " layer_normalization_3 (Laye  (None, 4, 4, 25)         50        \n",
      " rNormalization)                                                 \n",
      "                                                                 \n",
      " flatten (Flatten)           (None, 400)               0         \n",
      "                                                                 \n",
      " dense (Dense)               (None, 512)               205312    \n",
      "                                                                 \n",
      " dense_1 (Dense)             (None, 10)                5130      \n",
      "                                                                 \n",
      "=================================================================\n",
      "Total params: 257,967\n",
      "Trainable params: 257,967\n",
      "Non-trainable params: 0\n",
      "_________________________________________________________________\n"
     ]
    }
   ],
   "source": [
    "model2.summary()"
   ]
  },
  {
   "cell_type": "code",
   "execution_count": 10,
   "id": "c147d5dd",
   "metadata": {},
   "outputs": [
    {
     "name": "stdout",
     "output_type": "stream",
     "text": [
      "Epoch 1/20\n",
      "3938/3938 [==============================] - 47s 10ms/step - loss: 1.7992 - categorical_accuracy: 0.3463 - val_loss: 1.5394 - val_categorical_accuracy: 0.4423\n",
      "Epoch 2/20\n",
      "3938/3938 [==============================] - 38s 10ms/step - loss: 1.4444 - categorical_accuracy: 0.4724 - val_loss: 1.5152 - val_categorical_accuracy: 0.4581\n",
      "Epoch 3/20\n",
      "3938/3938 [==============================] - 41s 10ms/step - loss: 1.3288 - categorical_accuracy: 0.5187 - val_loss: 1.3450 - val_categorical_accuracy: 0.5187\n",
      "Epoch 4/20\n",
      "3938/3938 [==============================] - 42s 11ms/step - loss: 1.2594 - categorical_accuracy: 0.5459 - val_loss: 1.3587 - val_categorical_accuracy: 0.5096\n",
      "Epoch 5/20\n",
      "3938/3938 [==============================] - 37s 9ms/step - loss: 1.2098 - categorical_accuracy: 0.5627 - val_loss: 1.2909 - val_categorical_accuracy: 0.5496\n",
      "Epoch 6/20\n",
      "3938/3938 [==============================] - 41s 11ms/step - loss: 1.1697 - categorical_accuracy: 0.5790 - val_loss: 1.2398 - val_categorical_accuracy: 0.5640\n",
      "Epoch 7/20\n",
      "3938/3938 [==============================] - 44s 11ms/step - loss: 1.1367 - categorical_accuracy: 0.5901 - val_loss: 1.2402 - val_categorical_accuracy: 0.5654\n",
      "Epoch 8/20\n",
      "3938/3938 [==============================] - 43s 11ms/step - loss: 1.1101 - categorical_accuracy: 0.6010 - val_loss: 1.2057 - val_categorical_accuracy: 0.5709\n",
      "Epoch 9/20\n",
      "3938/3938 [==============================] - 42s 11ms/step - loss: 1.0896 - categorical_accuracy: 0.6096 - val_loss: 1.2187 - val_categorical_accuracy: 0.5750\n",
      "Epoch 10/20\n",
      "3938/3938 [==============================] - 41s 10ms/step - loss: 1.0691 - categorical_accuracy: 0.6170 - val_loss: 1.2552 - val_categorical_accuracy: 0.5581\n",
      "Epoch 11/20\n",
      "3938/3938 [==============================] - 41s 10ms/step - loss: 1.0518 - categorical_accuracy: 0.6222 - val_loss: 1.1651 - val_categorical_accuracy: 0.5898\n",
      "Epoch 12/20\n",
      "3938/3938 [==============================] - 42s 11ms/step - loss: 1.0364 - categorical_accuracy: 0.6289 - val_loss: 1.1514 - val_categorical_accuracy: 0.5962\n",
      "Epoch 13/20\n",
      "3938/3938 [==============================] - 38s 10ms/step - loss: 1.0224 - categorical_accuracy: 0.6356 - val_loss: 1.1588 - val_categorical_accuracy: 0.5919\n",
      "Epoch 14/20\n",
      "3938/3938 [==============================] - 37s 10ms/step - loss: 1.0087 - categorical_accuracy: 0.6393 - val_loss: 1.1885 - val_categorical_accuracy: 0.5831\n",
      "Epoch 15/20\n",
      "3938/3938 [==============================] - 38s 10ms/step - loss: 0.9961 - categorical_accuracy: 0.6439 - val_loss: 1.1917 - val_categorical_accuracy: 0.5849\n"
     ]
    }
   ],
   "source": [
    "callback = keras.callbacks.EarlyStopping(monitor='val_loss', patience=3)\n",
    "history = model2.fit(\n",
    "    train_ds,\n",
    "    validation_data=validation_ds, \n",
    "    epochs=20, \n",
    "    callbacks = [callback]\n",
    ")"
   ]
  },
  {
   "cell_type": "code",
   "execution_count": 11,
   "id": "6fc04166",
   "metadata": {},
   "outputs": [
    {
     "name": "stdout",
     "output_type": "stream",
     "text": [
      "1125/1125 [==============================] - 6s 5ms/step - loss: 1.1931 - categorical_accuracy: 0.5799\n"
     ]
    },
    {
     "data": {
      "text/plain": [
       "[1.1931078433990479, 0.5799444317817688]"
      ]
     },
     "execution_count": 11,
     "metadata": {},
     "output_type": "execute_result"
    }
   ],
   "source": [
    "model2.evaluate(test_ds)"
   ]
  },
  {
   "cell_type": "markdown",
   "id": "1a3b3470",
   "metadata": {},
   "source": [
    "# Architektura trzeciego modelu"
   ]
  },
  {
   "cell_type": "code",
   "execution_count": 20,
   "id": "e444188b",
   "metadata": {},
   "outputs": [],
   "source": [
    "model3 = Sequential()\n",
    "model3.add(Conv2D(256, (3, 3), strides=1, padding=\"same\", activation=\"sigmoid\", \n",
    "                 input_shape=(32, 32, 3)))\n",
    "model3.add(LayerNormalization())\n",
    "model3.add(MaxPool2D((2, 2), strides=2, padding=\"same\"))\n",
    "model3.add(Conv2D(128, (3, 3), strides=1, padding=\"same\", activation=\"sigmoid\"))\n",
    "model3.add(LayerNormalization())\n",
    "model3.add(MaxPool2D((2, 2), strides=2, padding=\"same\"))\n",
    "model3.add(Dropout(0.2))\n",
    "model3.add(Conv2D(64, (3, 3), strides=1, padding=\"same\", activation=\"sigmoid\"))\n",
    "model3.add(LayerNormalization())\n",
    "model3.add(MaxPool2D((2, 2), strides=2, padding=\"same\"))\n",
    "model3.add(Conv2D(32, (3, 3), strides=1, padding=\"same\", activation=\"sigmoid\"))\n",
    "model3.add(LayerNormalization())\n",
    "model3.add(MaxPool2D((2, 2), strides=2, padding=\"same\"))\n",
    "model3.add(Conv2D(16, (3, 3), strides=1, padding=\"same\", activation=\"sigmoid\"))\n",
    "model3.add(LayerNormalization())\n",
    "model3.add(MaxPool2D((2, 2), strides=2, padding=\"same\"))\n",
    "model3.add(Flatten())\n",
    "model3.add(Dense(units=1024))\n",
    "model3.add(Dropout(0.3))\n",
    "model3.add(Dense(units=num_classes, activation=\"softmax\"))\n",
    "\n",
    "model3.compile( \n",
    "    optimizer=optimiser,\n",
    "    loss=loss_func,\n",
    "    metrics=['accuracy']\n",
    ")\n",
    "\n",
    "#model3.summary()"
   ]
  },
  {
   "cell_type": "code",
   "execution_count": 21,
   "id": "2f5ad205",
   "metadata": {},
   "outputs": [
    {
     "name": "stdout",
     "output_type": "stream",
     "text": [
      "Epoch 1/20\n",
      "4500/4500 [==============================] - 413s 91ms/step - loss: 1.7322 - accuracy: 0.3450 - val_loss: 1.5224 - val_accuracy: 0.4284\n",
      "Epoch 2/20\n",
      "4500/4500 [==============================] - 419s 93ms/step - loss: 1.4782 - accuracy: 0.4462 - val_loss: 1.3959 - val_accuracy: 0.4806\n",
      "Epoch 3/20\n",
      "4500/4500 [==============================] - 415s 92ms/step - loss: 1.3657 - accuracy: 0.4951 - val_loss: 1.3264 - val_accuracy: 0.5087\n",
      "Epoch 4/20\n",
      "4500/4500 [==============================] - 418s 93ms/step - loss: 1.3053 - accuracy: 0.5198 - val_loss: 1.2800 - val_accuracy: 0.5286\n",
      "Epoch 5/20\n",
      "4500/4500 [==============================] - 417s 93ms/step - loss: 1.2510 - accuracy: 0.5416 - val_loss: 1.2381 - val_accuracy: 0.5519\n",
      "Epoch 6/20\n",
      "4500/4500 [==============================] - 413s 92ms/step - loss: 1.2127 - accuracy: 0.5559 - val_loss: 1.2377 - val_accuracy: 0.5539\n",
      "Epoch 7/20\n",
      "4500/4500 [==============================] - 422s 94ms/step - loss: 1.1751 - accuracy: 0.5715 - val_loss: 1.2164 - val_accuracy: 0.5633\n",
      "Epoch 8/20\n",
      "4500/4500 [==============================] - 413s 92ms/step - loss: 1.1506 - accuracy: 0.5791 - val_loss: 1.2580 - val_accuracy: 0.5466\n",
      "Epoch 9/20\n",
      "4500/4500 [==============================] - 426s 95ms/step - loss: 1.1236 - accuracy: 0.5913 - val_loss: 1.1950 - val_accuracy: 0.5642\n",
      "Epoch 10/20\n",
      "4500/4500 [==============================] - 419s 93ms/step - loss: 1.1047 - accuracy: 0.6012 - val_loss: 1.1918 - val_accuracy: 0.5722\n",
      "Epoch 11/20\n",
      "4500/4500 [==============================] - 414s 92ms/step - loss: 1.0837 - accuracy: 0.6073 - val_loss: 1.1602 - val_accuracy: 0.5847\n",
      "Epoch 12/20\n",
      "4500/4500 [==============================] - 445s 99ms/step - loss: 1.0653 - accuracy: 0.6147 - val_loss: 1.1825 - val_accuracy: 0.5747\n",
      "Epoch 13/20\n",
      "4500/4500 [==============================] - 419s 93ms/step - loss: 1.0476 - accuracy: 0.6198 - val_loss: 1.1708 - val_accuracy: 0.5818\n",
      "Epoch 14/20\n",
      "4500/4500 [==============================] - 448s 100ms/step - loss: 1.0279 - accuracy: 0.6283 - val_loss: 1.1460 - val_accuracy: 0.5929\n",
      "Epoch 15/20\n",
      "4500/4500 [==============================] - 450s 100ms/step - loss: 1.0185 - accuracy: 0.6314 - val_loss: 1.1542 - val_accuracy: 0.5906\n",
      "Epoch 16/20\n",
      "4500/4500 [==============================] - 371s 83ms/step - loss: 1.0018 - accuracy: 0.6372 - val_loss: 1.1558 - val_accuracy: 0.5908\n",
      "Epoch 17/20\n",
      "4500/4500 [==============================] - 359s 80ms/step - loss: 0.9894 - accuracy: 0.6420 - val_loss: 1.1631 - val_accuracy: 0.5871\n",
      "Epoch 18/20\n",
      "4500/4500 [==============================] - 375s 83ms/step - loss: 0.9822 - accuracy: 0.6448 - val_loss: 1.1582 - val_accuracy: 0.5914\n",
      "Epoch 19/20\n",
      "4500/4500 [==============================] - 375s 83ms/step - loss: 0.9664 - accuracy: 0.6503 - val_loss: 1.1814 - val_accuracy: 0.5846\n",
      "Epoch 20/20\n",
      "4500/4500 [==============================] - 355s 79ms/step - loss: 0.9594 - accuracy: 0.6540 - val_loss: 1.1507 - val_accuracy: 0.5944\n"
     ]
    },
    {
     "data": {
      "text/plain": [
       "<keras.src.callbacks.History at 0x2aa8daa9210>"
      ]
     },
     "execution_count": 21,
     "metadata": {},
     "output_type": "execute_result"
    }
   ],
   "source": [
    "model3.fit(\n",
    "    train_ds,\n",
    "    validation_data=validation_ds, \n",
    "    epochs=20, \n",
    "    verbose=1\n",
    ")"
   ]
  }
 ],
 "metadata": {
  "kernelspec": {
   "display_name": "Python 3 (ipykernel)",
   "language": "python",
   "name": "python3"
  },
  "language_info": {
   "codemirror_mode": {
    "name": "ipython",
    "version": 3
   },
   "file_extension": ".py",
   "mimetype": "text/x-python",
   "name": "python",
   "nbconvert_exporter": "python",
   "pygments_lexer": "ipython3",
   "version": "3.9.18"
  }
 },
 "nbformat": 4,
 "nbformat_minor": 5
}
