{
 "cells": [
  {
   "cell_type": "markdown",
   "id": "fb6de9c9",
   "metadata": {},
   "source": [
    "# Importing libraries"
   ]
  },
  {
   "cell_type": "code",
   "execution_count": 65,
   "id": "453412d6",
   "metadata": {},
   "outputs": [],
   "source": [
    "import tensorflow as tf\n",
    "from tensorflow import keras\n",
    "import matplotlib.pyplot as plt\n",
    "%matplotlib inline\n",
    "import numpy as np\n",
    "from sklearn.metrics import confusion_matrix, accuracy_score, precision_score, recall_score, f1_score\n",
    "import seaborn as sn\n",
    "import pathlib\n",
    "import os\n",
    "from os import listdir\n",
    "import glob\n",
    "from PIL import Image\n",
    "from tensorflow.keras.models import Sequential\n",
    "from tensorflow.keras.layers import (\n",
    "    Dense,\n",
    "    Conv2D,\n",
    "    MaxPool2D,\n",
    "    Flatten,\n",
    "    Dropout,\n",
    "    BatchNormalization,\n",
    "    LayerNormalization,\n",
    "    AveragePooling2D,\n",
    "    Normalization\n",
    ")\n",
    "\n",
    "cinic_directory_train = 'C:\\\\Users\\\\48695\\\\Documents\\\\Studia\\\\DLM\\\\Projekt CNN\\\\CINIC-10\\\\train' #'D:\\\\GitHub\\\\cinic-10_image_classification_challenge-dataset\\\\train'\n",
    "cinic_directory_test = 'C:\\\\Users\\\\48695\\\\Documents\\\\Studia\\\\DLM\\\\Projekt CNN\\\\CINIC-10\\\\test' #'D:\\\\GitHub\\\\cinic-10_image_classification_challenge-dataset\\\\test'\n",
    "cinic_directory_val = 'C:\\\\Users\\\\48695\\\\Documents\\\\Studia\\\\DLM\\\\Projekt CNN\\\\CINIC-10\\\\valid'\n",
    "\n",
    "tf.random.set_seed(1337)\n",
    "\n",
    "class_name = []\n",
    "file_name='output_fromKeras.csv'\n",
    "optimiser='adamax'\n",
    "nb_epochs=50\n",
    "batch_size_choice=16\n",
    "image_size=(32, 32)\n",
    "loss_func='categorical_crossentropy'\n",
    "metrics=['categorical_accuracy','AUC','Precision','Recall'] #można potem obliczyć F1 na podstawie recall i precision"
   ]
  },
  {
   "cell_type": "markdown",
   "id": "6abd3991",
   "metadata": {},
   "source": [
    "# Helping functions"
   ]
  },
  {
   "cell_type": "code",
   "execution_count": 66,
   "id": "f3cd58f7",
   "metadata": {},
   "outputs": [],
   "source": [
    "def show_training_validation_loss_and_metrics(model,metric):\n",
    "    f,ax=plt.subplots(2,1,figsize=(10,10)) \n",
    "\n",
    "    #Assigning the first subplot to graph training loss and validation loss\n",
    "    ax[0].plot(model.history.history['loss'],color='b',label='Training Loss')\n",
    "    ax[0].plot(model.history.history['val_loss'],color='r',label='Validation Loss')\n",
    "\n",
    "    #Plotting the training accuracy and validation accuracy\n",
    "    ax[1].plot(model.history.history[metric],color='b',label='Training  Accuracy')\n",
    "    ax[1].plot(model.history.history['val_'+metric],color='r',label='Validation '+metric)\n",
    "\n",
    "    plt.legend() "
   ]
  },
  {
   "cell_type": "markdown",
   "id": "a446c48e",
   "metadata": {},
   "source": [
    "# Data loading"
   ]
  },
  {
   "cell_type": "code",
   "execution_count": 67,
   "id": "a07c9e8c",
   "metadata": {},
   "outputs": [
    {
     "name": "stdout",
     "output_type": "stream",
     "text": [
      "Found 90000 files belonging to 10 classes.\n"
     ]
    }
   ],
   "source": [
    "# loading in the data \n",
    "train_ds = keras.preprocessing.image_dataset_from_directory(\n",
    "    cinic_directory_train,\n",
    "    image_size=image_size,\n",
    "    batch_size=batch_size_choice,\n",
    "    label_mode = \"categorical\"\n",
    ")"
   ]
  },
  {
   "cell_type": "code",
   "execution_count": 68,
   "id": "87a62c5e",
   "metadata": {},
   "outputs": [
    {
     "name": "stdout",
     "output_type": "stream",
     "text": [
      "Found 90000 files belonging to 10 classes.\n"
     ]
    }
   ],
   "source": [
    "# loading in the data \n",
    "validation_ds = keras.preprocessing.image_dataset_from_directory(\n",
    "    cinic_directory_val,\n",
    "    image_size=image_size,\n",
    "    batch_size=batch_size_choice,\n",
    "    label_mode = \"categorical\"\n",
    ")"
   ]
  },
  {
   "cell_type": "code",
   "execution_count": 69,
   "id": "3c408367",
   "metadata": {},
   "outputs": [
    {
     "name": "stdout",
     "output_type": "stream",
     "text": [
      "Found 90000 files belonging to 10 classes.\n"
     ]
    }
   ],
   "source": [
    "test_ds = keras.preprocessing.image_dataset_from_directory(\n",
    "    cinic_directory_test,\n",
    "    image_size=image_size,\n",
    "    batch_size=batch_size_choice,\n",
    "    label_mode = \"categorical\"\n",
    ")"
   ]
  },
  {
   "cell_type": "code",
   "execution_count": 70,
   "id": "7d7fcc3e",
   "metadata": {},
   "outputs": [
    {
     "name": "stdout",
     "output_type": "stream",
     "text": [
      "['airplane', 'automobile', 'bird', 'cat', 'deer', 'dog', 'frog', 'horse', 'ship', 'truck']\n"
     ]
    }
   ],
   "source": [
    "class_names= train_ds.class_names\n",
    "num_classes = len(class_names)\n",
    "print(class_names)"
   ]
  },
  {
   "cell_type": "code",
   "execution_count": 71,
   "id": "71fc5060",
   "metadata": {},
   "outputs": [],
   "source": [
    "# Normalize all data\n",
    "normalization_layer = tf.keras.layers.Rescaling(1./255)\n",
    "train_ds = train_ds.map(lambda x, y: (normalization_layer(x), y))\n",
    "validation_ds = validation_ds.map(lambda x, y: (normalization_layer(x), y))\n",
    "test_ds = test_ds.map(lambda x, y: (normalization_layer(x), y))"
   ]
  },
  {
   "cell_type": "code",
   "execution_count": 8,
   "id": "c88c004b",
   "metadata": {},
   "outputs": [],
   "source": [
    "# Inicjalizacja słownika do zliczania liczby obrazów w każdej klasie\n",
    "#class_count = {class_name: 0 for class_name in class_names}\n",
    "\n",
    "# Przechodzenie przez zbiór danych i zliczanie obrazów w każdej klasie\n",
    "#for images, labels in train_ds:\n",
    "#    for label in labels.numpy():\n",
    "#        class_count[class_names[label]] += 1\n",
    "\n",
    "# Wyświetlenie liczby obrazów w każdej klasie\n",
    "#for class_name, count in class_count.items():\n",
    "#    print(f\"Liczba obrazów w klasie {class_name}: {count}\")\n",
    "\n",
    "# Dane do wykresu słupkowego\n",
    "#class_names = list(class_count.keys())\n",
    "#counts = list(class_count.values())\n",
    "\n",
    "# Tworzenie wykresu słupkowego\n",
    "#plt.figure(figsize=(10, 6))\n",
    "#plt.bar(class_names, counts, color='skyblue')\n",
    "#plt.xlabel('Klasa')\n",
    "#plt.ylabel('Liczba obrazów')\n",
    "#plt.title('Liczba obrazów w każdej klasie')\n",
    "#plt.xticks(rotation=45, ha='right')\n",
    "#plt.tight_layout()\n",
    "\n",
    "# Wyświetlenie wykresu\n",
    "#plt.show()"
   ]
  },
  {
   "cell_type": "markdown",
   "id": "2a183f59",
   "metadata": {},
   "source": [
    "# First model architecture"
   ]
  },
  {
   "cell_type": "code",
   "execution_count": 72,
   "id": "bc156216",
   "metadata": {},
   "outputs": [],
   "source": [
    "def create_Architecture1():\n",
    "    model = Sequential([\n",
    "        Conv2D(256, kernel_size=(3, 3), strides=1, padding='same', activation='relu', input_shape=(32,32,3)),\n",
    "        BatchNormalization(),\n",
    "        MaxPool2D((2, 2), strides=2, padding=\"same\"),\n",
    "        Conv2D(128, (3, 3), strides=1, padding=\"same\", activation=\"relu\"),\n",
    "        BatchNormalization(),\n",
    "        MaxPool2D((2, 2), strides=2, padding=\"same\"),\n",
    "        Dropout(0.2),\n",
    "        Conv2D(64, (3, 3), strides=1, padding=\"same\", activation=\"relu\"),\n",
    "        BatchNormalization(),\n",
    "        MaxPool2D((2, 2), strides=2, padding=\"same\"),\n",
    "        Conv2D(32, (3, 3), strides=1, padding=\"same\", activation=\"relu\"),\n",
    "        BatchNormalization(),\n",
    "        MaxPool2D((2, 2), strides=2, padding=\"same\"),\n",
    "        Flatten(),\n",
    "        Dense(units=512),\n",
    "        Dropout(0.3),\n",
    "        Dense(units=num_classes, activation=\"softmax\")\n",
    "    ])\n",
    "    return model"
   ]
  },
  {
   "cell_type": "code",
   "execution_count": 16,
   "id": "4b39c955",
   "metadata": {},
   "outputs": [],
   "source": [
    "model1 = create_Architecture1()"
   ]
  },
  {
   "cell_type": "code",
   "execution_count": 17,
   "id": "70189222",
   "metadata": {},
   "outputs": [],
   "source": [
    "model1.compile( \n",
    "    loss=loss_func,\n",
    "    metrics=metrics\n",
    ")"
   ]
  },
  {
   "cell_type": "code",
   "execution_count": 18,
   "id": "b6c1c13a",
   "metadata": {},
   "outputs": [],
   "source": [
    "#model1.summary()"
   ]
  },
  {
   "cell_type": "code",
   "execution_count": 19,
   "id": "8da6ce74",
   "metadata": {},
   "outputs": [
    {
     "name": "stdout",
     "output_type": "stream",
     "text": [
      "Epoch 1/20\n",
      " 693/5625 [==>...........................] - ETA: 5:07 - loss: 2.1210 - categorical_accuracy: 0.2836 - auc: 0.7540 - precision: 0.3634 - recall: 0.1328"
     ]
    },
    {
     "ename": "KeyboardInterrupt",
     "evalue": "",
     "output_type": "error",
     "traceback": [
      "\u001b[1;31m---------------------------------------------------------------------------\u001b[0m",
      "\u001b[1;31mKeyboardInterrupt\u001b[0m                         Traceback (most recent call last)",
      "Cell \u001b[1;32mIn[19], line 2\u001b[0m\n\u001b[0;32m      1\u001b[0m callback \u001b[38;5;241m=\u001b[39m keras\u001b[38;5;241m.\u001b[39mcallbacks\u001b[38;5;241m.\u001b[39mEarlyStopping(monitor\u001b[38;5;241m=\u001b[39m\u001b[38;5;124m'\u001b[39m\u001b[38;5;124mval_loss\u001b[39m\u001b[38;5;124m'\u001b[39m, patience\u001b[38;5;241m=\u001b[39m\u001b[38;5;241m3\u001b[39m)\n\u001b[1;32m----> 2\u001b[0m history \u001b[38;5;241m=\u001b[39m model1\u001b[38;5;241m.\u001b[39mfit(\n\u001b[0;32m      3\u001b[0m     train_ds,\n\u001b[0;32m      4\u001b[0m     validation_data\u001b[38;5;241m=\u001b[39mvalidation_ds, \n\u001b[0;32m      5\u001b[0m     epochs\u001b[38;5;241m=\u001b[39m\u001b[38;5;241m20\u001b[39m,\n\u001b[0;32m      6\u001b[0m     callbacks \u001b[38;5;241m=\u001b[39m [callback]\n\u001b[0;32m      7\u001b[0m )\n",
      "File \u001b[1;32m~\\anaconda3\\Lib\\site-packages\\keras\\src\\utils\\traceback_utils.py:65\u001b[0m, in \u001b[0;36mfilter_traceback.<locals>.error_handler\u001b[1;34m(*args, **kwargs)\u001b[0m\n\u001b[0;32m     63\u001b[0m filtered_tb \u001b[38;5;241m=\u001b[39m \u001b[38;5;28;01mNone\u001b[39;00m\n\u001b[0;32m     64\u001b[0m \u001b[38;5;28;01mtry\u001b[39;00m:\n\u001b[1;32m---> 65\u001b[0m     \u001b[38;5;28;01mreturn\u001b[39;00m fn(\u001b[38;5;241m*\u001b[39margs, \u001b[38;5;241m*\u001b[39m\u001b[38;5;241m*\u001b[39mkwargs)\n\u001b[0;32m     66\u001b[0m \u001b[38;5;28;01mexcept\u001b[39;00m \u001b[38;5;167;01mException\u001b[39;00m \u001b[38;5;28;01mas\u001b[39;00m e:\n\u001b[0;32m     67\u001b[0m     filtered_tb \u001b[38;5;241m=\u001b[39m _process_traceback_frames(e\u001b[38;5;241m.\u001b[39m__traceback__)\n",
      "File \u001b[1;32m~\\anaconda3\\Lib\\site-packages\\keras\\src\\engine\\training.py:1807\u001b[0m, in \u001b[0;36mModel.fit\u001b[1;34m(self, x, y, batch_size, epochs, verbose, callbacks, validation_split, validation_data, shuffle, class_weight, sample_weight, initial_epoch, steps_per_epoch, validation_steps, validation_batch_size, validation_freq, max_queue_size, workers, use_multiprocessing)\u001b[0m\n\u001b[0;32m   1799\u001b[0m \u001b[38;5;28;01mwith\u001b[39;00m tf\u001b[38;5;241m.\u001b[39mprofiler\u001b[38;5;241m.\u001b[39mexperimental\u001b[38;5;241m.\u001b[39mTrace(\n\u001b[0;32m   1800\u001b[0m     \u001b[38;5;124m\"\u001b[39m\u001b[38;5;124mtrain\u001b[39m\u001b[38;5;124m\"\u001b[39m,\n\u001b[0;32m   1801\u001b[0m     epoch_num\u001b[38;5;241m=\u001b[39mepoch,\n\u001b[1;32m   (...)\u001b[0m\n\u001b[0;32m   1804\u001b[0m     _r\u001b[38;5;241m=\u001b[39m\u001b[38;5;241m1\u001b[39m,\n\u001b[0;32m   1805\u001b[0m ):\n\u001b[0;32m   1806\u001b[0m     callbacks\u001b[38;5;241m.\u001b[39mon_train_batch_begin(step)\n\u001b[1;32m-> 1807\u001b[0m     tmp_logs \u001b[38;5;241m=\u001b[39m \u001b[38;5;28mself\u001b[39m\u001b[38;5;241m.\u001b[39mtrain_function(iterator)\n\u001b[0;32m   1808\u001b[0m     \u001b[38;5;28;01mif\u001b[39;00m data_handler\u001b[38;5;241m.\u001b[39mshould_sync:\n\u001b[0;32m   1809\u001b[0m         context\u001b[38;5;241m.\u001b[39masync_wait()\n",
      "File \u001b[1;32m~\\anaconda3\\Lib\\site-packages\\tensorflow\\python\\util\\traceback_utils.py:150\u001b[0m, in \u001b[0;36mfilter_traceback.<locals>.error_handler\u001b[1;34m(*args, **kwargs)\u001b[0m\n\u001b[0;32m    148\u001b[0m filtered_tb \u001b[38;5;241m=\u001b[39m \u001b[38;5;28;01mNone\u001b[39;00m\n\u001b[0;32m    149\u001b[0m \u001b[38;5;28;01mtry\u001b[39;00m:\n\u001b[1;32m--> 150\u001b[0m   \u001b[38;5;28;01mreturn\u001b[39;00m fn(\u001b[38;5;241m*\u001b[39margs, \u001b[38;5;241m*\u001b[39m\u001b[38;5;241m*\u001b[39mkwargs)\n\u001b[0;32m    151\u001b[0m \u001b[38;5;28;01mexcept\u001b[39;00m \u001b[38;5;167;01mException\u001b[39;00m \u001b[38;5;28;01mas\u001b[39;00m e:\n\u001b[0;32m    152\u001b[0m   filtered_tb \u001b[38;5;241m=\u001b[39m _process_traceback_frames(e\u001b[38;5;241m.\u001b[39m__traceback__)\n",
      "File \u001b[1;32m~\\anaconda3\\Lib\\site-packages\\tensorflow\\python\\eager\\polymorphic_function\\polymorphic_function.py:832\u001b[0m, in \u001b[0;36mFunction.__call__\u001b[1;34m(self, *args, **kwds)\u001b[0m\n\u001b[0;32m    829\u001b[0m compiler \u001b[38;5;241m=\u001b[39m \u001b[38;5;124m\"\u001b[39m\u001b[38;5;124mxla\u001b[39m\u001b[38;5;124m\"\u001b[39m \u001b[38;5;28;01mif\u001b[39;00m \u001b[38;5;28mself\u001b[39m\u001b[38;5;241m.\u001b[39m_jit_compile \u001b[38;5;28;01melse\u001b[39;00m \u001b[38;5;124m\"\u001b[39m\u001b[38;5;124mnonXla\u001b[39m\u001b[38;5;124m\"\u001b[39m\n\u001b[0;32m    831\u001b[0m \u001b[38;5;28;01mwith\u001b[39;00m OptionalXlaContext(\u001b[38;5;28mself\u001b[39m\u001b[38;5;241m.\u001b[39m_jit_compile):\n\u001b[1;32m--> 832\u001b[0m   result \u001b[38;5;241m=\u001b[39m \u001b[38;5;28mself\u001b[39m\u001b[38;5;241m.\u001b[39m_call(\u001b[38;5;241m*\u001b[39margs, \u001b[38;5;241m*\u001b[39m\u001b[38;5;241m*\u001b[39mkwds)\n\u001b[0;32m    834\u001b[0m new_tracing_count \u001b[38;5;241m=\u001b[39m \u001b[38;5;28mself\u001b[39m\u001b[38;5;241m.\u001b[39mexperimental_get_tracing_count()\n\u001b[0;32m    835\u001b[0m without_tracing \u001b[38;5;241m=\u001b[39m (tracing_count \u001b[38;5;241m==\u001b[39m new_tracing_count)\n",
      "File \u001b[1;32m~\\anaconda3\\Lib\\site-packages\\tensorflow\\python\\eager\\polymorphic_function\\polymorphic_function.py:868\u001b[0m, in \u001b[0;36mFunction._call\u001b[1;34m(self, *args, **kwds)\u001b[0m\n\u001b[0;32m    865\u001b[0m   \u001b[38;5;28mself\u001b[39m\u001b[38;5;241m.\u001b[39m_lock\u001b[38;5;241m.\u001b[39mrelease()\n\u001b[0;32m    866\u001b[0m   \u001b[38;5;66;03m# In this case we have created variables on the first call, so we run the\u001b[39;00m\n\u001b[0;32m    867\u001b[0m   \u001b[38;5;66;03m# defunned version which is guaranteed to never create variables.\u001b[39;00m\n\u001b[1;32m--> 868\u001b[0m   \u001b[38;5;28;01mreturn\u001b[39;00m tracing_compilation\u001b[38;5;241m.\u001b[39mcall_function(\n\u001b[0;32m    869\u001b[0m       args, kwds, \u001b[38;5;28mself\u001b[39m\u001b[38;5;241m.\u001b[39m_no_variable_creation_config\n\u001b[0;32m    870\u001b[0m   )\n\u001b[0;32m    871\u001b[0m \u001b[38;5;28;01melif\u001b[39;00m \u001b[38;5;28mself\u001b[39m\u001b[38;5;241m.\u001b[39m_variable_creation_config \u001b[38;5;129;01mis\u001b[39;00m \u001b[38;5;129;01mnot\u001b[39;00m \u001b[38;5;28;01mNone\u001b[39;00m:\n\u001b[0;32m    872\u001b[0m   \u001b[38;5;66;03m# Release the lock early so that multiple threads can perform the call\u001b[39;00m\n\u001b[0;32m    873\u001b[0m   \u001b[38;5;66;03m# in parallel.\u001b[39;00m\n\u001b[0;32m    874\u001b[0m   \u001b[38;5;28mself\u001b[39m\u001b[38;5;241m.\u001b[39m_lock\u001b[38;5;241m.\u001b[39mrelease()\n",
      "File \u001b[1;32m~\\anaconda3\\Lib\\site-packages\\tensorflow\\python\\eager\\polymorphic_function\\tracing_compilation.py:139\u001b[0m, in \u001b[0;36mcall_function\u001b[1;34m(args, kwargs, tracing_options)\u001b[0m\n\u001b[0;32m    137\u001b[0m bound_args \u001b[38;5;241m=\u001b[39m function\u001b[38;5;241m.\u001b[39mfunction_type\u001b[38;5;241m.\u001b[39mbind(\u001b[38;5;241m*\u001b[39margs, \u001b[38;5;241m*\u001b[39m\u001b[38;5;241m*\u001b[39mkwargs)\n\u001b[0;32m    138\u001b[0m flat_inputs \u001b[38;5;241m=\u001b[39m function\u001b[38;5;241m.\u001b[39mfunction_type\u001b[38;5;241m.\u001b[39munpack_inputs(bound_args)\n\u001b[1;32m--> 139\u001b[0m \u001b[38;5;28;01mreturn\u001b[39;00m function\u001b[38;5;241m.\u001b[39m_call_flat(  \u001b[38;5;66;03m# pylint: disable=protected-access\u001b[39;00m\n\u001b[0;32m    140\u001b[0m     flat_inputs, captured_inputs\u001b[38;5;241m=\u001b[39mfunction\u001b[38;5;241m.\u001b[39mcaptured_inputs\n\u001b[0;32m    141\u001b[0m )\n",
      "File \u001b[1;32m~\\anaconda3\\Lib\\site-packages\\tensorflow\\python\\eager\\polymorphic_function\\concrete_function.py:1323\u001b[0m, in \u001b[0;36mConcreteFunction._call_flat\u001b[1;34m(self, tensor_inputs, captured_inputs)\u001b[0m\n\u001b[0;32m   1319\u001b[0m possible_gradient_type \u001b[38;5;241m=\u001b[39m gradients_util\u001b[38;5;241m.\u001b[39mPossibleTapeGradientTypes(args)\n\u001b[0;32m   1320\u001b[0m \u001b[38;5;28;01mif\u001b[39;00m (possible_gradient_type \u001b[38;5;241m==\u001b[39m gradients_util\u001b[38;5;241m.\u001b[39mPOSSIBLE_GRADIENT_TYPES_NONE\n\u001b[0;32m   1321\u001b[0m     \u001b[38;5;129;01mand\u001b[39;00m executing_eagerly):\n\u001b[0;32m   1322\u001b[0m   \u001b[38;5;66;03m# No tape is watching; skip to running the function.\u001b[39;00m\n\u001b[1;32m-> 1323\u001b[0m   \u001b[38;5;28;01mreturn\u001b[39;00m \u001b[38;5;28mself\u001b[39m\u001b[38;5;241m.\u001b[39m_inference_function\u001b[38;5;241m.\u001b[39mcall_preflattened(args)\n\u001b[0;32m   1324\u001b[0m forward_backward \u001b[38;5;241m=\u001b[39m \u001b[38;5;28mself\u001b[39m\u001b[38;5;241m.\u001b[39m_select_forward_and_backward_functions(\n\u001b[0;32m   1325\u001b[0m     args,\n\u001b[0;32m   1326\u001b[0m     possible_gradient_type,\n\u001b[0;32m   1327\u001b[0m     executing_eagerly)\n\u001b[0;32m   1328\u001b[0m forward_function, args_with_tangents \u001b[38;5;241m=\u001b[39m forward_backward\u001b[38;5;241m.\u001b[39mforward()\n",
      "File \u001b[1;32m~\\anaconda3\\Lib\\site-packages\\tensorflow\\python\\eager\\polymorphic_function\\atomic_function.py:216\u001b[0m, in \u001b[0;36mAtomicFunction.call_preflattened\u001b[1;34m(self, args)\u001b[0m\n\u001b[0;32m    214\u001b[0m \u001b[38;5;28;01mdef\u001b[39;00m \u001b[38;5;21mcall_preflattened\u001b[39m(\u001b[38;5;28mself\u001b[39m, args: Sequence[core\u001b[38;5;241m.\u001b[39mTensor]) \u001b[38;5;241m-\u001b[39m\u001b[38;5;241m>\u001b[39m Any:\n\u001b[0;32m    215\u001b[0m \u001b[38;5;250m  \u001b[39m\u001b[38;5;124;03m\"\"\"Calls with flattened tensor inputs and returns the structured output.\"\"\"\u001b[39;00m\n\u001b[1;32m--> 216\u001b[0m   flat_outputs \u001b[38;5;241m=\u001b[39m \u001b[38;5;28mself\u001b[39m\u001b[38;5;241m.\u001b[39mcall_flat(\u001b[38;5;241m*\u001b[39margs)\n\u001b[0;32m    217\u001b[0m   \u001b[38;5;28;01mreturn\u001b[39;00m \u001b[38;5;28mself\u001b[39m\u001b[38;5;241m.\u001b[39mfunction_type\u001b[38;5;241m.\u001b[39mpack_output(flat_outputs)\n",
      "File \u001b[1;32m~\\anaconda3\\Lib\\site-packages\\tensorflow\\python\\eager\\polymorphic_function\\atomic_function.py:251\u001b[0m, in \u001b[0;36mAtomicFunction.call_flat\u001b[1;34m(self, *args)\u001b[0m\n\u001b[0;32m    249\u001b[0m \u001b[38;5;28;01mwith\u001b[39;00m record\u001b[38;5;241m.\u001b[39mstop_recording():\n\u001b[0;32m    250\u001b[0m   \u001b[38;5;28;01mif\u001b[39;00m \u001b[38;5;28mself\u001b[39m\u001b[38;5;241m.\u001b[39m_bound_context\u001b[38;5;241m.\u001b[39mexecuting_eagerly():\n\u001b[1;32m--> 251\u001b[0m     outputs \u001b[38;5;241m=\u001b[39m \u001b[38;5;28mself\u001b[39m\u001b[38;5;241m.\u001b[39m_bound_context\u001b[38;5;241m.\u001b[39mcall_function(\n\u001b[0;32m    252\u001b[0m         \u001b[38;5;28mself\u001b[39m\u001b[38;5;241m.\u001b[39mname,\n\u001b[0;32m    253\u001b[0m         \u001b[38;5;28mlist\u001b[39m(args),\n\u001b[0;32m    254\u001b[0m         \u001b[38;5;28mlen\u001b[39m(\u001b[38;5;28mself\u001b[39m\u001b[38;5;241m.\u001b[39mfunction_type\u001b[38;5;241m.\u001b[39mflat_outputs),\n\u001b[0;32m    255\u001b[0m     )\n\u001b[0;32m    256\u001b[0m   \u001b[38;5;28;01melse\u001b[39;00m:\n\u001b[0;32m    257\u001b[0m     outputs \u001b[38;5;241m=\u001b[39m make_call_op_in_graph(\n\u001b[0;32m    258\u001b[0m         \u001b[38;5;28mself\u001b[39m,\n\u001b[0;32m    259\u001b[0m         \u001b[38;5;28mlist\u001b[39m(args),\n\u001b[0;32m    260\u001b[0m         \u001b[38;5;28mself\u001b[39m\u001b[38;5;241m.\u001b[39m_bound_context\u001b[38;5;241m.\u001b[39mfunction_call_options\u001b[38;5;241m.\u001b[39mas_attrs(),\n\u001b[0;32m    261\u001b[0m     )\n",
      "File \u001b[1;32m~\\anaconda3\\Lib\\site-packages\\tensorflow\\python\\eager\\context.py:1486\u001b[0m, in \u001b[0;36mContext.call_function\u001b[1;34m(self, name, tensor_inputs, num_outputs)\u001b[0m\n\u001b[0;32m   1484\u001b[0m cancellation_context \u001b[38;5;241m=\u001b[39m cancellation\u001b[38;5;241m.\u001b[39mcontext()\n\u001b[0;32m   1485\u001b[0m \u001b[38;5;28;01mif\u001b[39;00m cancellation_context \u001b[38;5;129;01mis\u001b[39;00m \u001b[38;5;28;01mNone\u001b[39;00m:\n\u001b[1;32m-> 1486\u001b[0m   outputs \u001b[38;5;241m=\u001b[39m execute\u001b[38;5;241m.\u001b[39mexecute(\n\u001b[0;32m   1487\u001b[0m       name\u001b[38;5;241m.\u001b[39mdecode(\u001b[38;5;124m\"\u001b[39m\u001b[38;5;124mutf-8\u001b[39m\u001b[38;5;124m\"\u001b[39m),\n\u001b[0;32m   1488\u001b[0m       num_outputs\u001b[38;5;241m=\u001b[39mnum_outputs,\n\u001b[0;32m   1489\u001b[0m       inputs\u001b[38;5;241m=\u001b[39mtensor_inputs,\n\u001b[0;32m   1490\u001b[0m       attrs\u001b[38;5;241m=\u001b[39mattrs,\n\u001b[0;32m   1491\u001b[0m       ctx\u001b[38;5;241m=\u001b[39m\u001b[38;5;28mself\u001b[39m,\n\u001b[0;32m   1492\u001b[0m   )\n\u001b[0;32m   1493\u001b[0m \u001b[38;5;28;01melse\u001b[39;00m:\n\u001b[0;32m   1494\u001b[0m   outputs \u001b[38;5;241m=\u001b[39m execute\u001b[38;5;241m.\u001b[39mexecute_with_cancellation(\n\u001b[0;32m   1495\u001b[0m       name\u001b[38;5;241m.\u001b[39mdecode(\u001b[38;5;124m\"\u001b[39m\u001b[38;5;124mutf-8\u001b[39m\u001b[38;5;124m\"\u001b[39m),\n\u001b[0;32m   1496\u001b[0m       num_outputs\u001b[38;5;241m=\u001b[39mnum_outputs,\n\u001b[1;32m   (...)\u001b[0m\n\u001b[0;32m   1500\u001b[0m       cancellation_manager\u001b[38;5;241m=\u001b[39mcancellation_context,\n\u001b[0;32m   1501\u001b[0m   )\n",
      "File \u001b[1;32m~\\anaconda3\\Lib\\site-packages\\tensorflow\\python\\eager\\execute.py:53\u001b[0m, in \u001b[0;36mquick_execute\u001b[1;34m(op_name, num_outputs, inputs, attrs, ctx, name)\u001b[0m\n\u001b[0;32m     51\u001b[0m \u001b[38;5;28;01mtry\u001b[39;00m:\n\u001b[0;32m     52\u001b[0m   ctx\u001b[38;5;241m.\u001b[39mensure_initialized()\n\u001b[1;32m---> 53\u001b[0m   tensors \u001b[38;5;241m=\u001b[39m pywrap_tfe\u001b[38;5;241m.\u001b[39mTFE_Py_Execute(ctx\u001b[38;5;241m.\u001b[39m_handle, device_name, op_name,\n\u001b[0;32m     54\u001b[0m                                       inputs, attrs, num_outputs)\n\u001b[0;32m     55\u001b[0m \u001b[38;5;28;01mexcept\u001b[39;00m core\u001b[38;5;241m.\u001b[39m_NotOkStatusException \u001b[38;5;28;01mas\u001b[39;00m e:\n\u001b[0;32m     56\u001b[0m   \u001b[38;5;28;01mif\u001b[39;00m name \u001b[38;5;129;01mis\u001b[39;00m \u001b[38;5;129;01mnot\u001b[39;00m \u001b[38;5;28;01mNone\u001b[39;00m:\n",
      "\u001b[1;31mKeyboardInterrupt\u001b[0m: "
     ]
    }
   ],
   "source": [
    "callback = keras.callbacks.EarlyStopping(monitor='val_loss', patience=3)\n",
    "history = model1.fit(\n",
    "    train_ds,\n",
    "    validation_data=validation_ds, \n",
    "    epochs=20,\n",
    "    callbacks = [callback]\n",
    ")"
   ]
  },
  {
   "cell_type": "code",
   "execution_count": 43,
   "id": "3f5ae7ac",
   "metadata": {},
   "outputs": [
    {
     "name": "stdout",
     "output_type": "stream",
     "text": [
      "5625/5625 [==============================] - 109s 19ms/step - loss: 1.1249 - categorical_accuracy: 0.6438 - auc: 0.9335 - precision: 0.7105 - recall: 0.5898\n"
     ]
    }
   ],
   "source": [
    "result=model1.evaluate(test_ds)"
   ]
  },
  {
   "cell_type": "code",
   "execution_count": 73,
   "id": "4c19bfd2",
   "metadata": {},
   "outputs": [],
   "source": [
    "true_labels = np.concatenate([y for x, y in test_ds], axis=0)\n",
    "tf_labels = tf.argmax(true_labels, axis=1).numpy()"
   ]
  },
  {
   "cell_type": "code",
   "execution_count": 35,
   "id": "0fbf6544",
   "metadata": {},
   "outputs": [
    {
     "name": "stdout",
     "output_type": "stream",
     "text": [
      "5625/5625 [==============================] - 137s 24ms/step\n"
     ]
    }
   ],
   "source": [
    "predictions1 = model1.predict(test_ds)\n",
    "predicted_classes1 = np.argmax(predictions1, axis=1)"
   ]
  },
  {
   "cell_type": "code",
   "execution_count": 16,
   "id": "cc4d9937",
   "metadata": {},
   "outputs": [
    {
     "name": "stdout",
     "output_type": "stream",
     "text": [
      "Confusion Matrix:\n",
      "tf.Tensor(\n",
      "[[1425  998  980  301  605  946 1202  806  791  946]\n",
      " [1336 1016 1009  302  600  964 1180  860  783  950]\n",
      " [1327 1004  962  332  657  992 1207  805  773  941]\n",
      " [1372 1002  953  304  629  965 1208  861  792  914]\n",
      " [1361  976 1025  297  649 1013 1159  817  812  891]\n",
      " [1369  950  956  298  636 1057 1165  827  809  933]\n",
      " [1402  984  985  286  583 1013 1203  811  819  914]\n",
      " [1361  991 1032  289  624 1006 1131  840  788  938]\n",
      " [1363  963  997  311  611  991 1189  839  809  927]\n",
      " [1446 1032  987  309  581  941 1158  753  828  965]], shape=(10, 10), dtype=int32)\n"
     ]
    }
   ],
   "source": [
    "conf_matrix1 = tf.math.confusion_matrix(tf_labels, predicted_classes1, num_classes=num_classes)\n",
    "\n",
    "print(\"Confusion Matrix:\")\n",
    "print(conf_matrix1)"
   ]
  },
  {
   "cell_type": "code",
   "execution_count": 17,
   "id": "af1fcdc0",
   "metadata": {},
   "outputs": [],
   "source": [
    "#plt.figure(figsize=(8, 6))\n",
    "#plt.imshow(conf_matrix1, cmap=plt.cm.Blues)\n",
    "#plt.title('Confusion Matrix')\n",
    "#plt.colorbar()\n",
    "#plt.xlabel('Predicted labels')\n",
    "#plt.ylabel('True labels')\n",
    "#plt.xticks(np.arange(len(conf_matrix1)), labels=np.arange(len(conf_matrix1)))\n",
    "#plt.yticks(np.arange(len(conf_matrix1)), labels=np.arange(len(conf_matrix1)))\n",
    "#plt.show()"
   ]
  },
  {
   "cell_type": "markdown",
   "id": "316984c6",
   "metadata": {},
   "source": [
    "# Second model architecture"
   ]
  },
  {
   "cell_type": "code",
   "execution_count": 74,
   "id": "c7caf2d4",
   "metadata": {},
   "outputs": [],
   "source": [
    "def create_Architecture2():\n",
    "    model = Sequential([\n",
    "        Conv2D(75, (3, 3), strides=1, padding=\"same\", activation=\"relu\", \n",
    "                 input_shape=(32, 32, 3)),\n",
    "        LayerNormalization(),\n",
    "        AveragePooling2D((2, 2), strides=2, padding=\"same\"),\n",
    "        Conv2D(50, (3, 3), strides=1, padding=\"same\", activation=\"relu\"),\n",
    "        LayerNormalization(),\n",
    "        AveragePooling2D((2, 2), strides=2, padding=\"same\"),\n",
    "        Conv2D(25, (3, 3), strides=1, padding=\"same\", activation=\"relu\"),\n",
    "        LayerNormalization(),\n",
    "        AveragePooling2D((2, 2), strides=2, padding=\"same\"),\n",
    "        LayerNormalization(),\n",
    "        Flatten(),\n",
    "        Dense(units=512),\n",
    "        Dense(units=num_classes, activation=\"softmax\")\n",
    "    ])\n",
    "    return model"
   ]
  },
  {
   "cell_type": "code",
   "execution_count": 29,
   "id": "c6c60635",
   "metadata": {},
   "outputs": [],
   "source": [
    "model2 = create_Architecture2()\n",
    "\n",
    "model2.compile( \n",
    "    loss=loss_func,\n",
    "    metrics=metrics\n",
    ")"
   ]
  },
  {
   "cell_type": "code",
   "execution_count": 30,
   "id": "a68cf2da",
   "metadata": {},
   "outputs": [],
   "source": [
    "#model2.summary()"
   ]
  },
  {
   "cell_type": "code",
   "execution_count": 44,
   "id": "c147d5dd",
   "metadata": {},
   "outputs": [
    {
     "name": "stdout",
     "output_type": "stream",
     "text": [
      "Epoch 1/20\n",
      "5625/5625 [==============================] - 174s 31ms/step - loss: 0.9331 - categorical_accuracy: 0.6677 - auc: 0.9501 - precision: 0.7791 - recall: 0.5627 - val_loss: 1.0539 - val_categorical_accuracy: 0.6241 - val_auc: 0.9368 - val_precision: 0.7434 - val_recall: 0.5156\n",
      "Epoch 2/20\n",
      "5625/5625 [==============================] - 172s 31ms/step - loss: 0.9264 - categorical_accuracy: 0.6688 - auc: 0.9507 - precision: 0.7800 - recall: 0.5666 - val_loss: 1.0417 - val_categorical_accuracy: 0.6304 - val_auc: 0.9384 - val_precision: 0.7388 - val_recall: 0.5307\n",
      "Epoch 3/20\n",
      "5625/5625 [==============================] - 172s 31ms/step - loss: 0.9184 - categorical_accuracy: 0.6739 - auc: 0.9517 - precision: 0.7832 - recall: 0.5724 - val_loss: 1.0443 - val_categorical_accuracy: 0.6293 - val_auc: 0.9381 - val_precision: 0.7385 - val_recall: 0.5285\n",
      "Epoch 4/20\n",
      "5625/5625 [==============================] - 176s 31ms/step - loss: 0.9105 - categorical_accuracy: 0.6764 - auc: 0.9524 - precision: 0.7854 - recall: 0.5760 - val_loss: 1.0508 - val_categorical_accuracy: 0.6278 - val_auc: 0.9374 - val_precision: 0.7370 - val_recall: 0.5301\n",
      "Epoch 5/20\n",
      "5625/5625 [==============================] - 172s 31ms/step - loss: 0.9049 - categorical_accuracy: 0.6795 - auc: 0.9530 - precision: 0.7856 - recall: 0.5791 - val_loss: 1.0813 - val_categorical_accuracy: 0.6179 - val_auc: 0.9336 - val_precision: 0.7326 - val_recall: 0.5124\n"
     ]
    }
   ],
   "source": [
    "callback = keras.callbacks.EarlyStopping(monitor='val_loss', patience=3)\n",
    "history = model2.fit(\n",
    "    train_ds,\n",
    "    validation_data=validation_ds, \n",
    "    epochs=20, \n",
    "    callbacks = [callback]\n",
    ")"
   ]
  },
  {
   "cell_type": "code",
   "execution_count": 45,
   "id": "6fc04166",
   "metadata": {},
   "outputs": [
    {
     "name": "stdout",
     "output_type": "stream",
     "text": [
      "5625/5625 [==============================] - 59s 11ms/step - loss: 1.0917 - categorical_accuracy: 0.6157 - auc: 0.9324 - precision: 0.7309 - recall: 0.5121\n"
     ]
    },
    {
     "data": {
      "text/plain": [
       "[1.0917370319366455,\n",
       " 0.6157110929489136,\n",
       " 0.9323617815971375,\n",
       " 0.7308784127235413,\n",
       " 0.5120777487754822]"
      ]
     },
     "execution_count": 45,
     "metadata": {},
     "output_type": "execute_result"
    }
   ],
   "source": [
    "model2.evaluate(test_ds)"
   ]
  },
  {
   "cell_type": "code",
   "execution_count": 23,
   "id": "826ade6f",
   "metadata": {},
   "outputs": [
    {
     "name": "stdout",
     "output_type": "stream",
     "text": [
      "5625/5625 [==============================] - 67s 12ms/step\n"
     ]
    }
   ],
   "source": [
    "predictions2 = model2.predict(test_ds)\n",
    "predicted_classes2 = np.argmax(predictions2, axis=1)"
   ]
  },
  {
   "cell_type": "code",
   "execution_count": 24,
   "id": "644bbb44",
   "metadata": {},
   "outputs": [
    {
     "name": "stdout",
     "output_type": "stream",
     "text": [
      "Confusion Matrix:\n",
      "tf.Tensor(\n",
      "[[ 813  956 1082  897  810  700  899  985  858 1000]\n",
      " [ 752  930 1066  869  823  710  897  998  881 1074]\n",
      " [ 813  910 1159  884  828  733  851  961  875  986]\n",
      " [ 750  933 1018  890  808  755  894 1020  916 1016]\n",
      " [ 759  970 1038  857  834  735  903 1010  889 1005]\n",
      " [ 757  895 1047  865  821  793  893 1035  841 1053]\n",
      " [ 779  889 1041  900  856  720  932 1016  902  965]\n",
      " [ 822  913 1079  890  819  756  854  956  869 1042]\n",
      " [ 812  889 1101  850  771  699  881 1006  910 1081]\n",
      " [ 767  932 1044  825  858  734  842  999  892 1107]], shape=(10, 10), dtype=int32)\n"
     ]
    }
   ],
   "source": [
    "conf_matrix2 = tf.math.confusion_matrix(tf_labels, predicted_classes2, num_classes=num_classes)\n",
    "\n",
    "print(\"Confusion Matrix:\")\n",
    "print(conf_matrix2)"
   ]
  },
  {
   "cell_type": "code",
   "execution_count": 25,
   "id": "705d85fa",
   "metadata": {},
   "outputs": [],
   "source": [
    "#plt.figure(figsize=(8, 6))\n",
    "#plt.imshow(conf_matrix2, cmap=plt.cm.Blues)\n",
    "#plt.title('Confusion Matrix')\n",
    "#plt.colorbar()\n",
    "#plt.xlabel('Predicted labels')\n",
    "#plt.ylabel('True labels')\n",
    "#plt.xticks(np.arange(len(conf_matrix2)), labels=np.arange(len(conf_matrix2)))\n",
    "#plt.yticks(np.arange(len(conf_matrix2)), labels=np.arange(len(conf_matrix2)))\n",
    "#plt.show()"
   ]
  },
  {
   "cell_type": "markdown",
   "id": "1a3b3470",
   "metadata": {},
   "source": [
    "# Third model architecture"
   ]
  },
  {
   "cell_type": "code",
   "execution_count": 75,
   "id": "e444188b",
   "metadata": {},
   "outputs": [],
   "source": [
    "def create_Architecture3():\n",
    "    model = Sequential([\n",
    "        Conv2D(256, (3, 3), strides=1, padding=\"same\", activation=\"sigmoid\", \n",
    "                 input_shape=(32, 32, 3)),\n",
    "        LayerNormalization(),\n",
    "        MaxPool2D((2, 2), strides=2, padding=\"same\"),\n",
    "        Conv2D(128, (3, 3), strides=1, padding=\"same\", activation=\"sigmoid\"),\n",
    "        LayerNormalization(),\n",
    "        MaxPool2D((2, 2), strides=2, padding=\"same\"),\n",
    "        Dropout(0.2),\n",
    "        Conv2D(64, (3, 3), strides=1, padding=\"same\", activation=\"sigmoid\"),\n",
    "        LayerNormalization(),\n",
    "        MaxPool2D((2, 2), strides=2, padding=\"same\"),\n",
    "        Conv2D(32, (3, 3), strides=1, padding=\"same\", activation=\"sigmoid\"),\n",
    "        LayerNormalization(),\n",
    "        MaxPool2D((2, 2), strides=2, padding=\"same\"),\n",
    "        Conv2D(16, (3, 3), strides=1, padding=\"same\", activation=\"sigmoid\"),\n",
    "        LayerNormalization(),\n",
    "        MaxPool2D((2, 2), strides=2, padding=\"same\"),\n",
    "        Flatten(),\n",
    "        Dense(units=1024),\n",
    "        Dropout(0.3),\n",
    "        Dense(units=num_classes, activation=\"softmax\")\n",
    "    ])\n",
    "    return model\n"
   ]
  },
  {
   "cell_type": "code",
   "execution_count": null,
   "id": "083f3959",
   "metadata": {},
   "outputs": [],
   "source": [
    "model3 = create_Architecture3()\n",
    "\n",
    "model3.compile( \n",
    "    optimizer=optimiser,\n",
    "    loss=loss_func,\n",
    "    metrics=metrics\n",
    ")\n",
    "\n",
    "#model3.summary()"
   ]
  },
  {
   "cell_type": "code",
   "execution_count": 40,
   "id": "2f5ad205",
   "metadata": {},
   "outputs": [
    {
     "name": "stdout",
     "output_type": "stream",
     "text": [
      "Epoch 1/20\n",
      "5625/5625 [==============================] - 590s 105ms/step - loss: 0.8878 - categorical_accuracy: 0.6809 - auc: 0.9549 - precision: 0.7826 - recall: 0.5829 - val_loss: 1.0898 - val_categorical_accuracy: 0.6179 - val_auc: 0.9338 - val_precision: 0.7152 - val_recall: 0.5315\n",
      "Epoch 2/20\n",
      "5625/5625 [==============================] - 583s 104ms/step - loss: 0.8732 - categorical_accuracy: 0.6858 - auc: 0.9564 - precision: 0.7840 - recall: 0.5912 - val_loss: 1.0568 - val_categorical_accuracy: 0.6287 - val_auc: 0.9371 - val_precision: 0.7286 - val_recall: 0.5376\n",
      "Epoch 3/20\n",
      "5625/5625 [==============================] - 584s 104ms/step - loss: 0.8608 - categorical_accuracy: 0.6906 - auc: 0.9577 - precision: 0.7886 - recall: 0.5954 - val_loss: 1.0719 - val_categorical_accuracy: 0.6263 - val_auc: 0.9360 - val_precision: 0.7192 - val_recall: 0.5426\n",
      "Epoch 4/20\n",
      "5625/5625 [==============================] - 585s 104ms/step - loss: 0.8472 - categorical_accuracy: 0.6963 - auc: 0.9590 - precision: 0.7892 - recall: 0.6034 - val_loss: 1.0747 - val_categorical_accuracy: 0.6262 - val_auc: 0.9358 - val_precision: 0.7158 - val_recall: 0.5448\n",
      "Epoch 5/20\n",
      "5625/5625 [==============================] - 619s 110ms/step - loss: 0.8319 - categorical_accuracy: 0.7016 - auc: 0.9603 - precision: 0.7936 - recall: 0.6122 - val_loss: 1.0948 - val_categorical_accuracy: 0.6252 - val_auc: 0.9340 - val_precision: 0.7094 - val_recall: 0.5495\n"
     ]
    }
   ],
   "source": [
    "callback = keras.callbacks.EarlyStopping(monitor='val_loss', patience=3)\n",
    "history = model3.fit(\n",
    "    train_ds,\n",
    "    validation_data=validation_ds, \n",
    "    epochs=20, \n",
    "    callbacks = [callback]\n",
    ")"
   ]
  },
  {
   "cell_type": "code",
   "execution_count": 41,
   "id": "7d695fe2",
   "metadata": {},
   "outputs": [
    {
     "name": "stdout",
     "output_type": "stream",
     "text": [
      "5625/5625 [==============================] - 175s 31ms/step - loss: 1.1079 - categorical_accuracy: 0.6180 - auc: 0.9325 - precision: 0.7037 - recall: 0.5436\n"
     ]
    },
    {
     "data": {
      "text/plain": [
       "[1.1078509092330933,\n",
       " 0.6179666519165039,\n",
       " 0.9325424432754517,\n",
       " 0.703716516494751,\n",
       " 0.5436444282531738]"
      ]
     },
     "execution_count": 41,
     "metadata": {},
     "output_type": "execute_result"
    }
   ],
   "source": [
    "model3.evaluate(test_ds)"
   ]
  },
  {
   "cell_type": "code",
   "execution_count": 29,
   "id": "ccebdc9d",
   "metadata": {},
   "outputs": [
    {
     "name": "stdout",
     "output_type": "stream",
     "text": [
      "5625/5625 [==============================] - 189s 33ms/step\n"
     ]
    }
   ],
   "source": [
    "predictions3 = model3.predict(test_ds)\n",
    "predicted_classes3 = np.argmax(predictions3, axis=1)"
   ]
  },
  {
   "cell_type": "code",
   "execution_count": 30,
   "id": "eee5b502",
   "metadata": {},
   "outputs": [
    {
     "name": "stdout",
     "output_type": "stream",
     "text": [
      "Confusion Matrix:\n",
      "tf.Tensor(\n",
      "[[1077  580  873  777  544  925  882 1064  908 1370]\n",
      " [1065  628  800  746  546  919  878 1028  945 1445]\n",
      " [1103  587  907  727  537  884  915 1066  867 1407]\n",
      " [1109  542  885  710  550  960  836 1095  918 1395]\n",
      " [1151  571  841  754  543  915  846 1086  930 1363]\n",
      " [1042  581  882  760  525  943  943 1063  883 1378]\n",
      " [1053  604  862  745  545  938  909 1034  926 1384]\n",
      " [1072  614  869  752  578  944  893 1019  903 1356]\n",
      " [1112  583  869  719  537  918  788 1069  972 1433]\n",
      " [1080  576  861  739  544  874  914 1069  903 1440]], shape=(10, 10), dtype=int32)\n"
     ]
    }
   ],
   "source": [
    "conf_matrix3 = tf.math.confusion_matrix(tf_labels, predicted_classes3, num_classes=num_classes)\n",
    "\n",
    "print(\"Confusion Matrix:\")\n",
    "print(conf_matrix3)"
   ]
  },
  {
   "cell_type": "code",
   "execution_count": 31,
   "id": "b0f4ff60",
   "metadata": {},
   "outputs": [],
   "source": [
    "#plt.figure(figsize=(8, 6))\n",
    "#plt.imshow(conf_matrix3, cmap=plt.cm.Blues)\n",
    "#plt.title('Confusion Matrix')\n",
    "#plt.colorbar()\n",
    "#plt.xlabel('Predicted labels')\n",
    "#plt.ylabel('True labels')\n",
    "#plt.xticks(np.arange(len(conf_matrix3)), labels=np.arange(len(conf_matrix3)))\n",
    "#plt.yticks(np.arange(len(conf_matrix3)), labels=np.arange(len(conf_matrix3)))\n",
    "#plt.show()"
   ]
  },
  {
   "cell_type": "markdown",
   "id": "bfcc2607",
   "metadata": {},
   "source": [
    "# VGG16 fine tuning"
   ]
  },
  {
   "cell_type": "code",
   "execution_count": 1,
   "id": "8b498387",
   "metadata": {},
   "outputs": [],
   "source": [
    "from tensorflow import keras\n",
    "\n",
    "base_model = keras.applications.VGG16(\n",
    "    weights='imagenet',\n",
    "    input_shape=(32, 32, 3),\n",
    "    include_top=False)"
   ]
  },
  {
   "cell_type": "code",
   "execution_count": 2,
   "id": "6425418f",
   "metadata": {},
   "outputs": [],
   "source": [
    "# Freeze base model\n",
    "base_model.trainable = False"
   ]
  },
  {
   "cell_type": "code",
   "execution_count": 10,
   "id": "332be217",
   "metadata": {},
   "outputs": [],
   "source": [
    "# Create inputs with correct shape\n",
    "inputs = keras.Input(shape=(32, 32, 3))\n",
    "\n",
    "x = base_model(inputs, training=False)\n",
    "\n",
    "# Add pooling layer or flatten layer\n",
    "x = keras.layers.GlobalAveragePooling2D()(x)\n",
    "\n",
    "# Add final dense layer\n",
    "outputs = keras.layers.Dense(num_classes, activation = 'softmax')(x)\n",
    "\n",
    "# Combine inputs and outputs to create model\n",
    "model = keras.Model(inputs,outputs)"
   ]
  },
  {
   "cell_type": "code",
   "execution_count": 40,
   "id": "e550de0d",
   "metadata": {},
   "outputs": [
    {
     "name": "stdout",
     "output_type": "stream",
     "text": [
      "Model: \"model_3\"\n",
      "_________________________________________________________________\n",
      " Layer (type)                Output Shape              Param #   \n",
      "=================================================================\n",
      " input_10 (InputLayer)       [(None, 32, 32, 3)]       0         \n",
      "                                                                 \n",
      " vgg19 (Functional)          (None, 1, 1, 512)         20024384  \n",
      "                                                                 \n",
      " global_average_pooling2d_3   (None, 512)              0         \n",
      " (GlobalAveragePooling2D)                                        \n",
      "                                                                 \n",
      " dense_3 (Dense)             (None, 10)                5130      \n",
      "                                                                 \n",
      "=================================================================\n",
      "Total params: 20,029,514\n",
      "Trainable params: 5,130\n",
      "Non-trainable params: 20,024,384\n",
      "_________________________________________________________________\n"
     ]
    }
   ],
   "source": [
    "model.summary()"
   ]
  },
  {
   "cell_type": "code",
   "execution_count": 17,
   "id": "c072f7bc",
   "metadata": {},
   "outputs": [],
   "source": [
    "model.compile(loss='categorical_crossentropy', metrics=['categorical_accuracy'])"
   ]
  },
  {
   "cell_type": "code",
   "execution_count": 18,
   "id": "dc6d2b14",
   "metadata": {},
   "outputs": [
    {
     "name": "stdout",
     "output_type": "stream",
     "text": [
      "Epoch 1/20\n",
      "4500/4500 [==============================] - 44s 8ms/step - loss: 5.2093 - categorical_accuracy: 0.3752 - val_loss: 3.0708 - val_categorical_accuracy: 0.3977\n",
      "Epoch 2/20\n",
      "4500/4500 [==============================] - 33s 7ms/step - loss: 3.0886 - categorical_accuracy: 0.4041 - val_loss: 3.0042 - val_categorical_accuracy: 0.4011\n",
      "Epoch 3/20\n",
      "4500/4500 [==============================] - 34s 8ms/step - loss: 3.0955 - categorical_accuracy: 0.4031 - val_loss: 3.0556 - val_categorical_accuracy: 0.3999\n",
      "Epoch 4/20\n",
      "4500/4500 [==============================] - 33s 7ms/step - loss: 3.1136 - categorical_accuracy: 0.4037 - val_loss: 3.2000 - val_categorical_accuracy: 0.3998\n",
      "Epoch 5/20\n",
      "4500/4500 [==============================] - 33s 7ms/step - loss: 3.1223 - categorical_accuracy: 0.4053 - val_loss: 3.0269 - val_categorical_accuracy: 0.4119\n"
     ]
    }
   ],
   "source": [
    "callback = keras.callbacks.EarlyStopping(monitor='loss', patience=3)\n",
    "history = model.fit(train_ds,\n",
    "          validation_data=validation_ds,\n",
    "          epochs=20,\n",
    "          callbacks=[callback]\n",
    "        )"
   ]
  },
  {
   "cell_type": "code",
   "execution_count": 20,
   "id": "8674ca70",
   "metadata": {},
   "outputs": [
    {
     "data": {
      "text/plain": [
       "<matplotlib.legend.Legend at 0x210f01c9cd0>"
      ]
     },
     "execution_count": 20,
     "metadata": {},
     "output_type": "execute_result"
    },
    {
     "data": {
      "image/png": "[encoded data removed]",
      "text/plain": [
       "<Figure size 1000x1000 with 2 Axes>"
      ]
     },
     "metadata": {},
     "output_type": "display_data"
    }
   ],
   "source": [
    "f,ax=plt.subplots(2,1,figsize=(10,10)) \n",
    "\n",
    "#Assigning the first subplot to graph training loss and validation loss\n",
    "ax[0].plot(model.history.history['loss'],color='b',label='Training Loss')\n",
    "ax[0].plot(model.history.history['val_loss'],color='r',label='Validation Loss')\n",
    "\n",
    "#Plotting the training accuracy and validation accuracy\n",
    "ax[1].plot(model.history.history['categorical_accuracy'],color='b',label='Training  Accuracy')\n",
    "ax[1].plot(model.history.history['val_categorical_accuracy'],color='r',label='Validation Accuracy')\n",
    "\n",
    "plt.legend()  "
   ]
  },
  {
   "cell_type": "code",
   "execution_count": 21,
   "id": "fce2acfc",
   "metadata": {},
   "outputs": [],
   "source": [
    "# Unfreeze the base model\n",
    "base_model.trainable = True\n",
    "\n",
    "# Compile the model with a low learning rate\n",
    "model.compile(optimizer=keras.optimizers.RMSprop(learning_rate = .00001),\n",
    "              loss = 'categorical_crossentropy' , metrics = ['categorical_accuracy'])"
   ]
  },
  {
   "cell_type": "code",
   "execution_count": 22,
   "id": "a0826ba1",
   "metadata": {},
   "outputs": [
    {
     "name": "stdout",
     "output_type": "stream",
     "text": [
      "Epoch 1/10\n",
      "4500/4500 [==============================] - 64s 14ms/step - loss: 1.2052 - categorical_accuracy: 0.5757 - val_loss: 1.0882 - val_categorical_accuracy: 0.6198\n",
      "Epoch 2/10\n",
      "4500/4500 [==============================] - 62s 14ms/step - loss: 0.9592 - categorical_accuracy: 0.6624 - val_loss: 0.9857 - val_categorical_accuracy: 0.6592\n",
      "Epoch 3/10\n",
      "4500/4500 [==============================] - 64s 14ms/step - loss: 0.8864 - categorical_accuracy: 0.6920 - val_loss: 1.0146 - val_categorical_accuracy: 0.6523\n",
      "Epoch 4/10\n",
      "4500/4500 [==============================] - 64s 14ms/step - loss: 0.8604 - categorical_accuracy: 0.7028 - val_loss: 0.9758 - val_categorical_accuracy: 0.6706\n",
      "Epoch 5/10\n",
      "4500/4500 [==============================] - 63s 14ms/step - loss: 0.8522 - categorical_accuracy: 0.7058 - val_loss: 1.0196 - val_categorical_accuracy: 0.6734\n",
      "Epoch 6/10\n",
      "4500/4500 [==============================] - 63s 14ms/step - loss: 0.8549 - categorical_accuracy: 0.7060 - val_loss: 1.0219 - val_categorical_accuracy: 0.6727\n",
      "Epoch 7/10\n",
      "4500/4500 [==============================] - 62s 14ms/step - loss: 0.8759 - categorical_accuracy: 0.7041 - val_loss: 1.0432 - val_categorical_accuracy: 0.6770\n",
      "Epoch 8/10\n",
      "4500/4500 [==============================] - 61s 13ms/step - loss: 0.9036 - categorical_accuracy: 0.7018 - val_loss: 1.1461 - val_categorical_accuracy: 0.6189\n"
     ]
    }
   ],
   "source": [
    "callback = keras.callbacks.EarlyStopping(monitor='loss', patience=3)\n",
    "history = model.fit(train_ds,\n",
    "          validation_data=validation_ds,\n",
    "          epochs=10,\n",
    "          callbacks=[callback]\n",
    ")"
   ]
  },
  {
   "cell_type": "code",
   "execution_count": 23,
   "id": "6e29db01",
   "metadata": {},
   "outputs": [
    {
     "data": {
      "text/plain": [
       "<matplotlib.legend.Legend at 0x210f4770a90>"
      ]
     },
     "execution_count": 23,
     "metadata": {},
     "output_type": "execute_result"
    },
    {
     "data": {
      "image/png": "[encoded data removed]",
      "text/plain": [
       "<Figure size 1000x1000 with 2 Axes>"
      ]
     },
     "metadata": {},
     "output_type": "display_data"
    }
   ],
   "source": [
    "f,ax=plt.subplots(2,1,figsize=(10,10)) \n",
    "\n",
    "#Assigning the first subplot to graph training loss and validation loss\n",
    "ax[0].plot(model.history.history['loss'],color='b',label='Training Loss')\n",
    "ax[0].plot(model.history.history['val_loss'],color='r',label='Validation Loss')\n",
    "\n",
    "#Plotting the training accuracy and validation accuracy\n",
    "ax[1].plot(model.history.history['categorical_accuracy'],color='b',label='Training  Accuracy')\n",
    "ax[1].plot(model.history.history['val_categorical_accuracy'],color='r',label='Validation Accuracy')\n",
    "\n",
    "plt.legend()"
   ]
  },
  {
   "cell_type": "code",
   "execution_count": 24,
   "id": "c836c697",
   "metadata": {},
   "outputs": [
    {
     "name": "stdout",
     "output_type": "stream",
     "text": [
      "1125/1125 [==============================] - 6s 6ms/step - loss: 1.1461 - categorical_accuracy: 0.6189\n"
     ]
    },
    {
     "data": {
      "text/plain": [
       "[1.1461471319198608, 0.6189444661140442]"
      ]
     },
     "execution_count": 24,
     "metadata": {},
     "output_type": "execute_result"
    }
   ],
   "source": [
    "model.evaluate(validation_ds)"
   ]
  },
  {
   "cell_type": "markdown",
   "id": "5655c544",
   "metadata": {},
   "source": [
    "# Komitet"
   ]
  },
  {
   "cell_type": "code",
   "execution_count": 76,
   "id": "043b80aa",
   "metadata": {},
   "outputs": [
    {
     "name": "stdout",
     "output_type": "stream",
     "text": [
      "Epoch 1/20\n",
      "5625/5625 [==============================] - 521s 92ms/step - loss: 1.5214 - categorical_accuracy: 0.4522 - auc: 0.8672 - precision: 0.6202 - recall: 0.2748 - val_loss: 1.3679 - val_categorical_accuracy: 0.5006 - val_auc: 0.8947 - val_precision: 0.6435 - val_recall: 0.3492\n",
      "Epoch 2/20\n",
      "5625/5625 [==============================] - 502s 89ms/step - loss: 1.2069 - categorical_accuracy: 0.5658 - auc: 0.9170 - precision: 0.7167 - recall: 0.4137 - val_loss: 1.2295 - val_categorical_accuracy: 0.5565 - val_auc: 0.9138 - val_precision: 0.7188 - val_recall: 0.3919\n",
      "Epoch 3/20\n",
      "5625/5625 [==============================] - 501s 89ms/step - loss: 1.1021 - categorical_accuracy: 0.6048 - auc: 0.9308 - precision: 0.7410 - recall: 0.4719 - val_loss: 1.1478 - val_categorical_accuracy: 0.5897 - val_auc: 0.9247 - val_precision: 0.7467 - val_recall: 0.4419\n",
      "Epoch 4/20\n",
      "5625/5625 [==============================] - 469s 83ms/step - loss: 1.0339 - categorical_accuracy: 0.6317 - auc: 0.9392 - precision: 0.7568 - recall: 0.5099 - val_loss: 1.1331 - val_categorical_accuracy: 0.5948 - val_auc: 0.9268 - val_precision: 0.7447 - val_recall: 0.4524\n",
      "Epoch 5/20\n",
      "5625/5625 [==============================] - 481s 85ms/step - loss: 0.9824 - categorical_accuracy: 0.6504 - auc: 0.9448 - precision: 0.7682 - recall: 0.5393 - val_loss: 1.0644 - val_categorical_accuracy: 0.6174 - val_auc: 0.9355 - val_precision: 0.7535 - val_recall: 0.4953\n",
      "Epoch 6/20\n",
      "5625/5625 [==============================] - 480s 85ms/step - loss: 0.9419 - categorical_accuracy: 0.6643 - auc: 0.9493 - precision: 0.7752 - recall: 0.5581 - val_loss: 1.0381 - val_categorical_accuracy: 0.6332 - val_auc: 0.9383 - val_precision: 0.7578 - val_recall: 0.5193\n",
      "Epoch 7/20\n",
      "5625/5625 [==============================] - 487s 87ms/step - loss: 0.9091 - categorical_accuracy: 0.6768 - auc: 0.9526 - precision: 0.7820 - recall: 0.5770 - val_loss: 1.1019 - val_categorical_accuracy: 0.6121 - val_auc: 0.9316 - val_precision: 0.7219 - val_recall: 0.5134\n",
      "Epoch 8/20\n",
      "5625/5625 [==============================] - 476s 85ms/step - loss: 0.8801 - categorical_accuracy: 0.6874 - auc: 0.9554 - precision: 0.7883 - recall: 0.5926 - val_loss: 1.1255 - val_categorical_accuracy: 0.6012 - val_auc: 0.9290 - val_precision: 0.7129 - val_recall: 0.5027\n",
      "Epoch 9/20\n",
      "5625/5625 [==============================] - 471s 84ms/step - loss: 0.8567 - categorical_accuracy: 0.6958 - auc: 0.9577 - precision: 0.7927 - recall: 0.6072 - val_loss: 0.9953 - val_categorical_accuracy: 0.6490 - val_auc: 0.9436 - val_precision: 0.7518 - val_recall: 0.5572\n",
      "Epoch 10/20\n",
      "5625/5625 [==============================] - 478s 85ms/step - loss: 0.8345 - categorical_accuracy: 0.7027 - auc: 0.9599 - precision: 0.7967 - recall: 0.6189 - val_loss: 1.0151 - val_categorical_accuracy: 0.6482 - val_auc: 0.9418 - val_precision: 0.7411 - val_recall: 0.5690\n",
      "Epoch 11/20\n",
      "5625/5625 [==============================] - 478s 85ms/step - loss: 0.8172 - categorical_accuracy: 0.7109 - auc: 0.9614 - precision: 0.8009 - recall: 0.6272 - val_loss: 1.0056 - val_categorical_accuracy: 0.6493 - val_auc: 0.9425 - val_precision: 0.7497 - val_recall: 0.5606\n",
      "Epoch 12/20\n",
      "5625/5625 [==============================] - 478s 85ms/step - loss: 0.7944 - categorical_accuracy: 0.7188 - auc: 0.9633 - precision: 0.8038 - recall: 0.6405 - val_loss: 1.1650 - val_categorical_accuracy: 0.6067 - val_auc: 0.9248 - val_precision: 0.7109 - val_recall: 0.5193\n",
      "Epoch 1/20\n",
      "5625/5625 [==============================] - 229s 40ms/step - loss: 1.6860 - categorical_accuracy: 0.3856 - auc: 0.8304 - precision: 0.6189 - recall: 0.1652 - val_loss: 1.4632 - val_categorical_accuracy: 0.4664 - val_auc: 0.8768 - val_precision: 0.6466 - val_recall: 0.2796\n",
      "Epoch 2/20\n",
      "5625/5625 [==============================] - 223s 40ms/step - loss: 1.3816 - categorical_accuracy: 0.4969 - auc: 0.8902 - precision: 0.6892 - recall: 0.3010 - val_loss: 1.3251 - val_categorical_accuracy: 0.5155 - val_auc: 0.8995 - val_precision: 0.6921 - val_recall: 0.3363\n",
      "Epoch 3/20\n",
      "5625/5625 [==============================] - 213s 38ms/step - loss: 1.2811 - categorical_accuracy: 0.5378 - auc: 0.9062 - precision: 0.7112 - recall: 0.3591 - val_loss: 1.2710 - val_categorical_accuracy: 0.5400 - val_auc: 0.9083 - val_precision: 0.6906 - val_recall: 0.3911\n",
      "Epoch 4/20\n",
      "5625/5625 [==============================] - 222s 39ms/step - loss: 1.2186 - categorical_accuracy: 0.5596 - auc: 0.9153 - precision: 0.7244 - recall: 0.3968 - val_loss: 1.2052 - val_categorical_accuracy: 0.5680 - val_auc: 0.9172 - val_precision: 0.7300 - val_recall: 0.4062\n",
      "Epoch 5/20\n",
      "5625/5625 [==============================] - 231s 41ms/step - loss: 1.1718 - categorical_accuracy: 0.5792 - auc: 0.9218 - precision: 0.7321 - recall: 0.4237 - val_loss: 1.1998 - val_categorical_accuracy: 0.5663 - val_auc: 0.9183 - val_precision: 0.7098 - val_recall: 0.4269\n",
      "Epoch 6/20\n",
      "5625/5625 [==============================] - 217s 39ms/step - loss: 1.1371 - categorical_accuracy: 0.5903 - auc: 0.9264 - precision: 0.7394 - recall: 0.4434 - val_loss: 1.1804 - val_categorical_accuracy: 0.5758 - val_auc: 0.9209 - val_precision: 0.7180 - val_recall: 0.4411\n",
      "Epoch 7/20\n",
      "5625/5625 [==============================] - 223s 40ms/step - loss: 1.1079 - categorical_accuracy: 0.6037 - auc: 0.9301 - precision: 0.7466 - recall: 0.4623 - val_loss: 1.1422 - val_categorical_accuracy: 0.5900 - val_auc: 0.9257 - val_precision: 0.7334 - val_recall: 0.4506\n",
      "Epoch 8/20\n",
      "5625/5625 [==============================] - 221s 39ms/step - loss: 1.0835 - categorical_accuracy: 0.6129 - auc: 0.9331 - precision: 0.7506 - recall: 0.4746 - val_loss: 1.1932 - val_categorical_accuracy: 0.5786 - val_auc: 0.9196 - val_precision: 0.7092 - val_recall: 0.4578\n",
      "Epoch 9/20\n",
      "5625/5625 [==============================] - 216s 38ms/step - loss: 1.0640 - categorical_accuracy: 0.6201 - auc: 0.9355 - precision: 0.7539 - recall: 0.4876 - val_loss: 1.0928 - val_categorical_accuracy: 0.6089 - val_auc: 0.9319 - val_precision: 0.7445 - val_recall: 0.4777\n",
      "Epoch 10/20\n",
      "5625/5625 [==============================] - 222s 39ms/step - loss: 1.0450 - categorical_accuracy: 0.6281 - auc: 0.9377 - precision: 0.7568 - recall: 0.4990 - val_loss: 1.1272 - val_categorical_accuracy: 0.5978 - val_auc: 0.9278 - val_precision: 0.7297 - val_recall: 0.4752\n",
      "Epoch 11/20\n",
      "5625/5625 [==============================] - 222s 39ms/step - loss: 1.0289 - categorical_accuracy: 0.6330 - auc: 0.9396 - precision: 0.7605 - recall: 0.5079 - val_loss: 1.0933 - val_categorical_accuracy: 0.6100 - val_auc: 0.9320 - val_precision: 0.7361 - val_recall: 0.4897\n",
      "Epoch 12/20\n",
      "5625/5625 [==============================] - 221s 39ms/step - loss: 1.0154 - categorical_accuracy: 0.6386 - auc: 0.9410 - precision: 0.7648 - recall: 0.5177 - val_loss: 1.1222 - val_categorical_accuracy: 0.5991 - val_auc: 0.9286 - val_precision: 0.7241 - val_recall: 0.4816\n",
      "Epoch 1/20\n",
      "5625/5625 [==============================] - 704s 125ms/step - loss: 1.7608 - categorical_accuracy: 0.3394 - auc: 0.8105 - precision: 0.5802 - recall: 0.1088 - val_loss: 1.5389 - val_categorical_accuracy: 0.4240 - val_auc: 0.8622 - val_precision: 0.6146 - val_recall: 0.2192\n",
      "Epoch 2/20\n",
      "5625/5625 [==============================] - 728s 129ms/step - loss: 1.5181 - categorical_accuracy: 0.4374 - auc: 0.8662 - precision: 0.6360 - recall: 0.2253 - val_loss: 1.4358 - val_categorical_accuracy: 0.4685 - val_auc: 0.8813 - val_precision: 0.6610 - val_recall: 0.2630\n",
      "Epoch 3/20\n",
      "5625/5625 [==============================] - 763s 136ms/step - loss: 1.4332 - categorical_accuracy: 0.4724 - auc: 0.8818 - precision: 0.6615 - recall: 0.2764 - val_loss: 1.4042 - val_categorical_accuracy: 0.4819 - val_auc: 0.8874 - val_precision: 0.6551 - val_recall: 0.2989\n",
      "Epoch 4/20\n",
      "5625/5625 [==============================] - 748s 133ms/step - loss: 1.3818 - categorical_accuracy: 0.4918 - auc: 0.8906 - precision: 0.6763 - recall: 0.3046 - val_loss: 1.3587 - val_categorical_accuracy: 0.5027 - val_auc: 0.8942 - val_precision: 0.7066 - val_recall: 0.2984\n",
      "Epoch 5/20\n",
      "5625/5625 [==============================] - 679s 121ms/step - loss: 1.3448 - categorical_accuracy: 0.5084 - auc: 0.8966 - precision: 0.6891 - recall: 0.3270 - val_loss: 1.3125 - val_categorical_accuracy: 0.5203 - val_auc: 0.9015 - val_precision: 0.7161 - val_recall: 0.3268\n"
     ]
    },
    {
     "name": "stdout",
     "output_type": "stream",
     "text": [
      "Epoch 6/20\n",
      "5625/5625 [==============================] - 684s 122ms/step - loss: 1.3180 - categorical_accuracy: 0.5186 - auc: 0.9008 - precision: 0.6926 - recall: 0.3417 - val_loss: 1.3329 - val_categorical_accuracy: 0.5082 - val_auc: 0.8987 - val_precision: 0.6906 - val_recall: 0.3235\n",
      "Epoch 7/20\n",
      "5625/5625 [==============================] - 674s 120ms/step - loss: 1.2977 - categorical_accuracy: 0.5266 - auc: 0.9040 - precision: 0.6985 - recall: 0.3528 - val_loss: 1.2946 - val_categorical_accuracy: 0.5315 - val_auc: 0.9041 - val_precision: 0.7132 - val_recall: 0.3482\n",
      "Epoch 8/20\n",
      "5625/5625 [==============================] - 745s 132ms/step - loss: 1.2787 - categorical_accuracy: 0.5329 - auc: 0.9069 - precision: 0.7016 - recall: 0.3632 - val_loss: 1.2898 - val_categorical_accuracy: 0.5298 - val_auc: 0.9053 - val_precision: 0.6946 - val_recall: 0.3641\n",
      "Epoch 9/20\n",
      "5625/5625 [==============================] - 733s 130ms/step - loss: 1.2580 - categorical_accuracy: 0.5428 - auc: 0.9099 - precision: 0.7078 - recall: 0.3767 - val_loss: 1.2699 - val_categorical_accuracy: 0.5389 - val_auc: 0.9081 - val_precision: 0.7097 - val_recall: 0.3667\n",
      "Epoch 10/20\n",
      "5625/5625 [==============================] - 614s 109ms/step - loss: 1.2459 - categorical_accuracy: 0.5472 - auc: 0.9116 - precision: 0.7100 - recall: 0.3858 - val_loss: 1.2570 - val_categorical_accuracy: 0.5459 - val_auc: 0.9099 - val_precision: 0.7177 - val_recall: 0.3811\n",
      "Epoch 11/20\n",
      "5625/5625 [==============================] - 781s 139ms/step - loss: 1.2376 - categorical_accuracy: 0.5509 - auc: 0.9130 - precision: 0.7089 - recall: 0.3896 - val_loss: 1.2407 - val_categorical_accuracy: 0.5498 - val_auc: 0.9124 - val_precision: 0.7092 - val_recall: 0.3953\n",
      "Epoch 12/20\n",
      "5625/5625 [==============================] - 718s 128ms/step - loss: 1.2297 - categorical_accuracy: 0.5545 - auc: 0.9140 - precision: 0.7118 - recall: 0.3973 - val_loss: 1.2400 - val_categorical_accuracy: 0.5538 - val_auc: 0.9123 - val_precision: 0.7161 - val_recall: 0.3875\n",
      "Epoch 13/20\n",
      "5625/5625 [==============================] - 646s 115ms/step - loss: 1.2229 - categorical_accuracy: 0.5566 - auc: 0.9150 - precision: 0.7139 - recall: 0.3998 - val_loss: 1.2409 - val_categorical_accuracy: 0.5493 - val_auc: 0.9127 - val_precision: 0.6986 - val_recall: 0.4057\n",
      "Epoch 14/20\n",
      "5625/5625 [==============================] - 647s 115ms/step - loss: 1.2052 - categorical_accuracy: 0.5632 - auc: 0.9175 - precision: 0.7162 - recall: 0.4092 - val_loss: 1.2424 - val_categorical_accuracy: 0.5505 - val_auc: 0.9120 - val_precision: 0.7162 - val_recall: 0.3921\n",
      "Epoch 15/20\n",
      "5625/5625 [==============================] - 687s 122ms/step - loss: 1.1967 - categorical_accuracy: 0.5665 - auc: 0.9186 - precision: 0.7217 - recall: 0.4148 - val_loss: 1.2434 - val_categorical_accuracy: 0.5548 - val_auc: 0.9120 - val_precision: 0.7034 - val_recall: 0.4095\n",
      "Epoch 1/20\n",
      "5625/5625 [==============================] - 456s 81ms/step - loss: 1.5276 - categorical_accuracy: 0.4489 - auc: 0.8661 - precision: 0.6173 - recall: 0.2713 - val_loss: 1.4559 - val_categorical_accuracy: 0.4937 - val_auc: 0.8810 - val_precision: 0.6394 - val_recall: 0.3595\n",
      "Epoch 2/20\n",
      "5625/5625 [==============================] - 451s 80ms/step - loss: 1.2103 - categorical_accuracy: 0.5635 - auc: 0.9166 - precision: 0.7186 - recall: 0.4141 - val_loss: 1.2325 - val_categorical_accuracy: 0.5651 - val_auc: 0.9132 - val_precision: 0.7252 - val_recall: 0.4100\n",
      "Epoch 3/20\n",
      "5625/5625 [==============================] - 455s 81ms/step - loss: 1.1067 - categorical_accuracy: 0.6034 - auc: 0.9303 - precision: 0.7398 - recall: 0.4695 - val_loss: 1.1050 - val_categorical_accuracy: 0.6036 - val_auc: 0.9304 - val_precision: 0.7477 - val_recall: 0.4645\n",
      "Epoch 4/20\n",
      "5625/5625 [==============================] - 463s 82ms/step - loss: 1.0315 - categorical_accuracy: 0.6309 - auc: 0.9394 - precision: 0.7575 - recall: 0.5128 - val_loss: 1.0639 - val_categorical_accuracy: 0.6172 - val_auc: 0.9357 - val_precision: 0.7433 - val_recall: 0.5023\n",
      "Epoch 5/20\n",
      "5625/5625 [==============================] - 454s 81ms/step - loss: 0.9820 - categorical_accuracy: 0.6508 - auc: 0.9449 - precision: 0.7666 - recall: 0.5380 - val_loss: 1.0903 - val_categorical_accuracy: 0.6106 - val_auc: 0.9323 - val_precision: 0.7443 - val_recall: 0.4895\n",
      "Epoch 6/20\n",
      "5625/5625 [==============================] - 429s 76ms/step - loss: 0.9411 - categorical_accuracy: 0.6648 - auc: 0.9493 - precision: 0.7762 - recall: 0.5613 - val_loss: 1.1476 - val_categorical_accuracy: 0.5960 - val_auc: 0.9254 - val_precision: 0.7238 - val_recall: 0.4856\n",
      "Epoch 7/20\n",
      "5625/5625 [==============================] - 652s 116ms/step - loss: 0.9081 - categorical_accuracy: 0.6774 - auc: 0.9527 - precision: 0.7819 - recall: 0.5792 - val_loss: 1.0904 - val_categorical_accuracy: 0.6225 - val_auc: 0.9327 - val_precision: 0.7316 - val_recall: 0.5251\n",
      "Epoch 1/20\n",
      "5625/5625 [==============================] - 224s 39ms/step - loss: 1.6945 - categorical_accuracy: 0.3844 - auc: 0.8282 - precision: 0.6116 - recall: 0.1622 - val_loss: 1.4329 - val_categorical_accuracy: 0.4729 - val_auc: 0.8820 - val_precision: 0.6583 - val_recall: 0.2811\n",
      "Epoch 2/20\n",
      "5625/5625 [==============================] - 201s 36ms/step - loss: 1.3780 - categorical_accuracy: 0.4990 - auc: 0.8909 - precision: 0.6908 - recall: 0.3029 - val_loss: 1.3564 - val_categorical_accuracy: 0.5118 - val_auc: 0.8956 - val_precision: 0.6671 - val_recall: 0.3555\n",
      "Epoch 3/20\n",
      "5625/5625 [==============================] - 200s 35ms/step - loss: 1.2780 - categorical_accuracy: 0.5385 - auc: 0.9066 - precision: 0.7109 - recall: 0.3608 - val_loss: 1.2297 - val_categorical_accuracy: 0.5557 - val_auc: 0.9137 - val_precision: 0.7258 - val_recall: 0.3855\n",
      "Epoch 4/20\n",
      "5625/5625 [==============================] - 215s 38ms/step - loss: 1.2106 - categorical_accuracy: 0.5668 - auc: 0.9163 - precision: 0.7250 - recall: 0.4028 - val_loss: 1.2163 - val_categorical_accuracy: 0.5633 - val_auc: 0.9159 - val_precision: 0.7095 - val_recall: 0.4190\n",
      "Epoch 5/20\n",
      "5625/5625 [==============================] - 210s 37ms/step - loss: 1.1629 - categorical_accuracy: 0.5838 - auc: 0.9229 - precision: 0.7336 - recall: 0.4306 - val_loss: 1.1630 - val_categorical_accuracy: 0.5814 - val_auc: 0.9229 - val_precision: 0.7379 - val_recall: 0.4269\n",
      "Epoch 6/20\n",
      "5625/5625 [==============================] - 206s 37ms/step - loss: 1.1270 - categorical_accuracy: 0.5971 - auc: 0.9277 - precision: 0.7393 - recall: 0.4522 - val_loss: 1.1445 - val_categorical_accuracy: 0.5910 - val_auc: 0.9254 - val_precision: 0.7342 - val_recall: 0.4511\n",
      "Epoch 7/20\n",
      "5625/5625 [==============================] - 231s 41ms/step - loss: 1.0982 - categorical_accuracy: 0.6073 - auc: 0.9313 - precision: 0.7479 - recall: 0.4697 - val_loss: 1.1149 - val_categorical_accuracy: 0.5998 - val_auc: 0.9292 - val_precision: 0.7413 - val_recall: 0.4623\n",
      "Epoch 8/20\n",
      "5625/5625 [==============================] - 194s 34ms/step - loss: 1.0740 - categorical_accuracy: 0.6176 - auc: 0.9343 - precision: 0.7502 - recall: 0.4837 - val_loss: 1.1597 - val_categorical_accuracy: 0.5831 - val_auc: 0.9235 - val_precision: 0.7244 - val_recall: 0.4508\n",
      "Epoch 9/20\n",
      "5625/5625 [==============================] - 227s 40ms/step - loss: 1.0548 - categorical_accuracy: 0.6218 - auc: 0.9366 - precision: 0.7550 - recall: 0.4935 - val_loss: 1.0983 - val_categorical_accuracy: 0.6062 - val_auc: 0.9314 - val_precision: 0.7361 - val_recall: 0.4803\n",
      "Epoch 10/20\n",
      "5625/5625 [==============================] - 200s 35ms/step - loss: 1.0384 - categorical_accuracy: 0.6291 - auc: 0.9385 - precision: 0.7578 - recall: 0.5035 - val_loss: 1.1056 - val_categorical_accuracy: 0.6050 - val_auc: 0.9306 - val_precision: 0.7313 - val_recall: 0.4889\n",
      "Epoch 11/20\n",
      "5625/5625 [==============================] - 185s 33ms/step - loss: 1.0234 - categorical_accuracy: 0.6347 - auc: 0.9402 - precision: 0.7609 - recall: 0.5130 - val_loss: 1.1199 - val_categorical_accuracy: 0.5993 - val_auc: 0.9287 - val_precision: 0.7347 - val_recall: 0.4681\n",
      "Epoch 12/20\n",
      "5625/5625 [==============================] - 185s 33ms/step - loss: 1.0096 - categorical_accuracy: 0.6418 - auc: 0.9418 - precision: 0.7636 - recall: 0.5212 - val_loss: 1.0774 - val_categorical_accuracy: 0.6142 - val_auc: 0.9339 - val_precision: 0.7473 - val_recall: 0.4868\n"
     ]
    },
    {
     "name": "stdout",
     "output_type": "stream",
     "text": [
      "Epoch 13/20\n",
      "5625/5625 [==============================] - 179s 32ms/step - loss: 0.9975 - categorical_accuracy: 0.6443 - auc: 0.9432 - precision: 0.7666 - recall: 0.5267 - val_loss: 1.1017 - val_categorical_accuracy: 0.6040 - val_auc: 0.9312 - val_precision: 0.7306 - val_recall: 0.4851\n",
      "Epoch 14/20\n",
      "5625/5625 [==============================] - 179s 32ms/step - loss: 0.9857 - categorical_accuracy: 0.6503 - auc: 0.9446 - precision: 0.7688 - recall: 0.5337 - val_loss: 1.0735 - val_categorical_accuracy: 0.6171 - val_auc: 0.9345 - val_precision: 0.7376 - val_recall: 0.5033\n",
      "Epoch 15/20\n",
      "5625/5625 [==============================] - 180s 32ms/step - loss: 0.9759 - categorical_accuracy: 0.6520 - auc: 0.9456 - precision: 0.7700 - recall: 0.5393 - val_loss: 1.0789 - val_categorical_accuracy: 0.6144 - val_auc: 0.9338 - val_precision: 0.7396 - val_recall: 0.4958\n",
      "Epoch 16/20\n",
      "5625/5625 [==============================] - 179s 32ms/step - loss: 0.9674 - categorical_accuracy: 0.6555 - auc: 0.9465 - precision: 0.7706 - recall: 0.5435 - val_loss: 1.0647 - val_categorical_accuracy: 0.6220 - val_auc: 0.9357 - val_precision: 0.7384 - val_recall: 0.5133\n",
      "Epoch 17/20\n",
      "5625/5625 [==============================] - 177s 32ms/step - loss: 0.9577 - categorical_accuracy: 0.6579 - auc: 0.9475 - precision: 0.7732 - recall: 0.5491 - val_loss: 1.0652 - val_categorical_accuracy: 0.6211 - val_auc: 0.9355 - val_precision: 0.7397 - val_recall: 0.5089\n",
      "Epoch 18/20\n",
      "5625/5625 [==============================] - 177s 32ms/step - loss: 0.9488 - categorical_accuracy: 0.6616 - auc: 0.9485 - precision: 0.7746 - recall: 0.5550 - val_loss: 1.0664 - val_categorical_accuracy: 0.6205 - val_auc: 0.9355 - val_precision: 0.7336 - val_recall: 0.5146\n",
      "Epoch 19/20\n",
      "5625/5625 [==============================] - 182s 32ms/step - loss: 0.9406 - categorical_accuracy: 0.6662 - auc: 0.9493 - precision: 0.7764 - recall: 0.5583 - val_loss: 1.0635 - val_categorical_accuracy: 0.6218 - val_auc: 0.9358 - val_precision: 0.7350 - val_recall: 0.5156\n",
      "Epoch 20/20\n",
      "5625/5625 [==============================] - 182s 32ms/step - loss: 0.9346 - categorical_accuracy: 0.6658 - auc: 0.9500 - precision: 0.7778 - recall: 0.5608 - val_loss: 1.0942 - val_categorical_accuracy: 0.6102 - val_auc: 0.9324 - val_precision: 0.7206 - val_recall: 0.5062\n",
      "Epoch 1/20\n",
      "5625/5625 [==============================] - 588s 104ms/step - loss: 1.7561 - categorical_accuracy: 0.3377 - auc: 0.8109 - precision: 0.5874 - recall: 0.1121 - val_loss: 1.5205 - val_categorical_accuracy: 0.4311 - val_auc: 0.8660 - val_precision: 0.6180 - val_recall: 0.2192\n",
      "Epoch 2/20\n",
      "5625/5625 [==============================] - 581s 103ms/step - loss: 1.4985 - categorical_accuracy: 0.4423 - auc: 0.8699 - precision: 0.6405 - recall: 0.2358 - val_loss: 1.4310 - val_categorical_accuracy: 0.4715 - val_auc: 0.8821 - val_precision: 0.6618 - val_recall: 0.2776\n",
      "Epoch 3/20\n",
      "5625/5625 [==============================] - 574s 102ms/step - loss: 1.4116 - categorical_accuracy: 0.4792 - auc: 0.8855 - precision: 0.6651 - recall: 0.2885 - val_loss: 1.3561 - val_categorical_accuracy: 0.4970 - val_auc: 0.8950 - val_precision: 0.6718 - val_recall: 0.3186\n",
      "Epoch 4/20\n",
      "5625/5625 [==============================] - 578s 103ms/step - loss: 1.3672 - categorical_accuracy: 0.4978 - auc: 0.8930 - precision: 0.6752 - recall: 0.3152 - val_loss: 1.3387 - val_categorical_accuracy: 0.5095 - val_auc: 0.8978 - val_precision: 0.6795 - val_recall: 0.3301\n",
      "Epoch 5/20\n",
      "5625/5625 [==============================] - 574s 102ms/step - loss: 1.3344 - categorical_accuracy: 0.5141 - auc: 0.8982 - precision: 0.6845 - recall: 0.3371 - val_loss: 1.3455 - val_categorical_accuracy: 0.5069 - val_auc: 0.8968 - val_precision: 0.6672 - val_recall: 0.3293\n",
      "Epoch 6/20\n",
      "5625/5625 [==============================] - 575s 102ms/step - loss: 1.3111 - categorical_accuracy: 0.5208 - auc: 0.9019 - precision: 0.6919 - recall: 0.3506 - val_loss: 1.3017 - val_categorical_accuracy: 0.5233 - val_auc: 0.9034 - val_precision: 0.6978 - val_recall: 0.3545\n",
      "Epoch 7/20\n",
      "5625/5625 [==============================] - 599s 107ms/step - loss: 1.2827 - categorical_accuracy: 0.5312 - auc: 0.9062 - precision: 0.6984 - recall: 0.3653 - val_loss: 1.2593 - val_categorical_accuracy: 0.5411 - val_auc: 0.9099 - val_precision: 0.6984 - val_recall: 0.3860\n",
      "Epoch 8/20\n",
      "5625/5625 [==============================] - 576s 102ms/step - loss: 1.2673 - categorical_accuracy: 0.5384 - auc: 0.9086 - precision: 0.7033 - recall: 0.3746 - val_loss: 1.2870 - val_categorical_accuracy: 0.5317 - val_auc: 0.9055 - val_precision: 0.6986 - val_recall: 0.3687\n",
      "Epoch 9/20\n",
      "5625/5625 [==============================] - 576s 102ms/step - loss: 1.2609 - categorical_accuracy: 0.5397 - auc: 0.9095 - precision: 0.7063 - recall: 0.3784 - val_loss: 1.2886 - val_categorical_accuracy: 0.5318 - val_auc: 0.9053 - val_precision: 0.6993 - val_recall: 0.3662\n",
      "Epoch 10/20\n",
      "5625/5625 [==============================] - 577s 103ms/step - loss: 1.2415 - categorical_accuracy: 0.5491 - auc: 0.9123 - precision: 0.7110 - recall: 0.3910 - val_loss: 1.2194 - val_categorical_accuracy: 0.5587 - val_auc: 0.9153 - val_precision: 0.7208 - val_recall: 0.3987\n",
      "Epoch 11/20\n",
      "5625/5625 [==============================] - 578s 103ms/step - loss: 1.2368 - categorical_accuracy: 0.5501 - auc: 0.9130 - precision: 0.7112 - recall: 0.3918 - val_loss: 1.2353 - val_categorical_accuracy: 0.5484 - val_auc: 0.9132 - val_precision: 0.7081 - val_recall: 0.3955\n",
      "Epoch 12/20\n",
      "5625/5625 [==============================] - 589s 105ms/step - loss: 1.2305 - categorical_accuracy: 0.5524 - auc: 0.9139 - precision: 0.7131 - recall: 0.3980 - val_loss: 1.2234 - val_categorical_accuracy: 0.5572 - val_auc: 0.9151 - val_precision: 0.7021 - val_recall: 0.4168\n",
      "Epoch 13/20\n",
      "5625/5625 [==============================] - 576s 102ms/step - loss: 1.2177 - categorical_accuracy: 0.5594 - auc: 0.9157 - precision: 0.7163 - recall: 0.4059 - val_loss: 1.2459 - val_categorical_accuracy: 0.5480 - val_auc: 0.9115 - val_precision: 0.7108 - val_recall: 0.3994\n",
      "Epoch 1/20\n",
      "5625/5625 [==============================] - 438s 78ms/step - loss: 1.5317 - categorical_accuracy: 0.4499 - auc: 0.8652 - precision: 0.6183 - recall: 0.2719 - val_loss: 1.3317 - val_categorical_accuracy: 0.5033 - val_auc: 0.8992 - val_precision: 0.6656 - val_recall: 0.3331\n",
      "Epoch 2/20\n",
      "5625/5625 [==============================] - 408s 72ms/step - loss: 1.2106 - categorical_accuracy: 0.5654 - auc: 0.9166 - precision: 0.7158 - recall: 0.4139 - val_loss: 1.5688 - val_categorical_accuracy: 0.4693 - val_auc: 0.8629 - val_precision: 0.6316 - val_recall: 0.3226\n",
      "Epoch 3/20\n",
      "5625/5625 [==============================] - 406s 72ms/step - loss: 1.1056 - categorical_accuracy: 0.6061 - auc: 0.9305 - precision: 0.7405 - recall: 0.4720 - val_loss: 1.1579 - val_categorical_accuracy: 0.5902 - val_auc: 0.9232 - val_precision: 0.7533 - val_recall: 0.4381\n",
      "Epoch 4/20\n",
      "5625/5625 [==============================] - 405s 72ms/step - loss: 1.0358 - categorical_accuracy: 0.6294 - auc: 0.9389 - precision: 0.7590 - recall: 0.5105 - val_loss: 1.2203 - val_categorical_accuracy: 0.5570 - val_auc: 0.9159 - val_precision: 0.6959 - val_recall: 0.4227\n",
      "Epoch 5/20\n",
      "5625/5625 [==============================] - 406s 72ms/step - loss: 0.9781 - categorical_accuracy: 0.6517 - auc: 0.9453 - precision: 0.7684 - recall: 0.5405 - val_loss: 1.2592 - val_categorical_accuracy: 0.5632 - val_auc: 0.9100 - val_precision: 0.7032 - val_recall: 0.4311\n",
      "Epoch 6/20\n",
      "5625/5625 [==============================] - 406s 72ms/step - loss: 0.9388 - categorical_accuracy: 0.6656 - auc: 0.9496 - precision: 0.7757 - recall: 0.5633 - val_loss: 1.1238 - val_categorical_accuracy: 0.6040 - val_auc: 0.9286 - val_precision: 0.7242 - val_recall: 0.4948\n",
      "Epoch 7/20\n",
      "5625/5625 [==============================] - 419s 75ms/step - loss: 0.8996 - categorical_accuracy: 0.6813 - auc: 0.9536 - precision: 0.7843 - recall: 0.5839 - val_loss: 1.0484 - val_categorical_accuracy: 0.6308 - val_auc: 0.9375 - val_precision: 0.7451 - val_recall: 0.5266\n",
      "Epoch 8/20\n",
      "5625/5625 [==============================] - 407s 72ms/step - loss: 0.8732 - categorical_accuracy: 0.6897 - auc: 0.9562 - precision: 0.7877 - recall: 0.5980 - val_loss: 1.0337 - val_categorical_accuracy: 0.6401 - val_auc: 0.9399 - val_precision: 0.7335 - val_recall: 0.5561\n"
     ]
    },
    {
     "name": "stdout",
     "output_type": "stream",
     "text": [
      "Epoch 9/20\n",
      "5625/5625 [==============================] - 404s 72ms/step - loss: 0.8462 - categorical_accuracy: 0.7006 - auc: 0.9587 - precision: 0.7938 - recall: 0.6132 - val_loss: 1.3426 - val_categorical_accuracy: 0.5471 - val_auc: 0.9035 - val_precision: 0.6518 - val_recall: 0.4530\n",
      "Epoch 10/20\n",
      "5625/5625 [==============================] - 401s 71ms/step - loss: 0.8235 - categorical_accuracy: 0.7077 - auc: 0.9608 - precision: 0.7970 - recall: 0.6233 - val_loss: 1.0973 - val_categorical_accuracy: 0.6166 - val_auc: 0.9332 - val_precision: 0.7170 - val_recall: 0.5314\n",
      "Epoch 11/20\n",
      "5625/5625 [==============================] - 432s 77ms/step - loss: 0.7994 - categorical_accuracy: 0.7175 - auc: 0.9630 - precision: 0.8036 - recall: 0.6381 - val_loss: 1.0344 - val_categorical_accuracy: 0.6460 - val_auc: 0.9403 - val_precision: 0.7337 - val_recall: 0.5728\n",
      "Epoch 1/20\n",
      "5625/5625 [==============================] - 173s 31ms/step - loss: 1.6894 - categorical_accuracy: 0.3860 - auc: 0.8292 - precision: 0.6167 - recall: 0.1642 - val_loss: 1.4342 - val_categorical_accuracy: 0.4788 - val_auc: 0.8814 - val_precision: 0.6718 - val_recall: 0.2740\n",
      "Epoch 2/20\n",
      "5625/5625 [==============================] - 176s 31ms/step - loss: 1.3785 - categorical_accuracy: 0.4989 - auc: 0.8907 - precision: 0.6887 - recall: 0.3036 - val_loss: 1.3138 - val_categorical_accuracy: 0.5219 - val_auc: 0.9012 - val_precision: 0.7022 - val_recall: 0.3478\n",
      "Epoch 3/20\n",
      "5625/5625 [==============================] - 171s 30ms/step - loss: 1.2766 - categorical_accuracy: 0.5390 - auc: 0.9068 - precision: 0.7101 - recall: 0.3618 - val_loss: 1.2377 - val_categorical_accuracy: 0.5535 - val_auc: 0.9126 - val_precision: 0.7135 - val_recall: 0.3991\n",
      "Epoch 4/20\n",
      "5625/5625 [==============================] - 172s 31ms/step - loss: 1.2121 - categorical_accuracy: 0.5638 - auc: 0.9162 - precision: 0.7251 - recall: 0.4013 - val_loss: 1.2215 - val_categorical_accuracy: 0.5598 - val_auc: 0.9151 - val_precision: 0.7124 - val_recall: 0.4104\n",
      "Epoch 5/20\n",
      "5625/5625 [==============================] - 175s 31ms/step - loss: 1.1661 - categorical_accuracy: 0.5795 - auc: 0.9225 - precision: 0.7339 - recall: 0.4273 - val_loss: 1.1574 - val_categorical_accuracy: 0.5834 - val_auc: 0.9238 - val_precision: 0.7309 - val_recall: 0.4332\n",
      "Epoch 6/20\n",
      "5625/5625 [==============================] - 173s 31ms/step - loss: 1.1303 - categorical_accuracy: 0.5931 - auc: 0.9272 - precision: 0.7413 - recall: 0.4482 - val_loss: 1.1315 - val_categorical_accuracy: 0.5936 - val_auc: 0.9271 - val_precision: 0.7379 - val_recall: 0.4520\n",
      "Epoch 7/20\n",
      "5625/5625 [==============================] - 173s 31ms/step - loss: 1.1013 - categorical_accuracy: 0.6036 - auc: 0.9310 - precision: 0.7460 - recall: 0.4662 - val_loss: 1.1302 - val_categorical_accuracy: 0.5952 - val_auc: 0.9272 - val_precision: 0.7372 - val_recall: 0.4538\n",
      "Epoch 8/20\n",
      "5625/5625 [==============================] - 172s 31ms/step - loss: 1.0779 - categorical_accuracy: 0.6140 - auc: 0.9339 - precision: 0.7507 - recall: 0.4799 - val_loss: 1.1232 - val_categorical_accuracy: 0.6005 - val_auc: 0.9282 - val_precision: 0.7341 - val_recall: 0.4687\n",
      "Epoch 9/20\n",
      "5625/5625 [==============================] - 176s 31ms/step - loss: 1.0582 - categorical_accuracy: 0.6222 - auc: 0.9361 - precision: 0.7564 - recall: 0.4918 - val_loss: 1.1456 - val_categorical_accuracy: 0.5917 - val_auc: 0.9257 - val_precision: 0.7200 - val_recall: 0.4717\n",
      "Epoch 10/20\n",
      "5625/5625 [==============================] - 172s 31ms/step - loss: 1.0398 - categorical_accuracy: 0.6269 - auc: 0.9384 - precision: 0.7580 - recall: 0.5017 - val_loss: 1.1241 - val_categorical_accuracy: 0.5986 - val_auc: 0.9284 - val_precision: 0.7232 - val_recall: 0.4812\n",
      "Epoch 11/20\n",
      "5625/5625 [==============================] - 173s 31ms/step - loss: 1.0248 - categorical_accuracy: 0.6334 - auc: 0.9401 - precision: 0.7597 - recall: 0.5099 - val_loss: 1.0987 - val_categorical_accuracy: 0.6083 - val_auc: 0.9315 - val_precision: 0.7301 - val_recall: 0.4970\n",
      "Epoch 12/20\n",
      "5625/5625 [==============================] - 177s 31ms/step - loss: 1.0111 - categorical_accuracy: 0.6379 - auc: 0.9417 - precision: 0.7623 - recall: 0.5175 - val_loss: 1.0770 - val_categorical_accuracy: 0.6136 - val_auc: 0.9340 - val_precision: 0.7436 - val_recall: 0.4934\n",
      "Epoch 13/20\n",
      "5625/5625 [==============================] - 173s 31ms/step - loss: 0.9977 - categorical_accuracy: 0.6431 - auc: 0.9432 - precision: 0.7668 - recall: 0.5252 - val_loss: 1.0692 - val_categorical_accuracy: 0.6193 - val_auc: 0.9350 - val_precision: 0.7409 - val_recall: 0.5031\n",
      "Epoch 14/20\n",
      "5625/5625 [==============================] - 172s 31ms/step - loss: 0.9855 - categorical_accuracy: 0.6472 - auc: 0.9445 - precision: 0.7675 - recall: 0.5318 - val_loss: 1.0750 - val_categorical_accuracy: 0.6169 - val_auc: 0.9344 - val_precision: 0.7328 - val_recall: 0.5101\n",
      "Epoch 15/20\n",
      "5625/5625 [==============================] - 172s 31ms/step - loss: 0.9751 - categorical_accuracy: 0.6521 - auc: 0.9457 - precision: 0.7702 - recall: 0.5392 - val_loss: 1.0566 - val_categorical_accuracy: 0.6232 - val_auc: 0.9364 - val_precision: 0.7451 - val_recall: 0.5121\n",
      "Epoch 16/20\n",
      "5625/5625 [==============================] - 192s 34ms/step - loss: 0.9658 - categorical_accuracy: 0.6559 - auc: 0.9467 - precision: 0.7710 - recall: 0.5443 - val_loss: 1.0504 - val_categorical_accuracy: 0.6275 - val_auc: 0.9371 - val_precision: 0.7497 - val_recall: 0.5123\n",
      "Epoch 17/20\n",
      "5625/5625 [==============================] - 184s 33ms/step - loss: 0.9553 - categorical_accuracy: 0.6577 - auc: 0.9478 - precision: 0.7724 - recall: 0.5487 - val_loss: 1.0954 - val_categorical_accuracy: 0.6157 - val_auc: 0.9322 - val_precision: 0.7260 - val_recall: 0.5101\n",
      "Epoch 18/20\n",
      "5625/5625 [==============================] - 182s 32ms/step - loss: 0.9469 - categorical_accuracy: 0.6631 - auc: 0.9487 - precision: 0.7760 - recall: 0.5547 - val_loss: 1.0623 - val_categorical_accuracy: 0.6251 - val_auc: 0.9359 - val_precision: 0.7370 - val_recall: 0.5228\n",
      "Epoch 19/20\n",
      "5625/5625 [==============================] - 191s 34ms/step - loss: 0.9399 - categorical_accuracy: 0.6657 - auc: 0.9494 - precision: 0.7768 - recall: 0.5584 - val_loss: 1.0555 - val_categorical_accuracy: 0.6272 - val_auc: 0.9367 - val_precision: 0.7392 - val_recall: 0.5222\n",
      "Epoch 1/20\n",
      "5625/5625 [==============================] - 612s 108ms/step - loss: 1.7600 - categorical_accuracy: 0.3384 - auc: 0.8102 - precision: 0.5830 - recall: 0.1117 - val_loss: 1.6470 - val_categorical_accuracy: 0.3854 - val_auc: 0.8425 - val_precision: 0.5652 - val_recall: 0.1840\n",
      "Epoch 2/20\n",
      "5625/5625 [==============================] - 571s 102ms/step - loss: 1.5175 - categorical_accuracy: 0.4334 - auc: 0.8662 - precision: 0.6351 - recall: 0.2234 - val_loss: 1.4615 - val_categorical_accuracy: 0.4602 - val_auc: 0.8777 - val_precision: 0.6305 - val_recall: 0.2809\n",
      "Epoch 3/20\n",
      "5625/5625 [==============================] - 573s 102ms/step - loss: 1.4331 - categorical_accuracy: 0.4729 - auc: 0.8818 - precision: 0.6619 - recall: 0.2753 - val_loss: 1.4414 - val_categorical_accuracy: 0.4701 - val_auc: 0.8807 - val_precision: 0.6546 - val_recall: 0.2796\n",
      "Epoch 4/20\n",
      "5625/5625 [==============================] - 573s 102ms/step - loss: 1.3795 - categorical_accuracy: 0.4934 - auc: 0.8909 - precision: 0.6786 - recall: 0.3085 - val_loss: 1.3388 - val_categorical_accuracy: 0.5090 - val_auc: 0.8979 - val_precision: 0.6790 - val_recall: 0.3331\n",
      "Epoch 5/20\n",
      "5625/5625 [==============================] - 570s 101ms/step - loss: 1.3450 - categorical_accuracy: 0.5073 - auc: 0.8966 - precision: 0.6850 - recall: 0.3254 - val_loss: 1.3239 - val_categorical_accuracy: 0.5161 - val_auc: 0.9000 - val_precision: 0.6970 - val_recall: 0.3347\n",
      "Epoch 6/20\n",
      "5625/5625 [==============================] - 572s 102ms/step - loss: 1.3198 - categorical_accuracy: 0.5175 - auc: 0.9005 - precision: 0.6932 - recall: 0.3407 - val_loss: 1.3333 - val_categorical_accuracy: 0.5149 - val_auc: 0.8982 - val_precision: 0.6988 - val_recall: 0.3353\n",
      "Epoch 7/20\n",
      "5625/5625 [==============================] - 571s 102ms/step - loss: 1.3007 - categorical_accuracy: 0.5258 - auc: 0.9035 - precision: 0.6985 - recall: 0.3518 - val_loss: 1.3016 - val_categorical_accuracy: 0.5271 - val_auc: 0.9039 - val_precision: 0.6848 - val_recall: 0.3690\n"
     ]
    },
    {
     "name": "stdout",
     "output_type": "stream",
     "text": [
      "Epoch 8/20\n",
      "5625/5625 [==============================] - 609s 108ms/step - loss: 1.2824 - categorical_accuracy: 0.5319 - auc: 0.9063 - precision: 0.7013 - recall: 0.3611 - val_loss: 1.3103 - val_categorical_accuracy: 0.5265 - val_auc: 0.9021 - val_precision: 0.6936 - val_recall: 0.3522\n",
      "Epoch 9/20\n",
      "5625/5625 [==============================] - 568s 101ms/step - loss: 1.2662 - categorical_accuracy: 0.5394 - auc: 0.9086 - precision: 0.7040 - recall: 0.3730 - val_loss: 1.2650 - val_categorical_accuracy: 0.5418 - val_auc: 0.9091 - val_precision: 0.6977 - val_recall: 0.3825\n",
      "Epoch 10/20\n",
      "5625/5625 [==============================] - 571s 101ms/step - loss: 1.2565 - categorical_accuracy: 0.5413 - auc: 0.9101 - precision: 0.7054 - recall: 0.3766 - val_loss: 1.2660 - val_categorical_accuracy: 0.5413 - val_auc: 0.9087 - val_precision: 0.7039 - val_recall: 0.3794\n",
      "Epoch 11/20\n",
      "5625/5625 [==============================] - 578s 103ms/step - loss: 1.2470 - categorical_accuracy: 0.5453 - auc: 0.9116 - precision: 0.7093 - recall: 0.3824 - val_loss: 1.2960 - val_categorical_accuracy: 0.5281 - val_auc: 0.9043 - val_precision: 0.6991 - val_recall: 0.3595\n",
      "Epoch 12/20\n",
      "5625/5625 [==============================] - 568s 101ms/step - loss: 1.2349 - categorical_accuracy: 0.5508 - auc: 0.9133 - precision: 0.7106 - recall: 0.3901 - val_loss: 1.2377 - val_categorical_accuracy: 0.5509 - val_auc: 0.9128 - val_precision: 0.7159 - val_recall: 0.3875\n",
      "Epoch 13/20\n",
      "5625/5625 [==============================] - 569s 101ms/step - loss: 1.2269 - categorical_accuracy: 0.5543 - auc: 0.9145 - precision: 0.7129 - recall: 0.3939 - val_loss: 1.2676 - val_categorical_accuracy: 0.5406 - val_auc: 0.9088 - val_precision: 0.6960 - val_recall: 0.3886\n",
      "Epoch 14/20\n",
      "5625/5625 [==============================] - 570s 101ms/step - loss: 1.2188 - categorical_accuracy: 0.5591 - auc: 0.9157 - precision: 0.7127 - recall: 0.4005 - val_loss: 1.2450 - val_categorical_accuracy: 0.5487 - val_auc: 0.9116 - val_precision: 0.7252 - val_recall: 0.3743\n",
      "Epoch 15/20\n",
      "5625/5625 [==============================] - 604s 107ms/step - loss: 1.2180 - categorical_accuracy: 0.5563 - auc: 0.9157 - precision: 0.7129 - recall: 0.3999 - val_loss: 1.2847 - val_categorical_accuracy: 0.5278 - val_auc: 0.9064 - val_precision: 0.6875 - val_recall: 0.3789\n"
     ]
    }
   ],
   "source": [
    "class_number = len(class_names)\n",
    "model_number = 3 # 3 classes, 3 classes, 4 classes\n",
    "start_class = 0\n",
    "end_class = 3\n",
    "committee_models_1 = []\n",
    "committee_models_2 = []\n",
    "committee_models_3 = []\n",
    "\n",
    "for i in range(model_number):\n",
    "    # Determine and filter the subset of classes for this model\n",
    "    subset_classes = class_names[start_class:end_class]\n",
    "    \n",
    "    subset_dataset_train = train_ds.filter(lambda x, y: tf.reduce_any([tf.equal(y, \n",
    "                    tf.one_hot(class_names.index(class_name), depth=len(class_names))) for class_name in subset_classes]))\n",
    "    \n",
    "    subset_dataset_val = validation_ds.filter(lambda x, y: tf.reduce_any([tf.equal(y, \n",
    "                    tf.one_hot(class_names.index(class_name), depth=len(class_names))) for class_name in subset_classes]))\n",
    "\n",
    "    # Create, compile and train the models for the current subset of classes\n",
    "    # Then add to the proper committee\n",
    "    \n",
    "    # Model1\n",
    "    model1 = create_Architecture1()\n",
    "    model1.compile(loss=loss_func,metrics=metrics)\n",
    "    \n",
    "    callback = keras.callbacks.EarlyStopping(monitor='val_loss', patience=3)\n",
    "    history = model1.fit(\n",
    "        subset_dataset_train,\n",
    "        validation_data=subset_dataset_val, \n",
    "        epochs=20, \n",
    "        callbacks = [callback]\n",
    "    )\n",
    "    \n",
    "    committee_models_1.append(model1)\n",
    "    \n",
    "    # Model2\n",
    "    model2 = create_Architecture2()\n",
    "    model2.compile(loss=loss_func,metrics=metrics)\n",
    "    history = model2.fit(\n",
    "        subset_dataset_train,\n",
    "        validation_data=subset_dataset_val, \n",
    "        epochs=20, \n",
    "        callbacks = [callback]\n",
    "    )\n",
    "    committee_models_2.append(model2)\n",
    "    \n",
    "    # Model3\n",
    "    model3 = create_Architecture3()\n",
    "    model3.compile(loss=loss_func,metrics=metrics)\n",
    "    history = model3.fit(\n",
    "        subset_dataset_train,\n",
    "        validation_data=subset_dataset_val, \n",
    "        epochs=20, \n",
    "        callbacks = [callback]\n",
    "    )\n",
    "    committee_models_3.append(model3)\n",
    "    \n",
    "    # Update start/end index\n",
    "    start_class = start_class+3\n",
    "    end_class = start_class+3\n",
    "    if end_class == class_number - 1:\n",
    "        end_class = class_number"
   ]
  },
  {
   "cell_type": "code",
   "execution_count": 77,
   "id": "b85c8dee",
   "metadata": {},
   "outputs": [
    {
     "name": "stdout",
     "output_type": "stream",
     "text": [
      "5625/5625 [==============================] - 205s 36ms/step\n",
      "5625/5625 [==============================] - 106s 19ms/step\n",
      "5625/5625 [==============================] - 104s 19ms/step\n",
      "5625/5625 [==============================] - 56s 10ms/step\n",
      "5625/5625 [==============================] - 57s 10ms/step\n",
      "5625/5625 [==============================] - 56s 10ms/step\n",
      "5625/5625 [==============================] - 164s 29ms/step\n",
      "5625/5625 [==============================] - 169s 30ms/step\n",
      "5625/5625 [==============================] - 164s 29ms/step\n",
      "Accuracy: 0.10033333333333333\n"
     ]
    }
   ],
   "source": [
    "# Evaluating the committees\n",
    "\n",
    "# Committee1\n",
    "predictions = []\n",
    "for model in committee_models_1:\n",
    "    model_predictions = model.predict(test_ds)\n",
    "    predictions.append(model_predictions)\n",
    "    \n",
    "combined_predictions_1 = np.mean(predictions, axis=0)  # Average predictions\n",
    "predicted_labels_1 = np.argmax(combined_predictions_1, axis=1) # Mapping to labels\n",
    "\n",
    "# Committee2\n",
    "predictions = []\n",
    "for model in committee_models_2:\n",
    "    model_predictions = model.predict(test_ds)\n",
    "    predictions.append(model_predictions)\n",
    "    \n",
    "combined_predictions_2 = np.mean(predictions, axis=0)  \n",
    "predicted_labels_2 = np.argmax(combined_predictions_2, axis=1)\n",
    "\n",
    "# Committee3\n",
    "predictions = []\n",
    "for model in committee_models_3:\n",
    "    model_predictions = model.predict(test_ds)\n",
    "    predictions.append(model_predictions)\n",
    "    \n",
    "combined_predictions_3 = np.mean(predictions, axis=0)  \n",
    "predicted_labels_3 = np.argmax(combined_predictions_3, axis=1)\n",
    "\n",
    "\n",
    "accuracy = np.mean(predicted_labels == tf_labels)\n",
    "\n",
    "print(\"Accuracy:\", accuracy)"
   ]
  },
  {
   "cell_type": "code",
   "execution_count": 78,
   "id": "78b6c71b",
   "metadata": {},
   "outputs": [
    {
     "name": "stdout",
     "output_type": "stream",
     "text": [
      "Accuracy: 0.1034111111111111\n",
      "Precision: 0.10323954581932705\n",
      "Recall: 0.1034111111111111\n",
      "F1 Score: 0.10204983600798848\n",
      "Accuracy: 0.10357777777777778\n",
      "Precision: 0.1034294022258029\n",
      "Recall: 0.10357777777777778\n",
      "F1 Score: 0.10051241041749749\n",
      "Accuracy: 0.1022\n",
      "Precision: 0.10200570512059544\n",
      "Recall: 0.1022\n",
      "F1 Score: 0.09838562170278978\n"
     ]
    }
   ],
   "source": [
    "accuracy_1 = accuracy_score(tf_labels, predicted_labels_1)\n",
    "precision_1 = precision_score(tf_labels, predicted_labels_1, average='weighted')\n",
    "recall_1 = recall_score(tf_labels, predicted_labels_1, average='weighted')\n",
    "f1_1 = f1_score(tf_labels, predicted_labels_1, average='weighted')\n",
    "\n",
    "print(\"Accuracy:\", accuracy_1)\n",
    "print(\"Precision:\", precision_1)\n",
    "print(\"Recall:\", recall_1)\n",
    "print(\"F1 Score:\", f1_1)\n",
    "\n",
    "accuracy_2 = accuracy_score(tf_labels, predicted_labels_2)\n",
    "precision_2 = precision_score(tf_labels, predicted_labels_2, average='weighted')\n",
    "recall_2 = recall_score(tf_labels, predicted_labels_2, average='weighted')\n",
    "f1_2 = f1_score(tf_labels, predicted_labels_2, average='weighted')\n",
    "\n",
    "print(\"Accuracy:\", accuracy_2)\n",
    "print(\"Precision:\", precision_2)\n",
    "print(\"Recall:\", recall_2)\n",
    "print(\"F1 Score:\", f1_2)\n",
    "\n",
    "accuracy_3 = accuracy_score(tf_labels, predicted_labels_3)\n",
    "precision_3 = precision_score(tf_labels, predicted_labels_3, average='weighted')\n",
    "recall_3 = recall_score(tf_labels, predicted_labels_3, average='weighted')\n",
    "f1_3 = f1_score(tf_labels, predicted_labels_3, average='weighted')\n",
    "\n",
    "print(\"Accuracy:\", accuracy_3)\n",
    "print(\"Precision:\", precision_3)\n",
    "print(\"Recall:\", recall_3)\n",
    "print(\"F1 Score:\", f1_3)"
   ]
  },
  {
   "cell_type": "code",
   "execution_count": null,
   "id": "28f92964",
   "metadata": {},
   "outputs": [
    {
     "name": "stdout",
     "output_type": "stream",
     "text": [
      "Epoch 1/20\n",
      "5625/5625 [==============================] - 407s 72ms/step - loss: 1.5288 - categorical_accuracy: 0.4503 - auc: 0.8658 - precision: 0.6193 - recall: 0.2721 - val_loss: 1.3403 - val_categorical_accuracy: 0.5147 - val_auc: 0.8973 - val_precision: 0.7130 - val_recall: 0.3038\n",
      "Epoch 2/20\n",
      "5625/5625 [==============================] - 402s 72ms/step - loss: 1.2184 - categorical_accuracy: 0.5612 - auc: 0.9155 - precision: 0.7158 - recall: 0.4091 - val_loss: 1.5101 - val_categorical_accuracy: 0.4591 - val_auc: 0.8716 - val_precision: 0.6091 - val_recall: 0.3120\n",
      "Epoch 3/20\n",
      "5625/5625 [==============================] - 406s 72ms/step - loss: 1.1114 - categorical_accuracy: 0.6035 - auc: 0.9296 - precision: 0.7416 - recall: 0.4685 - val_loss: 1.1373 - val_categorical_accuracy: 0.5932 - val_auc: 0.9263 - val_precision: 0.7401 - val_recall: 0.4538\n",
      "Epoch 4/20\n",
      "5625/5625 [==============================] - 407s 72ms/step - loss: 1.0395 - categorical_accuracy: 0.6294 - auc: 0.9384 - precision: 0.7540 - recall: 0.5085 - val_loss: 1.0656 - val_categorical_accuracy: 0.6200 - val_auc: 0.9357 - val_precision: 0.7734 - val_recall: 0.4714\n",
      "Epoch 5/20\n",
      "5625/5625 [==============================] - 402s 71ms/step - loss: 0.9880 - categorical_accuracy: 0.6488 - auc: 0.9443 - precision: 0.7673 - recall: 0.5364 - val_loss: 1.1510 - val_categorical_accuracy: 0.5871 - val_auc: 0.9253 - val_precision: 0.7118 - val_recall: 0.4728\n",
      "Epoch 6/20\n",
      "5625/5625 [==============================] - 406s 72ms/step - loss: 0.9441 - categorical_accuracy: 0.6643 - auc: 0.9490 - precision: 0.7754 - recall: 0.5581 - val_loss: 1.0085 - val_categorical_accuracy: 0.6427 - val_auc: 0.9417 - val_precision: 0.7665 - val_recall: 0.5329\n",
      "Epoch 7/20\n",
      "5625/5625 [==============================] - 428s 76ms/step - loss: 0.9077 - categorical_accuracy: 0.6765 - auc: 0.9528 - precision: 0.7816 - recall: 0.5790 - val_loss: 1.1214 - val_categorical_accuracy: 0.6051 - val_auc: 0.9285 - val_precision: 0.7290 - val_recall: 0.4935\n",
      "Epoch 8/20\n",
      "5625/5625 [==============================] - 404s 72ms/step - loss: 0.8803 - categorical_accuracy: 0.6874 - auc: 0.9555 - precision: 0.7881 - recall: 0.5957 - val_loss: 1.1048 - val_categorical_accuracy: 0.6123 - val_auc: 0.9311 - val_precision: 0.7269 - val_recall: 0.5128\n",
      "Epoch 9/20\n",
      "5625/5625 [==============================] - 407s 72ms/step - loss: 0.8544 - categorical_accuracy: 0.6950 - auc: 0.9580 - precision: 0.7916 - recall: 0.6081 - val_loss: 1.0737 - val_categorical_accuracy: 0.6227 - val_auc: 0.9344 - val_precision: 0.7395 - val_recall: 0.5190\n",
      "Epoch 1/20\n",
      "5625/5625 [==============================] - 172s 30ms/step - loss: 1.7066 - categorical_accuracy: 0.3795 - auc: 0.8263 - precision: 0.6096 - recall: 0.1552 - val_loss: 1.4588 - val_categorical_accuracy: 0.4660 - val_auc: 0.8767 - val_precision: 0.6799 - val_recall: 0.2558\n",
      "Epoch 2/20\n",
      "5625/5625 [==============================] - 174s 31ms/step - loss: 1.3771 - categorical_accuracy: 0.4983 - auc: 0.8910 - precision: 0.6907 - recall: 0.3031 - val_loss: 1.3006 - val_categorical_accuracy: 0.5313 - val_auc: 0.9032 - val_precision: 0.7305 - val_recall: 0.3321\n",
      "Epoch 3/20\n",
      "5625/5625 [==============================] - 171s 30ms/step - loss: 1.2669 - categorical_accuracy: 0.5402 - auc: 0.9083 - precision: 0.7153 - recall: 0.3667 - val_loss: 1.2335 - val_categorical_accuracy: 0.5570 - val_auc: 0.9135 - val_precision: 0.7093 - val_recall: 0.4087\n",
      "Epoch 4/20\n",
      "5625/5625 [==============================] - 172s 31ms/step - loss: 1.2030 - categorical_accuracy: 0.5673 - auc: 0.9175 - precision: 0.7282 - recall: 0.4072 - val_loss: 1.2020 - val_categorical_accuracy: 0.5696 - val_auc: 0.9176 - val_precision: 0.7216 - val_recall: 0.4216\n",
      "Epoch 5/20\n",
      "5625/5625 [==============================] - 176s 31ms/step - loss: 1.1562 - categorical_accuracy: 0.5846 - auc: 0.9238 - precision: 0.7376 - recall: 0.4347 - val_loss: 1.1485 - val_categorical_accuracy: 0.5869 - val_auc: 0.9250 - val_precision: 0.7297 - val_recall: 0.4485\n",
      "Epoch 6/20\n",
      "5625/5625 [==============================] - 173s 31ms/step - loss: 1.1220 - categorical_accuracy: 0.5971 - auc: 0.9283 - precision: 0.7427 - recall: 0.4539 - val_loss: 1.1233 - val_categorical_accuracy: 0.5976 - val_auc: 0.9281 - val_precision: 0.7379 - val_recall: 0.4594\n",
      "Epoch 7/20\n",
      "5625/5625 [==============================] - 172s 31ms/step - loss: 1.0935 - categorical_accuracy: 0.6084 - auc: 0.9319 - precision: 0.7474 - recall: 0.4699 - val_loss: 1.1182 - val_categorical_accuracy: 0.5965 - val_auc: 0.9290 - val_precision: 0.7370 - val_recall: 0.4505\n",
      "Epoch 8/20\n",
      "5625/5625 [==============================] - 171s 30ms/step - loss: 1.0707 - categorical_accuracy: 0.6180 - auc: 0.9346 - precision: 0.7537 - recall: 0.4866 - val_loss: 1.0870 - val_categorical_accuracy: 0.6094 - val_auc: 0.9328 - val_precision: 0.7470 - val_recall: 0.4752\n",
      "Epoch 9/20\n",
      "5625/5625 [==============================] - 177s 31ms/step - loss: 1.0502 - categorical_accuracy: 0.6245 - auc: 0.9371 - precision: 0.7579 - recall: 0.4962 - val_loss: 1.1461 - val_categorical_accuracy: 0.5925 - val_auc: 0.9256 - val_precision: 0.7183 - val_recall: 0.4709\n",
      "Epoch 10/20\n",
      "5625/5625 [==============================] - 172s 31ms/step - loss: 1.0323 - categorical_accuracy: 0.6316 - auc: 0.9392 - precision: 0.7596 - recall: 0.5061 - val_loss: 1.1517 - val_categorical_accuracy: 0.5892 - val_auc: 0.9255 - val_precision: 0.7084 - val_recall: 0.4824\n",
      "Epoch 11/20\n",
      "5625/5625 [==============================] - 172s 31ms/step - loss: 1.0177 - categorical_accuracy: 0.6367 - auc: 0.9409 - precision: 0.7636 - recall: 0.5147 - val_loss: 1.0927 - val_categorical_accuracy: 0.6108 - val_auc: 0.9320 - val_precision: 0.7418 - val_recall: 0.4796\n",
      "Epoch 1/20\n",
      "5625/5625 [==============================] - 574s 102ms/step - loss: 1.7377 - categorical_accuracy: 0.3491 - auc: 0.8166 - precision: 0.5845 - recall: 0.1182 - val_loss: 1.5644 - val_categorical_accuracy: 0.4196 - val_auc: 0.8568 - val_precision: 0.6443 - val_recall: 0.1928\n",
      "Epoch 2/20\n",
      "5625/5625 [==============================] - 594s 106ms/step - loss: 1.5008 - categorical_accuracy: 0.4445 - auc: 0.8695 - precision: 0.6437 - recall: 0.2379 - val_loss: 1.4627 - val_categorical_accuracy: 0.4612 - val_auc: 0.8775 - val_precision: 0.6279 - val_recall: 0.2832\n",
      "Epoch 3/20\n",
      "5625/5625 [==============================] - 574s 102ms/step - loss: 1.4181 - categorical_accuracy: 0.4782 - auc: 0.8844 - precision: 0.6600 - recall: 0.2846 - val_loss: 1.4084 - val_categorical_accuracy: 0.4825 - val_auc: 0.8868 - val_precision: 0.6518 - val_recall: 0.3084\n",
      "Epoch 4/20\n",
      "5625/5625 [==============================] - 572s 102ms/step - loss: 1.3724 - categorical_accuracy: 0.4957 - auc: 0.8922 - precision: 0.6748 - recall: 0.3091 - val_loss: 1.3450 - val_categorical_accuracy: 0.5088 - val_auc: 0.8970 - val_precision: 0.6788 - val_recall: 0.3253\n",
      "Epoch 5/20\n",
      "5625/5625 [==============================] - 573s 102ms/step - loss: 1.3396 - categorical_accuracy: 0.5091 - auc: 0.8975 - precision: 0.6843 - recall: 0.3296 - val_loss: 1.4019 - val_categorical_accuracy: 0.4896 - val_auc: 0.8896 - val_precision: 0.6383 - val_recall: 0.3412\n",
      "Epoch 6/20\n",
      "5625/5625 [==============================] - 574s 102ms/step - loss: 1.3156 - categorical_accuracy: 0.5190 - auc: 0.9013 - precision: 0.6901 - recall: 0.3440 - val_loss: 1.3218 - val_categorical_accuracy: 0.5195 - val_auc: 0.9004 - val_precision: 0.6883 - val_recall: 0.3504\n",
      "Epoch 7/20\n",
      "5625/5625 [==============================] - 574s 102ms/step - loss: 1.2962 - categorical_accuracy: 0.5280 - auc: 0.9043 - precision: 0.6942 - recall: 0.3566 - val_loss: 1.3205 - val_categorical_accuracy: 0.5216 - val_auc: 0.9003 - val_precision: 0.6994 - val_recall: 0.3493\n",
      "Epoch 8/20\n",
      "5625/5625 [==============================] - 574s 102ms/step - loss: 1.2820 - categorical_accuracy: 0.5330 - auc: 0.9063 - precision: 0.6987 - recall: 0.3653 - val_loss: 1.2916 - val_categorical_accuracy: 0.5307 - val_auc: 0.9049 - val_precision: 0.7008 - val_recall: 0.3582\n",
      "Epoch 9/20\n",
      "5625/5625 [==============================] - 606s 108ms/step - loss: 1.2651 - categorical_accuracy: 0.5418 - auc: 0.9088 - precision: 0.7029 - recall: 0.3748 - val_loss: 1.2764 - val_categorical_accuracy: 0.5342 - val_auc: 0.9076 - val_precision: 0.6899 - val_recall: 0.3798\n"
     ]
    },
    {
     "name": "stdout",
     "output_type": "stream",
     "text": [
      "Epoch 10/20\n",
      "5625/5625 [==============================] - 572s 102ms/step - loss: 1.2536 - categorical_accuracy: 0.5445 - auc: 0.9106 - precision: 0.7047 - recall: 0.3814 - val_loss: 1.2629 - val_categorical_accuracy: 0.5409 - val_auc: 0.9094 - val_precision: 0.6994 - val_recall: 0.3850\n",
      "Epoch 11/20\n",
      "5625/5625 [==============================] - 569s 101ms/step - loss: 1.2411 - categorical_accuracy: 0.5488 - auc: 0.9125 - precision: 0.7088 - recall: 0.3898 - val_loss: 1.2461 - val_categorical_accuracy: 0.5511 - val_auc: 0.9119 - val_precision: 0.6986 - val_recall: 0.4021\n",
      "Epoch 12/20\n",
      "2194/5625 [==========>...................] - ETA: 4:35 - loss: 1.2422 - categorical_accuracy: 0.5508 - auc: 0.9121 - precision: 0.7137 - recall: 0.3901"
     ]
    }
   ],
   "source": [
    "class_number = len(class_names) # na noc\n",
    "model_number = 3 # 3 classes, 3 classes, 4 classes\n",
    "start_class = 0\n",
    "end_class = 3\n",
    "committee_models_1 = []\n",
    "committee_models_2 = []\n",
    "committee_models_3 = []\n",
    "\n",
    "for i in range(model_number):\n",
    "    # Determine and filter the subset of classes for this model\n",
    "    subset_classes = class_names[start_class:end_class]\n",
    "    \n",
    "    subset_dataset_train = train_ds.filter(lambda x, y: tf.reduce_any([tf.equal(y, \n",
    "                    tf.one_hot(class_names.index(class_name), depth=len(class_names))) for class_name in subset_classes]))\n",
    "    \n",
    "    subset_dataset_val = validation_ds.filter(lambda x, y: tf.reduce_any([tf.equal(y, \n",
    "                    tf.one_hot(class_names.index(class_name), depth=len(class_names))) for class_name in subset_classes]))\n",
    "\n",
    "    # Create, compile and train the models for the current subset of classes\n",
    "    # Then add to the proper committee\n",
    "    \n",
    "    # Model1\n",
    "    model1 = create_Architecture1()\n",
    "    model1.compile(loss=loss_func,metrics=metrics)\n",
    "    \n",
    "    callback = keras.callbacks.EarlyStopping(monitor='val_loss', patience=3)\n",
    "    history = model1.fit(\n",
    "        subset_dataset_train,\n",
    "        validation_data=subset_dataset_val, \n",
    "        epochs=20, \n",
    "        callbacks = [callback]\n",
    "    )\n",
    "    \n",
    "    committee_models_1.append(model1)\n",
    "    \n",
    "    # Model2\n",
    "    model2 = create_Architecture2()\n",
    "    model2.compile(loss=loss_func,metrics=metrics)\n",
    "    history = model2.fit(\n",
    "        subset_dataset_train,\n",
    "        validation_data=subset_dataset_val, \n",
    "        epochs=20, \n",
    "        callbacks = [callback]\n",
    "    )\n",
    "    committee_models_2.append(model2)\n",
    "    \n",
    "    # Model3\n",
    "    model3 = create_Architecture3()\n",
    "    model3.compile(loss=loss_func,metrics=metrics)\n",
    "    history = model3.fit(\n",
    "        subset_dataset_train,\n",
    "        validation_data=subset_dataset_val, \n",
    "        epochs=20, \n",
    "        callbacks = [callback]\n",
    "    )\n",
    "    committee_models_3.append(model3)\n",
    "    \n",
    "    # Update start/end index\n",
    "    start_class = start_class+3\n",
    "    end_class = start_class+3\n",
    "    if end_class == class_number - 1:\n",
    "        end_class = class_number"
   ]
  },
  {
   "cell_type": "code",
   "execution_count": null,
   "id": "f5c1e344",
   "metadata": {},
   "outputs": [],
   "source": [
    "# Evaluating the committees\n",
    "\n",
    "# Committee1\n",
    "predictions = []\n",
    "for model in committee_models_1:\n",
    "    model_predictions = model.predict(test_ds)\n",
    "    predictions.append(model_predictions)\n",
    "    \n",
    "combined_predictions_1 = np.mean(predictions, axis=0)  # Average predictions\n",
    "predicted_labels_1 = np.argmax(combined_predictions_1, axis=1) # Mapping to labels\n",
    "\n",
    "# Committee2\n",
    "predictions = []\n",
    "for model in committee_models_2:\n",
    "    model_predictions = model.predict(test_ds)\n",
    "    predictions.append(model_predictions)\n",
    "    \n",
    "combined_predictions_2 = np.mean(predictions, axis=0)  \n",
    "predicted_labels_2 = np.argmax(combined_predictions_2, axis=1)\n",
    "\n",
    "# Committee3\n",
    "predictions = []\n",
    "for model in committee_models_3:\n",
    "    model_predictions = model.predict(test_ds)\n",
    "    predictions.append(model_predictions)\n",
    "    \n",
    "combined_predictions_3 = np.mean(predictions, axis=0)  \n",
    "predicted_labels_3 = np.argmax(combined_predictions_3, axis=1)\n",
    "\n",
    "\n",
    "accuracy = np.mean(predicted_labels == tf_labels)\n",
    "\n",
    "print(\"Accuracy:\", accuracy)"
   ]
  },
  {
   "cell_type": "code",
   "execution_count": null,
   "id": "813647c8",
   "metadata": {},
   "outputs": [],
   "source": [
    "accuracy_1 = accuracy_score(tf_labels, predicted_labels_1)\n",
    "precision_1 = precision_score(tf_labels, predicted_labels_1, average='weighted')\n",
    "recall_1 = recall_score(tf_labels, predicted_labels_1, average='weighted')\n",
    "f1_1 = f1_score(tf_labels, predicted_labels_1, average='weighted')\n",
    "\n",
    "print(\"Accuracy:\", accuracy_1)\n",
    "print(\"Precision:\", precision_1)\n",
    "print(\"Recall:\", recall_1)\n",
    "print(\"F1 Score:\", f1_1)\n",
    "\n",
    "accuracy_2 = accuracy_score(tf_labels, predicted_labels_2)\n",
    "precision_2 = precision_score(tf_labels, predicted_labels_2, average='weighted')\n",
    "recall_2 = recall_score(tf_labels, predicted_labels_2, average='weighted')\n",
    "f1_2 = f1_score(tf_labels, predicted_labels_2, average='weighted')\n",
    "\n",
    "print(\"Accuracy:\", accuracy_2)\n",
    "print(\"Precision:\", precision_2)\n",
    "print(\"Recall:\", recall_2)\n",
    "print(\"F1 Score:\", f1_2)\n",
    "\n",
    "accuracy_3 = accuracy_score(tf_labels, predicted_labels_3)\n",
    "precision_3 = precision_score(tf_labels, predicted_labels_3, average='weighted')\n",
    "recall_3 = recall_score(tf_labels, predicted_labels_3, average='weighted')\n",
    "f1_3 = f1_score(tf_labels, predicted_labels_3, average='weighted')\n",
    "\n",
    "print(\"Accuracy:\", accuracy_3)\n",
    "print(\"Precision:\", precision_3)\n",
    "print(\"Recall:\", recall_3)\n",
    "print(\"F1 Score:\", f1_3)"
   ]
  },
  {
   "cell_type": "code",
   "execution_count": null,
   "id": "526a6929",
   "metadata": {},
   "outputs": [],
   "source": []
  }
 ],
 "metadata": {
  "kernelspec": {
   "display_name": "Python 3 (ipykernel)",
   "language": "python",
   "name": "python3"
  },
  "language_info": {
   "codemirror_mode": {
    "name": "ipython",
    "version": 3
   },
   "file_extension": ".py",
   "mimetype": "text/x-python",
   "name": "python",
   "nbconvert_exporter": "python",
   "pygments_lexer": "ipython3",
   "version": "3.11.4"
  }
 },
 "nbformat": 4,
 "nbformat_minor": 5
}
