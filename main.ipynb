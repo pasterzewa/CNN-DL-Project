{
 "cells": [
  {
   "cell_type": "code",
   "execution_count": 1,
   "id": "453412d6",
   "metadata": {},
   "outputs": [
    {
     "name": "stdout",
     "output_type": "stream",
     "text": [
      "WARNING:tensorflow:From C:\\Users\\48695\\anaconda3\\Lib\\site-packages\\keras\\src\\losses.py:2976: The name tf.losses.sparse_softmax_cross_entropy is deprecated. Please use tf.compat.v1.losses.sparse_softmax_cross_entropy instead.\n",
      "\n"
     ]
    }
   ],
   "source": [
    "import tensorflow as tf\n",
    "from tensorflow import keras\n",
    "import matplotlib.pyplot as plt\n",
    "%matplotlib inline\n",
    "import numpy as np\n",
    "import seaborn as sn\n",
    "import pathlib\n",
    "import os\n",
    "from os import listdir\n",
    "import glob\n",
    "from PIL import Image\n",
    "\n",
    "cinic_directory_train = 'C:\\\\Users\\\\48695\\\\Documents\\\\Studia\\\\DLM\\\\Projekt CNN\\\\cinic-10_image_classification_challenge-dataset\\\\train'\n",
    "cinic_directory_test = 'C:\\\\Users\\\\48695\\\\Documents\\\\Studia\\DLM\\\\Projekt CNN\\\\cinic-10_image_classification_challenge-dataset\\\\test'\n",
    "\n",
    "class_name = []\n",
    "file_name='output_fromKeras.csv'\n",
    "optimiser='adamax' # les best : Adam, nadam et adamax\n",
    "nb_epochs=50\n",
    "batch_size_choice=16\n",
    "image_size=(32, 32)\n",
    "loss_func='sparse_categorical_crossentropy'"
   ]
  },
  {
   "cell_type": "code",
   "execution_count": 2,
   "id": "a07c9e8c",
   "metadata": {},
   "outputs": [
    {
     "name": "stdout",
     "output_type": "stream",
     "text": [
      "Found 90000 files belonging to 10 classes.\n",
      "Using 72000 files for training.\n"
     ]
    }
   ],
   "source": [
    "# loading in the data \n",
    "train_ds = keras.preprocessing.image_dataset_from_directory(\n",
    "    cinic_directory_train,\n",
    "    validation_split=0.2,\n",
    "    subset=\"training\",\n",
    "    seed=1337,\n",
    "    image_size=image_size,\n",
    "    batch_size=batch_size_choice\n",
    ")"
   ]
  },
  {
   "cell_type": "code",
   "execution_count": 3,
   "id": "87a62c5e",
   "metadata": {},
   "outputs": [
    {
     "name": "stdout",
     "output_type": "stream",
     "text": [
      "Found 90000 files belonging to 10 classes.\n",
      "Using 18000 files for validation.\n"
     ]
    }
   ],
   "source": [
    "# loading in the data \n",
    "validation_ds = keras.preprocessing.image_dataset_from_directory(\n",
    "    cinic_directory_train,\n",
    "    validation_split=0.2,\n",
    "    subset=\"validation\",\n",
    "    seed=1337,\n",
    "    image_size=image_size,\n",
    "    batch_size=batch_size_choice\n",
    ")"
   ]
  },
  {
   "cell_type": "code",
   "execution_count": 4,
   "id": "7d7fcc3e",
   "metadata": {},
   "outputs": [
    {
     "name": "stdout",
     "output_type": "stream",
     "text": [
      "['airplane', 'automobile', 'bird', 'cat', 'deer', 'dog', 'frog', 'horse', 'ship', 'truck']\n"
     ]
    }
   ],
   "source": [
    "class_names= train_ds.class_names\n",
    "num_classes = len(class_names)\n",
    "print(class_names)"
   ]
  },
  {
   "cell_type": "code",
   "execution_count": 5,
   "id": "c88c004b",
   "metadata": {},
   "outputs": [],
   "source": [
    "# Inicjalizacja słownika do zliczania liczby obrazów w każdej klasie\n",
    "#class_count = {class_name: 0 for class_name in class_names}\n",
    "\n",
    "# Przechodzenie przez zbiór danych i zliczanie obrazów w każdej klasie\n",
    "#for images, labels in train_ds:\n",
    "#    for label in labels.numpy():\n",
    "#        class_count[class_names[label]] += 1\n",
    "\n",
    "# Wyświetlenie liczby obrazów w każdej klasie\n",
    "#for class_name, count in class_count.items():\n",
    "#    print(f\"Liczba obrazów w klasie {class_name}: {count}\")\n",
    "\n",
    "# Dane do wykresu słupkowego\n",
    "#class_names = list(class_count.keys())\n",
    "#counts = list(class_count.values())\n",
    "\n",
    "# Tworzenie wykresu słupkowego\n",
    "#plt.figure(figsize=(10, 6))\n",
    "#plt.bar(class_names, counts, color='skyblue')\n",
    "#plt.xlabel('Klasa')\n",
    "#plt.ylabel('Liczba obrazów')\n",
    "#plt.title('Liczba obrazów w każdej klasie')\n",
    "#plt.xticks(rotation=45, ha='right')\n",
    "#plt.tight_layout()\n",
    "\n",
    "# Wyświetlenie wykresu\n",
    "#plt.show()"
   ]
  },
  {
   "cell_type": "code",
   "execution_count": 6,
   "id": "4b39c955",
   "metadata": {},
   "outputs": [
    {
     "name": "stdout",
     "output_type": "stream",
     "text": [
      "WARNING:tensorflow:From C:\\Users\\48695\\anaconda3\\Lib\\site-packages\\keras\\src\\backend.py:873: The name tf.get_default_graph is deprecated. Please use tf.compat.v1.get_default_graph instead.\n",
      "\n",
      "WARNING:tensorflow:From C:\\Users\\48695\\anaconda3\\Lib\\site-packages\\keras\\src\\layers\\normalization\\batch_normalization.py:979: The name tf.nn.fused_batch_norm is deprecated. Please use tf.compat.v1.nn.fused_batch_norm instead.\n",
      "\n"
     ]
    }
   ],
   "source": [
    "from tensorflow.keras.models import Sequential\n",
    "from tensorflow.keras.layers import (\n",
    "    Dense,\n",
    "    Conv2D,\n",
    "    MaxPool2D,\n",
    "    Flatten,\n",
    "    Dropout,\n",
    "    BatchNormalization,\n",
    ")\n",
    "\n",
    "model1 = Sequential()\n",
    "model1.add(Conv2D(256, (3, 3), strides=1, padding=\"same\", activation=\"relu\", \n",
    "                 input_shape=(32, 32, 3)))\n",
    "model1.add(BatchNormalization())\n",
    "model1.add(MaxPool2D((2, 2), strides=2, padding=\"same\"))\n",
    "model1.add(Conv2D(128, (3, 3), strides=1, padding=\"same\", activation=\"relu\"))\n",
    "model1.add(BatchNormalization())\n",
    "model1.add(MaxPool2D((2, 2), strides=2, padding=\"same\"))\n",
    "model1.add(Dropout(0.2))\n",
    "model1.add(Conv2D(64, (3, 3), strides=1, padding=\"same\", activation=\"relu\"))\n",
    "model1.add(BatchNormalization())\n",
    "model1.add(MaxPool2D((2, 2), strides=2, padding=\"same\"))\n",
    "model1.add(Conv2D(32, (3, 3), strides=1, padding=\"same\", activation=\"relu\"))\n",
    "model1.add(BatchNormalization())\n",
    "model1.add(MaxPool2D((2, 2), strides=2, padding=\"same\"))\n",
    "model1.add(Flatten())\n",
    "model1.add(Dense(units=512))\n",
    "model1.add(Dropout(0.3))\n",
    "model1.add(Dense(units=num_classes, activation=\"softmax\"))"
   ]
  },
  {
   "cell_type": "code",
   "execution_count": 7,
   "id": "70189222",
   "metadata": {},
   "outputs": [
    {
     "name": "stdout",
     "output_type": "stream",
     "text": [
      "WARNING:tensorflow:From C:\\Users\\48695\\anaconda3\\Lib\\site-packages\\keras\\src\\optimizers\\__init__.py:309: The name tf.train.Optimizer is deprecated. Please use tf.compat.v1.train.Optimizer instead.\n",
      "\n"
     ]
    }
   ],
   "source": [
    "model1.compile( \n",
    "    loss=loss_func,\n",
    "    metrics=['accuracy']\n",
    ")"
   ]
  },
  {
   "cell_type": "code",
   "execution_count": 8,
   "id": "b6c1c13a",
   "metadata": {},
   "outputs": [],
   "source": [
    "#model1.summary()"
   ]
  },
  {
   "cell_type": "code",
   "execution_count": 9,
   "id": "8da6ce74",
   "metadata": {},
   "outputs": [
    {
     "name": "stdout",
     "output_type": "stream",
     "text": [
      "Epoch 1/20\n",
      "WARNING:tensorflow:From C:\\Users\\48695\\anaconda3\\Lib\\site-packages\\keras\\src\\utils\\tf_utils.py:492: The name tf.ragged.RaggedTensorValue is deprecated. Please use tf.compat.v1.ragged.RaggedTensorValue instead.\n",
      "\n",
      "WARNING:tensorflow:From C:\\Users\\48695\\anaconda3\\Lib\\site-packages\\keras\\src\\engine\\base_layer_utils.py:384: The name tf.executing_eagerly_outside_functions is deprecated. Please use tf.compat.v1.executing_eagerly_outside_functions instead.\n",
      "\n",
      "4500/4500 [==============================] - 304s 67ms/step - loss: 1.5737 - accuracy: 0.4348 - val_loss: 1.6769 - val_accuracy: 0.3834\n",
      "Epoch 2/20\n",
      "4500/4500 [==============================] - 299s 66ms/step - loss: 1.2566 - accuracy: 0.5470 - val_loss: 1.5588 - val_accuracy: 0.4368\n",
      "Epoch 3/20\n",
      "4500/4500 [==============================] - 317s 70ms/step - loss: 1.1448 - accuracy: 0.5901 - val_loss: 1.2117 - val_accuracy: 0.5697\n",
      "Epoch 4/20\n",
      "4500/4500 [==============================] - 296s 66ms/step - loss: 1.0724 - accuracy: 0.6198 - val_loss: 1.1854 - val_accuracy: 0.5844\n",
      "Epoch 5/20\n",
      "4500/4500 [==============================] - 302s 67ms/step - loss: 1.0161 - accuracy: 0.6398 - val_loss: 1.2901 - val_accuracy: 0.5439\n",
      "Epoch 6/20\n",
      "4500/4500 [==============================] - 298s 66ms/step - loss: 0.9682 - accuracy: 0.6552 - val_loss: 1.1419 - val_accuracy: 0.6049\n",
      "Epoch 7/20\n",
      "4500/4500 [==============================] - 299s 67ms/step - loss: 0.9355 - accuracy: 0.6679 - val_loss: 1.1665 - val_accuracy: 0.5951\n",
      "Epoch 8/20\n",
      "4500/4500 [==============================] - 296s 66ms/step - loss: 0.8976 - accuracy: 0.6804 - val_loss: 1.1157 - val_accuracy: 0.6079\n",
      "Epoch 9/20\n",
      "4500/4500 [==============================] - 293s 65ms/step - loss: 0.8726 - accuracy: 0.6910 - val_loss: 1.0420 - val_accuracy: 0.6378\n",
      "Epoch 10/20\n",
      "4500/4500 [==============================] - 296s 66ms/step - loss: 0.8461 - accuracy: 0.6990 - val_loss: 1.1113 - val_accuracy: 0.6201\n",
      "Epoch 11/20\n",
      "4500/4500 [==============================] - 301s 67ms/step - loss: 0.8223 - accuracy: 0.7060 - val_loss: 1.1546 - val_accuracy: 0.6097\n",
      "Epoch 12/20\n",
      "4500/4500 [==============================] - 300s 67ms/step - loss: 0.8020 - accuracy: 0.7160 - val_loss: 1.2073 - val_accuracy: 0.5989\n",
      "Epoch 13/20\n",
      "4500/4500 [==============================] - 300s 67ms/step - loss: 0.7792 - accuracy: 0.7251 - val_loss: 1.1896 - val_accuracy: 0.6073\n",
      "Epoch 14/20\n",
      "4500/4500 [==============================] - 300s 67ms/step - loss: 0.7647 - accuracy: 0.7284 - val_loss: 1.0968 - val_accuracy: 0.6337\n",
      "Epoch 15/20\n",
      "4500/4500 [==============================] - 313s 69ms/step - loss: 0.7456 - accuracy: 0.7340 - val_loss: 1.1416 - val_accuracy: 0.6195\n",
      "Epoch 16/20\n",
      "4500/4500 [==============================] - 304s 68ms/step - loss: 0.7294 - accuracy: 0.7396 - val_loss: 1.1310 - val_accuracy: 0.6289\n",
      "Epoch 17/20\n",
      "4500/4500 [==============================] - 304s 67ms/step - loss: 0.7158 - accuracy: 0.7442 - val_loss: 1.1509 - val_accuracy: 0.6256\n",
      "Epoch 18/20\n",
      "4500/4500 [==============================] - 303s 67ms/step - loss: 0.6994 - accuracy: 0.7506 - val_loss: 1.1213 - val_accuracy: 0.6332\n",
      "Epoch 19/20\n",
      "4500/4500 [==============================] - 305s 68ms/step - loss: 0.6860 - accuracy: 0.7548 - val_loss: 1.1624 - val_accuracy: 0.6263\n",
      "Epoch 20/20\n",
      "4500/4500 [==============================] - 303s 67ms/step - loss: 0.6720 - accuracy: 0.7591 - val_loss: 1.1325 - val_accuracy: 0.6392\n"
     ]
    },
    {
     "data": {
      "text/plain": [
       "<keras.src.callbacks.History at 0x2aaebbbe310>"
      ]
     },
     "execution_count": 9,
     "metadata": {},
     "output_type": "execute_result"
    }
   ],
   "source": [
    "model1.fit(\n",
    "    train_ds,\n",
    "    validation_data=validation_ds, \n",
    "    epochs=20, \n",
    "    verbose=1\n",
    ")"
   ]
  },
  {
   "cell_type": "code",
   "execution_count": 20,
   "id": "e444188b",
   "metadata": {},
   "outputs": [],
   "source": [
    "from tensorflow.keras.layers import (\n",
    "    LayerNormalization\n",
    ")\n",
    "\n",
    "model3 = Sequential()\n",
    "model3.add(Conv2D(256, (3, 3), strides=1, padding=\"same\", activation=\"sigmoid\", \n",
    "                 input_shape=(32, 32, 3)))\n",
    "model3.add(LayerNormalization())\n",
    "model3.add(MaxPool2D((2, 2), strides=2, padding=\"same\"))\n",
    "model3.add(Conv2D(128, (3, 3), strides=1, padding=\"same\", activation=\"sigmoid\"))\n",
    "model3.add(LayerNormalization())\n",
    "model3.add(MaxPool2D((2, 2), strides=2, padding=\"same\"))\n",
    "model3.add(Dropout(0.2))\n",
    "model3.add(Conv2D(64, (3, 3), strides=1, padding=\"same\", activation=\"sigmoid\"))\n",
    "model3.add(LayerNormalization())\n",
    "model3.add(MaxPool2D((2, 2), strides=2, padding=\"same\"))\n",
    "model3.add(Conv2D(32, (3, 3), strides=1, padding=\"same\", activation=\"sigmoid\"))\n",
    "model3.add(LayerNormalization())\n",
    "model3.add(MaxPool2D((2, 2), strides=2, padding=\"same\"))\n",
    "model3.add(Conv2D(16, (3, 3), strides=1, padding=\"same\", activation=\"sigmoid\"))\n",
    "model3.add(LayerNormalization())\n",
    "model3.add(MaxPool2D((2, 2), strides=2, padding=\"same\"))\n",
    "model3.add(Flatten())\n",
    "model3.add(Dense(units=1024))\n",
    "model3.add(Dropout(0.3))\n",
    "model3.add(Dense(units=num_classes, activation=\"softmax\"))\n",
    "\n",
    "model3.compile( \n",
    "    optimizer=optimiser,\n",
    "    loss=loss_func,\n",
    "    metrics=['accuracy']\n",
    ")\n",
    "\n",
    "#model3.summary()"
   ]
  },
  {
   "cell_type": "code",
   "execution_count": 21,
   "id": "2f5ad205",
   "metadata": {},
   "outputs": [
    {
     "name": "stdout",
     "output_type": "stream",
     "text": [
      "Epoch 1/20\n",
      "4500/4500 [==============================] - 413s 91ms/step - loss: 1.7322 - accuracy: 0.3450 - val_loss: 1.5224 - val_accuracy: 0.4284\n",
      "Epoch 2/20\n",
      "4500/4500 [==============================] - 419s 93ms/step - loss: 1.4782 - accuracy: 0.4462 - val_loss: 1.3959 - val_accuracy: 0.4806\n",
      "Epoch 3/20\n",
      "4500/4500 [==============================] - 415s 92ms/step - loss: 1.3657 - accuracy: 0.4951 - val_loss: 1.3264 - val_accuracy: 0.5087\n",
      "Epoch 4/20\n",
      "4500/4500 [==============================] - 418s 93ms/step - loss: 1.3053 - accuracy: 0.5198 - val_loss: 1.2800 - val_accuracy: 0.5286\n",
      "Epoch 5/20\n",
      "4500/4500 [==============================] - 417s 93ms/step - loss: 1.2510 - accuracy: 0.5416 - val_loss: 1.2381 - val_accuracy: 0.5519\n",
      "Epoch 6/20\n",
      "4500/4500 [==============================] - 413s 92ms/step - loss: 1.2127 - accuracy: 0.5559 - val_loss: 1.2377 - val_accuracy: 0.5539\n",
      "Epoch 7/20\n",
      "4500/4500 [==============================] - 422s 94ms/step - loss: 1.1751 - accuracy: 0.5715 - val_loss: 1.2164 - val_accuracy: 0.5633\n",
      "Epoch 8/20\n",
      "4500/4500 [==============================] - 413s 92ms/step - loss: 1.1506 - accuracy: 0.5791 - val_loss: 1.2580 - val_accuracy: 0.5466\n",
      "Epoch 9/20\n",
      "4500/4500 [==============================] - 426s 95ms/step - loss: 1.1236 - accuracy: 0.5913 - val_loss: 1.1950 - val_accuracy: 0.5642\n",
      "Epoch 10/20\n",
      "4500/4500 [==============================] - 419s 93ms/step - loss: 1.1047 - accuracy: 0.6012 - val_loss: 1.1918 - val_accuracy: 0.5722\n",
      "Epoch 11/20\n",
      "4500/4500 [==============================] - 414s 92ms/step - loss: 1.0837 - accuracy: 0.6073 - val_loss: 1.1602 - val_accuracy: 0.5847\n",
      "Epoch 12/20\n",
      "4500/4500 [==============================] - 445s 99ms/step - loss: 1.0653 - accuracy: 0.6147 - val_loss: 1.1825 - val_accuracy: 0.5747\n",
      "Epoch 13/20\n",
      "4500/4500 [==============================] - 419s 93ms/step - loss: 1.0476 - accuracy: 0.6198 - val_loss: 1.1708 - val_accuracy: 0.5818\n",
      "Epoch 14/20\n",
      "4500/4500 [==============================] - 448s 100ms/step - loss: 1.0279 - accuracy: 0.6283 - val_loss: 1.1460 - val_accuracy: 0.5929\n",
      "Epoch 15/20\n",
      "4500/4500 [==============================] - 450s 100ms/step - loss: 1.0185 - accuracy: 0.6314 - val_loss: 1.1542 - val_accuracy: 0.5906\n",
      "Epoch 16/20\n",
      "4500/4500 [==============================] - 371s 83ms/step - loss: 1.0018 - accuracy: 0.6372 - val_loss: 1.1558 - val_accuracy: 0.5908\n",
      "Epoch 17/20\n",
      "4500/4500 [==============================] - 359s 80ms/step - loss: 0.9894 - accuracy: 0.6420 - val_loss: 1.1631 - val_accuracy: 0.5871\n",
      "Epoch 18/20\n",
      "4500/4500 [==============================] - 375s 83ms/step - loss: 0.9822 - accuracy: 0.6448 - val_loss: 1.1582 - val_accuracy: 0.5914\n",
      "Epoch 19/20\n",
      "4500/4500 [==============================] - 375s 83ms/step - loss: 0.9664 - accuracy: 0.6503 - val_loss: 1.1814 - val_accuracy: 0.5846\n",
      "Epoch 20/20\n",
      "4500/4500 [==============================] - 355s 79ms/step - loss: 0.9594 - accuracy: 0.6540 - val_loss: 1.1507 - val_accuracy: 0.5944\n"
     ]
    },
    {
     "data": {
      "text/plain": [
       "<keras.src.callbacks.History at 0x2aa8daa9210>"
      ]
     },
     "execution_count": 21,
     "metadata": {},
     "output_type": "execute_result"
    }
   ],
   "source": [
    "model3.fit(\n",
    "    train_ds,\n",
    "    validation_data=validation_ds, \n",
    "    epochs=20, \n",
    "    verbose=1\n",
    ")"
   ]
  }
 ],
 "metadata": {
  "kernelspec": {
   "display_name": "Python 3 (ipykernel)",
   "language": "python",
   "name": "python3"
  },
  "language_info": {
   "codemirror_mode": {
    "name": "ipython",
    "version": 3
   },
   "file_extension": ".py",
   "mimetype": "text/x-python",
   "name": "python",
   "nbconvert_exporter": "python",
   "pygments_lexer": "ipython3",
   "version": "3.11.4"
  }
 },
 "nbformat": 4,
 "nbformat_minor": 5
}
