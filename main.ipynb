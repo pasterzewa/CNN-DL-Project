{
 "cells": [
  {
   "cell_type": "code",
   "execution_count": 1,
   "id": "453412d6",
   "metadata": {},
   "outputs": [
    {
     "name": "stdout",
     "output_type": "stream",
     "text": [
      "WARNING:tensorflow:From C:\\Users\\48695\\anaconda3\\Lib\\site-packages\\keras\\src\\losses.py:2976: The name tf.losses.sparse_softmax_cross_entropy is deprecated. Please use tf.compat.v1.losses.sparse_softmax_cross_entropy instead.\n",
      "\n"
     ]
    }
   ],
   "source": [
    "import tensorflow as tf\n",
    "from tensorflow import keras\n",
    "import matplotlib.pyplot as plt\n",
    "%matplotlib inline\n",
    "import numpy as np\n",
    "import seaborn as sn\n",
    "import pathlib\n",
    "import os\n",
    "from os import listdir\n",
    "import glob\n",
    "from PIL import Image\n",
    "\n",
    "cinic_directory_train = 'C:\\\\Users\\\\48695\\\\Documents\\\\Studia\\\\DLM\\\\Projekt CNN\\\\cinic-10_image_classification_challenge-dataset\\\\train'\n",
    "cinic_directory_test = 'C:\\\\Users\\\\48695\\\\Documents\\\\Studia\\DLM\\\\Projekt CNN\\\\cinic-10_image_classification_challenge-dataset\\\\test'\n",
    "\n",
    "class_name = []\n",
    "file_name='output_fromKeras.csv'\n",
    "optimiser='adamax' # les best : Adam, nadam et adamax\n",
    "nb_epochs=50\n",
    "batch_size_choice=16\n",
    "image_size=(32, 32)\n",
    "loss_func='sparse_categorical_crossentropy'"
   ]
  },
  {
   "cell_type": "code",
   "execution_count": 2,
   "id": "a07c9e8c",
   "metadata": {},
   "outputs": [
    {
     "name": "stdout",
     "output_type": "stream",
     "text": [
      "Found 90000 files belonging to 10 classes.\n",
      "Using 72000 files for training.\n"
     ]
    }
   ],
   "source": [
    "# loading in the data \n",
    "train_ds = keras.preprocessing.image_dataset_from_directory(\n",
    "    cinic_directory_train,\n",
    "    validation_split=0.2,\n",
    "    subset=\"training\",\n",
    "    seed=1337,\n",
    "    image_size=image_size,\n",
    "    batch_size=batch_size_choice\n",
    ")"
   ]
  },
  {
   "cell_type": "code",
   "execution_count": 3,
   "id": "87a62c5e",
   "metadata": {},
   "outputs": [
    {
     "name": "stdout",
     "output_type": "stream",
     "text": [
      "Found 90000 files belonging to 10 classes.\n",
      "Using 18000 files for validation.\n"
     ]
    }
   ],
   "source": [
    "# loading in the data \n",
    "validation_ds = keras.preprocessing.image_dataset_from_directory(\n",
    "    cinic_directory_train,\n",
    "    validation_split=0.2,\n",
    "    subset=\"validation\",\n",
    "    seed=1337,\n",
    "    image_size=image_size,\n",
    "    batch_size=batch_size_choice\n",
    ")"
   ]
  },
  {
   "cell_type": "code",
   "execution_count": 9,
   "id": "7d7fcc3e",
   "metadata": {},
   "outputs": [
    {
     "name": "stdout",
     "output_type": "stream",
     "text": [
      "['airplane', 'automobile', 'bird', 'cat', 'deer', 'dog', 'frog', 'horse', 'ship', 'truck']\n"
     ]
    }
   ],
   "source": [
    "class_names= train_ds.class_names\n",
    "num_classes = len(class_names)\n",
    "print(class_names)"
   ]
  },
  {
   "cell_type": "code",
   "execution_count": null,
   "id": "c88c004b",
   "metadata": {},
   "outputs": [],
   "source": [
    "# Inicjalizacja słownika do zliczania liczby obrazów w każdej klasie\n",
    "#class_count = {class_name: 0 for class_name in class_names}\n",
    "\n",
    "# Przechodzenie przez zbiór danych i zliczanie obrazów w każdej klasie\n",
    "#for images, labels in train_ds:\n",
    "#    for label in labels.numpy():\n",
    "#        class_count[class_names[label]] += 1\n",
    "\n",
    "# Wyświetlenie liczby obrazów w każdej klasie\n",
    "#for class_name, count in class_count.items():\n",
    "#    print(f\"Liczba obrazów w klasie {class_name}: {count}\")\n",
    "\n",
    "# Dane do wykresu słupkowego\n",
    "#class_names = list(class_count.keys())\n",
    "#counts = list(class_count.values())\n",
    "\n",
    "# Tworzenie wykresu słupkowego\n",
    "#plt.figure(figsize=(10, 6))\n",
    "#plt.bar(class_names, counts, color='skyblue')\n",
    "#plt.xlabel('Klasa')\n",
    "#plt.ylabel('Liczba obrazów')\n",
    "#plt.title('Liczba obrazów w każdej klasie')\n",
    "#plt.xticks(rotation=45, ha='right')\n",
    "#plt.tight_layout()\n",
    "\n",
    "# Wyświetlenie wykresu\n",
    "#plt.show()"
   ]
  },
  {
   "cell_type": "code",
   "execution_count": 54,
   "id": "4b39c955",
   "metadata": {},
   "outputs": [],
   "source": [
    "from tensorflow.keras.models import Sequential\n",
    "from tensorflow.keras.layers import (\n",
    "    Dense,\n",
    "    Conv2D,\n",
    "    MaxPool2D,\n",
    "    Flatten,\n",
    "    Dropout,\n",
    "    BatchNormalization,\n",
    ")\n",
    "\n",
    "model1 = Sequential()\n",
    "model1.add(Conv2D(256, (3, 3), strides=1, padding=\"same\", activation=\"relu\", \n",
    "                 input_shape=(32, 32, 3)))\n",
    "model1.add(BatchNormalization())\n",
    "model1.add(MaxPool2D((2, 2), strides=2, padding=\"same\"))\n",
    "model1.add(Conv2D(128, (3, 3), strides=1, padding=\"same\", activation=\"relu\"))\n",
    "model1.add(BatchNormalization())\n",
    "model1.add(MaxPool2D((2, 2), strides=2, padding=\"same\"))\n",
    "model1.add(Dropout(0.2))\n",
    "model1.add(Conv2D(64, (3, 3), strides=1, padding=\"same\", activation=\"relu\"))\n",
    "model1.add(BatchNormalization())\n",
    "model1.add(MaxPool2D((2, 2), strides=2, padding=\"same\"))\n",
    "model1.add(Conv2D(32, (3, 3), strides=1, padding=\"same\", activation=\"relu\"))\n",
    "model1.add(BatchNormalization())\n",
    "model1.add(MaxPool2D((2, 2), strides=2, padding=\"same\"))\n",
    "model1.add(Flatten())\n",
    "model1.add(Dense(units=512))\n",
    "model1.add(Dropout(0.3))\n",
    "model1.add(Dense(units=num_classes, activation=\"softmax\"))"
   ]
  },
  {
   "cell_type": "code",
   "execution_count": 55,
   "id": "70189222",
   "metadata": {},
   "outputs": [],
   "source": [
    "model1.compile( \n",
    "    loss=loss_func,\n",
    "    metrics=['accuracy']\n",
    ")"
   ]
  },
  {
   "cell_type": "code",
   "execution_count": 56,
   "id": "b6c1c13a",
   "metadata": {},
   "outputs": [],
   "source": [
    "#model1.summary()"
   ]
  },
  {
   "cell_type": "code",
   "execution_count": 57,
   "id": "8da6ce74",
   "metadata": {},
   "outputs": [
    {
     "name": "stdout",
     "output_type": "stream",
     "text": [
      "Epoch 1/20\n",
      "4500/4500 [==============================] - 278s 62ms/step - loss: 1.5761 - accuracy: 0.4377 - val_loss: 1.4376 - val_accuracy: 0.4564\n",
      "Epoch 2/20\n",
      "4500/4500 [==============================] - 310s 69ms/step - loss: 1.2541 - accuracy: 0.5491 - val_loss: 1.2924 - val_accuracy: 0.5276\n",
      "Epoch 3/20\n",
      "4500/4500 [==============================] - 312s 69ms/step - loss: 1.1494 - accuracy: 0.5887 - val_loss: 1.2533 - val_accuracy: 0.5430\n",
      "Epoch 4/20\n",
      "4500/4500 [==============================] - 278s 62ms/step - loss: 1.0783 - accuracy: 0.6156 - val_loss: 1.3752 - val_accuracy: 0.5078\n",
      "Epoch 5/20\n",
      "4500/4500 [==============================] - 290s 65ms/step - loss: 1.0230 - accuracy: 0.6362 - val_loss: 1.2536 - val_accuracy: 0.5633\n",
      "Epoch 6/20\n",
      "4500/4500 [==============================] - 293s 65ms/step - loss: 0.9796 - accuracy: 0.6524 - val_loss: 1.1145 - val_accuracy: 0.6064\n",
      "Epoch 7/20\n",
      "4500/4500 [==============================] - 287s 64ms/step - loss: 0.9403 - accuracy: 0.6655 - val_loss: 1.1160 - val_accuracy: 0.6073\n",
      "Epoch 8/20\n",
      "4500/4500 [==============================] - 272s 60ms/step - loss: 0.9060 - accuracy: 0.6772 - val_loss: 1.2586 - val_accuracy: 0.5689\n",
      "Epoch 9/20\n",
      "4500/4500 [==============================] - 271s 60ms/step - loss: 0.8747 - accuracy: 0.6900 - val_loss: 1.0928 - val_accuracy: 0.6182\n",
      "Epoch 10/20\n",
      "4500/4500 [==============================] - 262s 58ms/step - loss: 0.8514 - accuracy: 0.6972 - val_loss: 1.0796 - val_accuracy: 0.6308\n",
      "Epoch 11/20\n",
      "4500/4500 [==============================] - 273s 61ms/step - loss: 0.8282 - accuracy: 0.7057 - val_loss: 1.1418 - val_accuracy: 0.6061\n",
      "Epoch 12/20\n",
      "4500/4500 [==============================] - 290s 64ms/step - loss: 0.8082 - accuracy: 0.7118 - val_loss: 1.1148 - val_accuracy: 0.6138\n",
      "Epoch 13/20\n",
      "4500/4500 [==============================] - 268s 59ms/step - loss: 0.7881 - accuracy: 0.7206 - val_loss: 1.0900 - val_accuracy: 0.6296\n",
      "Epoch 14/20\n",
      "4500/4500 [==============================] - 269s 60ms/step - loss: 0.7690 - accuracy: 0.7269 - val_loss: 1.0766 - val_accuracy: 0.6341\n",
      "Epoch 15/20\n",
      "4500/4500 [==============================] - 285s 63ms/step - loss: 0.7523 - accuracy: 0.7319 - val_loss: 1.0973 - val_accuracy: 0.6282\n",
      "Epoch 16/20\n",
      "4500/4500 [==============================] - 286s 63ms/step - loss: 0.7362 - accuracy: 0.7387 - val_loss: 1.1101 - val_accuracy: 0.6231\n",
      "Epoch 17/20\n",
      "4500/4500 [==============================] - 306s 68ms/step - loss: 0.7230 - accuracy: 0.7427 - val_loss: 1.0710 - val_accuracy: 0.6371\n",
      "Epoch 18/20\n",
      "4500/4500 [==============================] - 292s 65ms/step - loss: 0.7076 - accuracy: 0.7499 - val_loss: 1.1698 - val_accuracy: 0.6111\n",
      "Epoch 19/20\n",
      "4500/4500 [==============================] - 288s 64ms/step - loss: 0.6890 - accuracy: 0.7544 - val_loss: 1.0863 - val_accuracy: 0.6360\n",
      "Epoch 20/20\n",
      "4500/4500 [==============================] - 288s 64ms/step - loss: 0.6856 - accuracy: 0.7544 - val_loss: 1.0864 - val_accuracy: 0.6404\n"
     ]
    },
    {
     "data": {
      "text/plain": [
       "<keras.src.callbacks.History at 0x2a9437f6010>"
      ]
     },
     "execution_count": 57,
     "metadata": {},
     "output_type": "execute_result"
    }
   ],
   "source": [
    "model1.fit(\n",
    "    train_ds,\n",
    "    validation_data=validation_ds, \n",
    "    epochs=20, \n",
    "    verbose=1\n",
    ")"
   ]
  },
  {
   "cell_type": "code",
   "execution_count": null,
   "id": "e444188b",
   "metadata": {},
   "outputs": [],
   "source": []
  }
 ],
 "metadata": {
  "kernelspec": {
   "display_name": "Python 3 (ipykernel)",
   "language": "python",
   "name": "python3"
  },
  "language_info": {
   "codemirror_mode": {
    "name": "ipython",
    "version": 3
   },
   "file_extension": ".py",
   "mimetype": "text/x-python",
   "name": "python",
   "nbconvert_exporter": "python",
   "pygments_lexer": "ipython3",
   "version": "3.11.4"
  }
 },
 "nbformat": 4,
 "nbformat_minor": 5
}
